{
 "cells": [
  {
   "cell_type": "markdown",
   "metadata": {},
   "source": [
    "## Description\n",
    "Attached you find a randomly sampled extract of some of our policies.\n",
    "We want to be able to predict the \"number_of_payment_faults\" \n",
    "(this is the number of payment attempts which failed when we try to charge the money for the policy from the customer) in the future for each new policy.\n",
    "There is a small legend in the document to describe some of the fields.\n",
    "If there are open questions about the data you can't answer by yourself do not hesitate to approach us!\n",
    "Feel free to use whatever tool or language you feel comfortable with to solve the task.\n",
    "\n",
    "## Task\n",
    "Create a statistical model to predict the \"number_of_payment_faults\" for a policy.\n",
    "There is no fixed or expected outcome what we want to see from you. \n",
    "We prefer quality over speed. \n",
    "It does not only matter if your solution yields correct results, but also your overall project structure, tools used, etc.\n"
   ]
  },
  {
   "cell_type": "code",
   "execution_count": 581,
   "metadata": {},
   "outputs": [],
   "source": [
    "import collections\n",
    "\n",
    "import math\n",
    "\n",
    "from datetime import datetime\n",
    "\n",
    "import statsmodels.formula.api as smf\n",
    "\n",
    "import pandas as pd\n",
    "from pandas.api.types import is_string_dtype, is_numeric_dtype\n",
    "\n",
    "import numpy as np\n",
    "from numpy import inf\n",
    "\n",
    "from scipy import stats\n",
    "from scipy.stats import skew, norm\n",
    "from scipy.stats import randint as sp_randint\n",
    "from scipy.special import boxcox1p\n",
    "\n",
    "import matplotlib.pyplot as plt\n",
    "import matplotlib.image as mpimg\n",
    "from matplotlib import pyplot\n",
    "%matplotlib inline\n",
    "import seaborn as sns\n",
    "color = sns.color_palette()\n",
    "sns.set_style('darkgrid')\n",
    "\n",
    "from sklearn.model_selection import StratifiedKFold\n",
    "from sklearn.model_selection import RandomizedSearchCV, GridSearchCV\n",
    "from sklearn.model_selection import KFold, cross_val_score, StratifiedKFold, train_test_split\n",
    "from sklearn.ensemble import RandomForestRegressor, RandomForestClassifier, GradientBoostingRegressor\n",
    "from sklearn import linear_model\n",
    "from sklearn.linear_model import LinearRegression, ElasticNet, Lasso, BayesianRidge, LassoLarsIC\n",
    "from sklearn.preprocessing import Normalizer, StandardScaler, RobustScaler\n",
    "from sklearn import metrics\n",
    "from sklearn.metrics import mean_absolute_error, mean_squared_error, confusion_matrix, classification_report\n",
    "from sklearn.metrics import precision_recall_fscore_support, accuracy_score\n",
    "from sklearn.kernel_ridge import KernelRidge\n",
    "from sklearn.pipeline import make_pipeline\n",
    "from sklearn.base import BaseEstimator, TransformerMixin, RegressorMixin, clone\n",
    "\n",
    "import xgboost as xgb\n",
    "from xgboost import XGBClassifier\n",
    "from xgboost import plot_importance\n",
    "\n",
    "import lightgbm as lgb\n",
    "\n",
    "from hyperopt import hp, tpe, STATUS_OK, Trials\n",
    "from hyperopt.fmin import fmin\n",
    "\n",
    "import warnings\n",
    "warnings.filterwarnings(\"ignore\")\n",
    "def ignore_warn(*args, **kwargs):\n",
    "    pass\n",
    "warnings.warn = ignore_warn #ignore annoying warning (from sklearn and seaborn)\n",
    "\n",
    "pd.set_option('display.float_format', lambda x: '{:.3f}'.format(x)) #Limiting floats output to 3 decimal points\n",
    "\n",
    "#from subprocess import check_output\n",
    "#print(check_output([\"ls\", \"../input\"]).decode(\"utf8\")) #check the files available in the directory\n",
    "\n",
    "np.random.seed(42)"
   ]
  },
  {
   "cell_type": "markdown",
   "metadata": {},
   "source": [
    "## 1. Load Data"
   ]
  },
  {
   "cell_type": "code",
   "execution_count": 582,
   "metadata": {},
   "outputs": [],
   "source": [
    "df_friday = pd.read_excel('Your_Dataset.xlsx')"
   ]
  },
  {
   "cell_type": "code",
   "execution_count": 583,
   "metadata": {},
   "outputs": [
    {
     "data": {
      "text/plain": [
       "(27950, 18)"
      ]
     },
     "execution_count": 583,
     "metadata": {},
     "output_type": "execute_result"
    }
   ],
   "source": [
    "df_friday.shape"
   ]
  },
  {
   "cell_type": "code",
   "execution_count": 584,
   "metadata": {},
   "outputs": [
    {
     "data": {
      "text/html": [
       "<div>\n",
       "<style scoped>\n",
       "    .dataframe tbody tr th:only-of-type {\n",
       "        vertical-align: middle;\n",
       "    }\n",
       "\n",
       "    .dataframe tbody tr th {\n",
       "        vertical-align: top;\n",
       "    }\n",
       "\n",
       "    .dataframe thead th {\n",
       "        text-align: right;\n",
       "    }\n",
       "</style>\n",
       "<table border=\"1\" class=\"dataframe\">\n",
       "  <thead>\n",
       "    <tr style=\"text-align: right;\">\n",
       "      <th></th>\n",
       "      <th>contract_nr</th>\n",
       "      <th>sf_class_tpl</th>\n",
       "      <th>sf_class_fc</th>\n",
       "      <th>age_insured_person</th>\n",
       "      <th>policy_start</th>\n",
       "      <th>tariff_type</th>\n",
       "      <th>type_of_insurance</th>\n",
       "      <th>comprehensive_product</th>\n",
       "      <th>fc_deductible</th>\n",
       "      <th>pc_deductible</th>\n",
       "      <th>payment_interval</th>\n",
       "      <th>insured_parties</th>\n",
       "      <th>profession_group</th>\n",
       "      <th>car_age_at_purchase</th>\n",
       "      <th>car_age_contract_start</th>\n",
       "      <th>annual_mileage</th>\n",
       "      <th>risk_predictor_zip_code</th>\n",
       "      <th>number_of_payment_faults</th>\n",
       "    </tr>\n",
       "  </thead>\n",
       "  <tbody>\n",
       "    <tr>\n",
       "      <th>0</th>\n",
       "      <td>1</td>\n",
       "      <td>SF1/2</td>\n",
       "      <td>SF1/2</td>\n",
       "      <td>34</td>\n",
       "      <td>YOB</td>\n",
       "      <td>Original</td>\n",
       "      <td>New Vehicle</td>\n",
       "      <td>NaN</td>\n",
       "      <td>0</td>\n",
       "      <td>0</td>\n",
       "      <td>Monthly</td>\n",
       "      <td>Insured and Spouse/Partner</td>\n",
       "      <td>Standard</td>\n",
       "      <td>10</td>\n",
       "      <td>11</td>\n",
       "      <td>12000</td>\n",
       "      <td>5.000</td>\n",
       "      <td>1.000</td>\n",
       "    </tr>\n",
       "    <tr>\n",
       "      <th>1</th>\n",
       "      <td>2</td>\n",
       "      <td>SF31</td>\n",
       "      <td>SF31</td>\n",
       "      <td>55</td>\n",
       "      <td>YOB</td>\n",
       "      <td>Original</td>\n",
       "      <td>Change of Insurer</td>\n",
       "      <td>NaN</td>\n",
       "      <td>0</td>\n",
       "      <td>0</td>\n",
       "      <td>Pay In Full</td>\n",
       "      <td>Insured and Spouse/Partner</td>\n",
       "      <td>Standard</td>\n",
       "      <td>2</td>\n",
       "      <td>7</td>\n",
       "      <td>9000</td>\n",
       "      <td>6.000</td>\n",
       "      <td>nan</td>\n",
       "    </tr>\n",
       "    <tr>\n",
       "      <th>2</th>\n",
       "      <td>3</td>\n",
       "      <td>SF5</td>\n",
       "      <td>SF5</td>\n",
       "      <td>52</td>\n",
       "      <td>YOB</td>\n",
       "      <td>Original</td>\n",
       "      <td>New Vehicle</td>\n",
       "      <td>VK</td>\n",
       "      <td>300</td>\n",
       "      <td>150</td>\n",
       "      <td>Monthly</td>\n",
       "      <td>Insured and Spouse/Partner</td>\n",
       "      <td>Standard</td>\n",
       "      <td>11</td>\n",
       "      <td>12</td>\n",
       "      <td>20000</td>\n",
       "      <td>1.000</td>\n",
       "      <td>nan</td>\n",
       "    </tr>\n",
       "    <tr>\n",
       "      <th>3</th>\n",
       "      <td>4</td>\n",
       "      <td>SF15</td>\n",
       "      <td>SF15</td>\n",
       "      <td>41</td>\n",
       "      <td>YEB</td>\n",
       "      <td>Original</td>\n",
       "      <td>Change of Insurer</td>\n",
       "      <td>TK</td>\n",
       "      <td>0</td>\n",
       "      <td>150</td>\n",
       "      <td>Monthly</td>\n",
       "      <td>Insured and Spouse/Partner</td>\n",
       "      <td>Standard</td>\n",
       "      <td>0</td>\n",
       "      <td>9</td>\n",
       "      <td>15000</td>\n",
       "      <td>6.000</td>\n",
       "      <td>nan</td>\n",
       "    </tr>\n",
       "    <tr>\n",
       "      <th>4</th>\n",
       "      <td>5</td>\n",
       "      <td>SF17</td>\n",
       "      <td>SF18</td>\n",
       "      <td>42</td>\n",
       "      <td>YOB</td>\n",
       "      <td>Original</td>\n",
       "      <td>Change of Insurer</td>\n",
       "      <td>VK</td>\n",
       "      <td>300</td>\n",
       "      <td>150</td>\n",
       "      <td>Monthly</td>\n",
       "      <td>Insured and Spouse/Partner</td>\n",
       "      <td>Standard</td>\n",
       "      <td>0</td>\n",
       "      <td>2</td>\n",
       "      <td>15000</td>\n",
       "      <td>3.000</td>\n",
       "      <td>nan</td>\n",
       "    </tr>\n",
       "    <tr>\n",
       "      <th>5</th>\n",
       "      <td>6</td>\n",
       "      <td>SF7</td>\n",
       "      <td>SF13</td>\n",
       "      <td>37</td>\n",
       "      <td>YOB</td>\n",
       "      <td>Original</td>\n",
       "      <td>New Vehicle</td>\n",
       "      <td>VK</td>\n",
       "      <td>300</td>\n",
       "      <td>150</td>\n",
       "      <td>Monthly</td>\n",
       "      <td>Insured and Spouse/Partner</td>\n",
       "      <td>Standard</td>\n",
       "      <td>0</td>\n",
       "      <td>0</td>\n",
       "      <td>15000</td>\n",
       "      <td>7.000</td>\n",
       "      <td>nan</td>\n",
       "    </tr>\n",
       "    <tr>\n",
       "      <th>6</th>\n",
       "      <td>7</td>\n",
       "      <td>SF9</td>\n",
       "      <td>SF9</td>\n",
       "      <td>37</td>\n",
       "      <td>YEB</td>\n",
       "      <td>Original</td>\n",
       "      <td>Change of Insurer</td>\n",
       "      <td>VK</td>\n",
       "      <td>300</td>\n",
       "      <td>300</td>\n",
       "      <td>Monthly</td>\n",
       "      <td>Insured and Spouse/Partner</td>\n",
       "      <td>Standard</td>\n",
       "      <td>0</td>\n",
       "      <td>2</td>\n",
       "      <td>9000</td>\n",
       "      <td>7.000</td>\n",
       "      <td>nan</td>\n",
       "    </tr>\n",
       "    <tr>\n",
       "      <th>7</th>\n",
       "      <td>8</td>\n",
       "      <td>SF3</td>\n",
       "      <td>SF3</td>\n",
       "      <td>22</td>\n",
       "      <td>YEB</td>\n",
       "      <td>Pay per km</td>\n",
       "      <td>Change of Insurer</td>\n",
       "      <td>VK</td>\n",
       "      <td>300</td>\n",
       "      <td>150</td>\n",
       "      <td>Monthly</td>\n",
       "      <td>Insured and Others</td>\n",
       "      <td>Standard</td>\n",
       "      <td>0</td>\n",
       "      <td>3</td>\n",
       "      <td>6000</td>\n",
       "      <td>3.000</td>\n",
       "      <td>nan</td>\n",
       "    </tr>\n",
       "    <tr>\n",
       "      <th>8</th>\n",
       "      <td>9</td>\n",
       "      <td>SF19</td>\n",
       "      <td>SF14</td>\n",
       "      <td>78</td>\n",
       "      <td>YOB</td>\n",
       "      <td>Original</td>\n",
       "      <td>Change of Insurer</td>\n",
       "      <td>VK</td>\n",
       "      <td>300</td>\n",
       "      <td>150</td>\n",
       "      <td>Monthly</td>\n",
       "      <td>Insured and Spouse/Partner</td>\n",
       "      <td>Standard</td>\n",
       "      <td>0</td>\n",
       "      <td>3</td>\n",
       "      <td>6000</td>\n",
       "      <td>1.000</td>\n",
       "      <td>nan</td>\n",
       "    </tr>\n",
       "    <tr>\n",
       "      <th>9</th>\n",
       "      <td>10</td>\n",
       "      <td>SF4</td>\n",
       "      <td>SF4</td>\n",
       "      <td>34</td>\n",
       "      <td>YEB</td>\n",
       "      <td>Original</td>\n",
       "      <td>Change of Insurer</td>\n",
       "      <td>VK</td>\n",
       "      <td>500</td>\n",
       "      <td>150</td>\n",
       "      <td>Monthly</td>\n",
       "      <td>Insured and Spouse/Partner</td>\n",
       "      <td>Standard</td>\n",
       "      <td>0</td>\n",
       "      <td>3</td>\n",
       "      <td>6000</td>\n",
       "      <td>6.000</td>\n",
       "      <td>nan</td>\n",
       "    </tr>\n",
       "    <tr>\n",
       "      <th>10</th>\n",
       "      <td>11</td>\n",
       "      <td>SF11</td>\n",
       "      <td>SF11</td>\n",
       "      <td>48</td>\n",
       "      <td>YEB</td>\n",
       "      <td>Original</td>\n",
       "      <td>Change of Insurer</td>\n",
       "      <td>NaN</td>\n",
       "      <td>0</td>\n",
       "      <td>0</td>\n",
       "      <td>Monthly</td>\n",
       "      <td>Insured and Others</td>\n",
       "      <td>Standard</td>\n",
       "      <td>6</td>\n",
       "      <td>9</td>\n",
       "      <td>6000</td>\n",
       "      <td>7.000</td>\n",
       "      <td>nan</td>\n",
       "    </tr>\n",
       "    <tr>\n",
       "      <th>11</th>\n",
       "      <td>12</td>\n",
       "      <td>SF27</td>\n",
       "      <td>SF27</td>\n",
       "      <td>50</td>\n",
       "      <td>YOB</td>\n",
       "      <td>Original</td>\n",
       "      <td>New Vehicle</td>\n",
       "      <td>VK</td>\n",
       "      <td>300</td>\n",
       "      <td>150</td>\n",
       "      <td>Monthly</td>\n",
       "      <td>Insured and Others</td>\n",
       "      <td>Public service</td>\n",
       "      <td>2</td>\n",
       "      <td>3</td>\n",
       "      <td>15000</td>\n",
       "      <td>1.000</td>\n",
       "      <td>nan</td>\n",
       "    </tr>\n",
       "    <tr>\n",
       "      <th>12</th>\n",
       "      <td>13</td>\n",
       "      <td>SF14</td>\n",
       "      <td>SF20</td>\n",
       "      <td>41</td>\n",
       "      <td>YOB</td>\n",
       "      <td>Original</td>\n",
       "      <td>New Vehicle</td>\n",
       "      <td>NaN</td>\n",
       "      <td>0</td>\n",
       "      <td>0</td>\n",
       "      <td>Monthly</td>\n",
       "      <td>Insured and Spouse/Partner</td>\n",
       "      <td>Public service</td>\n",
       "      <td>1</td>\n",
       "      <td>2</td>\n",
       "      <td>15000</td>\n",
       "      <td>6.000</td>\n",
       "      <td>nan</td>\n",
       "    </tr>\n",
       "    <tr>\n",
       "      <th>13</th>\n",
       "      <td>14</td>\n",
       "      <td>SF36</td>\n",
       "      <td>SF36</td>\n",
       "      <td>78</td>\n",
       "      <td>YEB</td>\n",
       "      <td>Original</td>\n",
       "      <td>Change of Insurer</td>\n",
       "      <td>TK</td>\n",
       "      <td>0</td>\n",
       "      <td>150</td>\n",
       "      <td>Monthly</td>\n",
       "      <td>Insured and Spouse/Partner</td>\n",
       "      <td>Standard</td>\n",
       "      <td>0</td>\n",
       "      <td>13</td>\n",
       "      <td>9000</td>\n",
       "      <td>2.000</td>\n",
       "      <td>nan</td>\n",
       "    </tr>\n",
       "    <tr>\n",
       "      <th>14</th>\n",
       "      <td>15</td>\n",
       "      <td>SF21</td>\n",
       "      <td>SF30</td>\n",
       "      <td>79</td>\n",
       "      <td>YEB</td>\n",
       "      <td>Original</td>\n",
       "      <td>Change of Insurer</td>\n",
       "      <td>VK</td>\n",
       "      <td>300</td>\n",
       "      <td>150</td>\n",
       "      <td>Monthly</td>\n",
       "      <td>Insured and Spouse/Partner</td>\n",
       "      <td>Standard</td>\n",
       "      <td>0</td>\n",
       "      <td>3</td>\n",
       "      <td>12000</td>\n",
       "      <td>7.000</td>\n",
       "      <td>nan</td>\n",
       "    </tr>\n",
       "    <tr>\n",
       "      <th>15</th>\n",
       "      <td>16</td>\n",
       "      <td>SF6</td>\n",
       "      <td>SF16</td>\n",
       "      <td>44</td>\n",
       "      <td>YEB</td>\n",
       "      <td>Original</td>\n",
       "      <td>Change of Insurer</td>\n",
       "      <td>VK</td>\n",
       "      <td>500</td>\n",
       "      <td>150</td>\n",
       "      <td>Monthly</td>\n",
       "      <td>Insured and Others</td>\n",
       "      <td>Standard</td>\n",
       "      <td>0</td>\n",
       "      <td>4</td>\n",
       "      <td>12000</td>\n",
       "      <td>4.000</td>\n",
       "      <td>nan</td>\n",
       "    </tr>\n",
       "    <tr>\n",
       "      <th>16</th>\n",
       "      <td>17</td>\n",
       "      <td>SF18</td>\n",
       "      <td>SF18</td>\n",
       "      <td>37</td>\n",
       "      <td>YEB</td>\n",
       "      <td>Original</td>\n",
       "      <td>Change of Insurer</td>\n",
       "      <td>TK</td>\n",
       "      <td>0</td>\n",
       "      <td>150</td>\n",
       "      <td>Monthly</td>\n",
       "      <td>Insured and Others</td>\n",
       "      <td>Standard</td>\n",
       "      <td>10</td>\n",
       "      <td>16</td>\n",
       "      <td>9000</td>\n",
       "      <td>5.000</td>\n",
       "      <td>nan</td>\n",
       "    </tr>\n",
       "    <tr>\n",
       "      <th>17</th>\n",
       "      <td>18</td>\n",
       "      <td>SF18</td>\n",
       "      <td>SF11</td>\n",
       "      <td>45</td>\n",
       "      <td>YEB</td>\n",
       "      <td>Original</td>\n",
       "      <td>Change of Insurer</td>\n",
       "      <td>VK</td>\n",
       "      <td>300</td>\n",
       "      <td>150</td>\n",
       "      <td>Monthly</td>\n",
       "      <td>Insured and Spouse/Partner</td>\n",
       "      <td>Public service</td>\n",
       "      <td>0</td>\n",
       "      <td>6</td>\n",
       "      <td>15000</td>\n",
       "      <td>9.000</td>\n",
       "      <td>nan</td>\n",
       "    </tr>\n",
       "    <tr>\n",
       "      <th>18</th>\n",
       "      <td>19</td>\n",
       "      <td>SF2</td>\n",
       "      <td>SF7</td>\n",
       "      <td>26</td>\n",
       "      <td>YEB</td>\n",
       "      <td>Original</td>\n",
       "      <td>Change of Insurer</td>\n",
       "      <td>VK</td>\n",
       "      <td>300</td>\n",
       "      <td>150</td>\n",
       "      <td>Monthly</td>\n",
       "      <td>Insured and Spouse/Partner</td>\n",
       "      <td>Standard</td>\n",
       "      <td>4</td>\n",
       "      <td>8</td>\n",
       "      <td>20000</td>\n",
       "      <td>6.000</td>\n",
       "      <td>nan</td>\n",
       "    </tr>\n",
       "    <tr>\n",
       "      <th>19</th>\n",
       "      <td>20</td>\n",
       "      <td>SF22</td>\n",
       "      <td>SF22</td>\n",
       "      <td>44</td>\n",
       "      <td>YEB</td>\n",
       "      <td>Original</td>\n",
       "      <td>Change of Insurer</td>\n",
       "      <td>VK</td>\n",
       "      <td>500</td>\n",
       "      <td>150</td>\n",
       "      <td>Monthly</td>\n",
       "      <td>Insured and Spouse/Partner</td>\n",
       "      <td>Standard</td>\n",
       "      <td>0</td>\n",
       "      <td>3</td>\n",
       "      <td>12000</td>\n",
       "      <td>4.000</td>\n",
       "      <td>nan</td>\n",
       "    </tr>\n",
       "  </tbody>\n",
       "</table>\n",
       "</div>"
      ],
      "text/plain": [
       "    contract_nr sf_class_tpl sf_class_fc  age_insured_person policy_start  \\\n",
       "0             1        SF1/2       SF1/2                  34          YOB   \n",
       "1             2         SF31        SF31                  55          YOB   \n",
       "2             3          SF5         SF5                  52          YOB   \n",
       "3             4         SF15        SF15                  41          YEB   \n",
       "4             5         SF17        SF18                  42          YOB   \n",
       "5             6          SF7        SF13                  37          YOB   \n",
       "6             7          SF9         SF9                  37          YEB   \n",
       "7             8          SF3         SF3                  22          YEB   \n",
       "8             9         SF19        SF14                  78          YOB   \n",
       "9            10          SF4         SF4                  34          YEB   \n",
       "10           11         SF11        SF11                  48          YEB   \n",
       "11           12         SF27        SF27                  50          YOB   \n",
       "12           13         SF14        SF20                  41          YOB   \n",
       "13           14         SF36        SF36                  78          YEB   \n",
       "14           15         SF21        SF30                  79          YEB   \n",
       "15           16          SF6        SF16                  44          YEB   \n",
       "16           17         SF18        SF18                  37          YEB   \n",
       "17           18         SF18        SF11                  45          YEB   \n",
       "18           19          SF2         SF7                  26          YEB   \n",
       "19           20         SF22        SF22                  44          YEB   \n",
       "\n",
       "   tariff_type  type_of_insurance comprehensive_product  fc_deductible  \\\n",
       "0     Original        New Vehicle                   NaN              0   \n",
       "1     Original  Change of Insurer                   NaN              0   \n",
       "2     Original        New Vehicle                    VK            300   \n",
       "3     Original  Change of Insurer                    TK              0   \n",
       "4     Original  Change of Insurer                    VK            300   \n",
       "5     Original        New Vehicle                    VK            300   \n",
       "6     Original  Change of Insurer                    VK            300   \n",
       "7   Pay per km  Change of Insurer                    VK            300   \n",
       "8     Original  Change of Insurer                    VK            300   \n",
       "9     Original  Change of Insurer                    VK            500   \n",
       "10    Original  Change of Insurer                   NaN              0   \n",
       "11    Original        New Vehicle                    VK            300   \n",
       "12    Original        New Vehicle                   NaN              0   \n",
       "13    Original  Change of Insurer                    TK              0   \n",
       "14    Original  Change of Insurer                    VK            300   \n",
       "15    Original  Change of Insurer                    VK            500   \n",
       "16    Original  Change of Insurer                    TK              0   \n",
       "17    Original  Change of Insurer                    VK            300   \n",
       "18    Original  Change of Insurer                    VK            300   \n",
       "19    Original  Change of Insurer                    VK            500   \n",
       "\n",
       "    pc_deductible payment_interval             insured_parties  \\\n",
       "0               0          Monthly  Insured and Spouse/Partner   \n",
       "1               0      Pay In Full  Insured and Spouse/Partner   \n",
       "2             150          Monthly  Insured and Spouse/Partner   \n",
       "3             150          Monthly  Insured and Spouse/Partner   \n",
       "4             150          Monthly  Insured and Spouse/Partner   \n",
       "5             150          Monthly  Insured and Spouse/Partner   \n",
       "6             300          Monthly  Insured and Spouse/Partner   \n",
       "7             150          Monthly          Insured and Others   \n",
       "8             150          Monthly  Insured and Spouse/Partner   \n",
       "9             150          Monthly  Insured and Spouse/Partner   \n",
       "10              0          Monthly          Insured and Others   \n",
       "11            150          Monthly          Insured and Others   \n",
       "12              0          Monthly  Insured and Spouse/Partner   \n",
       "13            150          Monthly  Insured and Spouse/Partner   \n",
       "14            150          Monthly  Insured and Spouse/Partner   \n",
       "15            150          Monthly          Insured and Others   \n",
       "16            150          Monthly          Insured and Others   \n",
       "17            150          Monthly  Insured and Spouse/Partner   \n",
       "18            150          Monthly  Insured and Spouse/Partner   \n",
       "19            150          Monthly  Insured and Spouse/Partner   \n",
       "\n",
       "   profession_group  car_age_at_purchase  car_age_contract_start  \\\n",
       "0          Standard                   10                      11   \n",
       "1          Standard                    2                       7   \n",
       "2          Standard                   11                      12   \n",
       "3          Standard                    0                       9   \n",
       "4          Standard                    0                       2   \n",
       "5          Standard                    0                       0   \n",
       "6          Standard                    0                       2   \n",
       "7          Standard                    0                       3   \n",
       "8          Standard                    0                       3   \n",
       "9          Standard                    0                       3   \n",
       "10         Standard                    6                       9   \n",
       "11   Public service                    2                       3   \n",
       "12   Public service                    1                       2   \n",
       "13         Standard                    0                      13   \n",
       "14         Standard                    0                       3   \n",
       "15         Standard                    0                       4   \n",
       "16         Standard                   10                      16   \n",
       "17   Public service                    0                       6   \n",
       "18         Standard                    4                       8   \n",
       "19         Standard                    0                       3   \n",
       "\n",
       "    annual_mileage  risk_predictor_zip_code  number_of_payment_faults  \n",
       "0            12000                    5.000                     1.000  \n",
       "1             9000                    6.000                       nan  \n",
       "2            20000                    1.000                       nan  \n",
       "3            15000                    6.000                       nan  \n",
       "4            15000                    3.000                       nan  \n",
       "5            15000                    7.000                       nan  \n",
       "6             9000                    7.000                       nan  \n",
       "7             6000                    3.000                       nan  \n",
       "8             6000                    1.000                       nan  \n",
       "9             6000                    6.000                       nan  \n",
       "10            6000                    7.000                       nan  \n",
       "11           15000                    1.000                       nan  \n",
       "12           15000                    6.000                       nan  \n",
       "13            9000                    2.000                       nan  \n",
       "14           12000                    7.000                       nan  \n",
       "15           12000                    4.000                       nan  \n",
       "16            9000                    5.000                       nan  \n",
       "17           15000                    9.000                       nan  \n",
       "18           20000                    6.000                       nan  \n",
       "19           12000                    4.000                       nan  "
      ]
     },
     "execution_count": 584,
     "metadata": {},
     "output_type": "execute_result"
    }
   ],
   "source": [
    "df_friday.head(20)"
   ]
  },
  {
   "cell_type": "code",
   "execution_count": 585,
   "metadata": {},
   "outputs": [],
   "source": [
    "df_train = df_friday[df_friday['number_of_payment_faults'].notnull()]"
   ]
  },
  {
   "cell_type": "code",
   "execution_count": 586,
   "metadata": {},
   "outputs": [],
   "source": [
    "df_test = df_friday[df_friday['number_of_payment_faults'].isnull()]"
   ]
  },
  {
   "cell_type": "code",
   "execution_count": 587,
   "metadata": {},
   "outputs": [
    {
     "data": {
      "text/plain": [
       "(4789, 18)"
      ]
     },
     "execution_count": 587,
     "metadata": {},
     "output_type": "execute_result"
    }
   ],
   "source": [
    "df_train.shape"
   ]
  },
  {
   "cell_type": "code",
   "execution_count": 588,
   "metadata": {},
   "outputs": [
    {
     "data": {
      "text/plain": [
       "(23161, 18)"
      ]
     },
     "execution_count": 588,
     "metadata": {},
     "output_type": "execute_result"
    }
   ],
   "source": [
    "df_test.shape"
   ]
  },
  {
   "cell_type": "code",
   "execution_count": 589,
   "metadata": {},
   "outputs": [
    {
     "data": {
      "text/html": [
       "<div>\n",
       "<style scoped>\n",
       "    .dataframe tbody tr th:only-of-type {\n",
       "        vertical-align: middle;\n",
       "    }\n",
       "\n",
       "    .dataframe tbody tr th {\n",
       "        vertical-align: top;\n",
       "    }\n",
       "\n",
       "    .dataframe thead th {\n",
       "        text-align: right;\n",
       "    }\n",
       "</style>\n",
       "<table border=\"1\" class=\"dataframe\">\n",
       "  <thead>\n",
       "    <tr style=\"text-align: right;\">\n",
       "      <th></th>\n",
       "      <th>contract_nr</th>\n",
       "      <th>sf_class_tpl</th>\n",
       "      <th>sf_class_fc</th>\n",
       "      <th>age_insured_person</th>\n",
       "      <th>policy_start</th>\n",
       "      <th>tariff_type</th>\n",
       "      <th>type_of_insurance</th>\n",
       "      <th>comprehensive_product</th>\n",
       "      <th>fc_deductible</th>\n",
       "      <th>pc_deductible</th>\n",
       "      <th>payment_interval</th>\n",
       "      <th>insured_parties</th>\n",
       "      <th>profession_group</th>\n",
       "      <th>car_age_at_purchase</th>\n",
       "      <th>car_age_contract_start</th>\n",
       "      <th>annual_mileage</th>\n",
       "      <th>risk_predictor_zip_code</th>\n",
       "      <th>number_of_payment_faults</th>\n",
       "    </tr>\n",
       "  </thead>\n",
       "  <tbody>\n",
       "    <tr>\n",
       "      <th>0</th>\n",
       "      <td>1</td>\n",
       "      <td>SF1/2</td>\n",
       "      <td>SF1/2</td>\n",
       "      <td>34</td>\n",
       "      <td>YOB</td>\n",
       "      <td>Original</td>\n",
       "      <td>New Vehicle</td>\n",
       "      <td>NaN</td>\n",
       "      <td>0</td>\n",
       "      <td>0</td>\n",
       "      <td>Monthly</td>\n",
       "      <td>Insured and Spouse/Partner</td>\n",
       "      <td>Standard</td>\n",
       "      <td>10</td>\n",
       "      <td>11</td>\n",
       "      <td>12000</td>\n",
       "      <td>5.000</td>\n",
       "      <td>1.000</td>\n",
       "    </tr>\n",
       "    <tr>\n",
       "      <th>33</th>\n",
       "      <td>34</td>\n",
       "      <td>SF5</td>\n",
       "      <td>SF5</td>\n",
       "      <td>47</td>\n",
       "      <td>YOB</td>\n",
       "      <td>Original</td>\n",
       "      <td>New Vehicle</td>\n",
       "      <td>TK</td>\n",
       "      <td>0</td>\n",
       "      <td>150</td>\n",
       "      <td>Monthly</td>\n",
       "      <td>Insured and Spouse/Partner</td>\n",
       "      <td>Standard</td>\n",
       "      <td>8</td>\n",
       "      <td>9</td>\n",
       "      <td>9000</td>\n",
       "      <td>8.000</td>\n",
       "      <td>1.000</td>\n",
       "    </tr>\n",
       "    <tr>\n",
       "      <th>35</th>\n",
       "      <td>36</td>\n",
       "      <td>SF1/2</td>\n",
       "      <td>SF1/2</td>\n",
       "      <td>37</td>\n",
       "      <td>YOB</td>\n",
       "      <td>Original</td>\n",
       "      <td>First Vehicle</td>\n",
       "      <td>NaN</td>\n",
       "      <td>0</td>\n",
       "      <td>0</td>\n",
       "      <td>Monthly</td>\n",
       "      <td>Insured and Spouse/Partner</td>\n",
       "      <td>Standard</td>\n",
       "      <td>15</td>\n",
       "      <td>16</td>\n",
       "      <td>6000</td>\n",
       "      <td>5.000</td>\n",
       "      <td>2.000</td>\n",
       "    </tr>\n",
       "    <tr>\n",
       "      <th>38</th>\n",
       "      <td>39</td>\n",
       "      <td>SF1/2</td>\n",
       "      <td>SF1/2</td>\n",
       "      <td>42</td>\n",
       "      <td>YOB</td>\n",
       "      <td>Original</td>\n",
       "      <td>Change of Insurer</td>\n",
       "      <td>TK</td>\n",
       "      <td>0</td>\n",
       "      <td>150</td>\n",
       "      <td>Monthly</td>\n",
       "      <td>Insured and Spouse/Partner</td>\n",
       "      <td>Standard</td>\n",
       "      <td>1</td>\n",
       "      <td>2</td>\n",
       "      <td>15000</td>\n",
       "      <td>1.000</td>\n",
       "      <td>2.000</td>\n",
       "    </tr>\n",
       "    <tr>\n",
       "      <th>47</th>\n",
       "      <td>48</td>\n",
       "      <td>SF23</td>\n",
       "      <td>SF3</td>\n",
       "      <td>63</td>\n",
       "      <td>YEB</td>\n",
       "      <td>Pay per km</td>\n",
       "      <td>Change of Insurer</td>\n",
       "      <td>VK</td>\n",
       "      <td>300</td>\n",
       "      <td>150</td>\n",
       "      <td>Monthly</td>\n",
       "      <td>Insured and Spouse/Partner</td>\n",
       "      <td>Standard</td>\n",
       "      <td>4</td>\n",
       "      <td>5</td>\n",
       "      <td>12000</td>\n",
       "      <td>5.000</td>\n",
       "      <td>1.000</td>\n",
       "    </tr>\n",
       "  </tbody>\n",
       "</table>\n",
       "</div>"
      ],
      "text/plain": [
       "    contract_nr sf_class_tpl sf_class_fc  age_insured_person policy_start  \\\n",
       "0             1        SF1/2       SF1/2                  34          YOB   \n",
       "33           34          SF5         SF5                  47          YOB   \n",
       "35           36        SF1/2       SF1/2                  37          YOB   \n",
       "38           39        SF1/2       SF1/2                  42          YOB   \n",
       "47           48         SF23         SF3                  63          YEB   \n",
       "\n",
       "   tariff_type  type_of_insurance comprehensive_product  fc_deductible  \\\n",
       "0     Original        New Vehicle                   NaN              0   \n",
       "33    Original        New Vehicle                    TK              0   \n",
       "35    Original      First Vehicle                   NaN              0   \n",
       "38    Original  Change of Insurer                    TK              0   \n",
       "47  Pay per km  Change of Insurer                    VK            300   \n",
       "\n",
       "    pc_deductible payment_interval             insured_parties  \\\n",
       "0               0          Monthly  Insured and Spouse/Partner   \n",
       "33            150          Monthly  Insured and Spouse/Partner   \n",
       "35              0          Monthly  Insured and Spouse/Partner   \n",
       "38            150          Monthly  Insured and Spouse/Partner   \n",
       "47            150          Monthly  Insured and Spouse/Partner   \n",
       "\n",
       "   profession_group  car_age_at_purchase  car_age_contract_start  \\\n",
       "0          Standard                   10                      11   \n",
       "33         Standard                    8                       9   \n",
       "35         Standard                   15                      16   \n",
       "38         Standard                    1                       2   \n",
       "47         Standard                    4                       5   \n",
       "\n",
       "    annual_mileage  risk_predictor_zip_code  number_of_payment_faults  \n",
       "0            12000                    5.000                     1.000  \n",
       "33            9000                    8.000                     1.000  \n",
       "35            6000                    5.000                     2.000  \n",
       "38           15000                    1.000                     2.000  \n",
       "47           12000                    5.000                     1.000  "
      ]
     },
     "execution_count": 589,
     "metadata": {},
     "output_type": "execute_result"
    }
   ],
   "source": [
    "df_train.head()"
   ]
  },
  {
   "cell_type": "code",
   "execution_count": 590,
   "metadata": {},
   "outputs": [
    {
     "data": {
      "text/html": [
       "<div>\n",
       "<style scoped>\n",
       "    .dataframe tbody tr th:only-of-type {\n",
       "        vertical-align: middle;\n",
       "    }\n",
       "\n",
       "    .dataframe tbody tr th {\n",
       "        vertical-align: top;\n",
       "    }\n",
       "\n",
       "    .dataframe thead th {\n",
       "        text-align: right;\n",
       "    }\n",
       "</style>\n",
       "<table border=\"1\" class=\"dataframe\">\n",
       "  <thead>\n",
       "    <tr style=\"text-align: right;\">\n",
       "      <th></th>\n",
       "      <th>contract_nr</th>\n",
       "      <th>sf_class_tpl</th>\n",
       "      <th>sf_class_fc</th>\n",
       "      <th>age_insured_person</th>\n",
       "      <th>policy_start</th>\n",
       "      <th>tariff_type</th>\n",
       "      <th>type_of_insurance</th>\n",
       "      <th>comprehensive_product</th>\n",
       "      <th>fc_deductible</th>\n",
       "      <th>pc_deductible</th>\n",
       "      <th>payment_interval</th>\n",
       "      <th>insured_parties</th>\n",
       "      <th>profession_group</th>\n",
       "      <th>car_age_at_purchase</th>\n",
       "      <th>car_age_contract_start</th>\n",
       "      <th>annual_mileage</th>\n",
       "      <th>risk_predictor_zip_code</th>\n",
       "      <th>number_of_payment_faults</th>\n",
       "    </tr>\n",
       "  </thead>\n",
       "  <tbody>\n",
       "    <tr>\n",
       "      <th>1</th>\n",
       "      <td>2</td>\n",
       "      <td>SF31</td>\n",
       "      <td>SF31</td>\n",
       "      <td>55</td>\n",
       "      <td>YOB</td>\n",
       "      <td>Original</td>\n",
       "      <td>Change of Insurer</td>\n",
       "      <td>NaN</td>\n",
       "      <td>0</td>\n",
       "      <td>0</td>\n",
       "      <td>Pay In Full</td>\n",
       "      <td>Insured and Spouse/Partner</td>\n",
       "      <td>Standard</td>\n",
       "      <td>2</td>\n",
       "      <td>7</td>\n",
       "      <td>9000</td>\n",
       "      <td>6.000</td>\n",
       "      <td>nan</td>\n",
       "    </tr>\n",
       "    <tr>\n",
       "      <th>2</th>\n",
       "      <td>3</td>\n",
       "      <td>SF5</td>\n",
       "      <td>SF5</td>\n",
       "      <td>52</td>\n",
       "      <td>YOB</td>\n",
       "      <td>Original</td>\n",
       "      <td>New Vehicle</td>\n",
       "      <td>VK</td>\n",
       "      <td>300</td>\n",
       "      <td>150</td>\n",
       "      <td>Monthly</td>\n",
       "      <td>Insured and Spouse/Partner</td>\n",
       "      <td>Standard</td>\n",
       "      <td>11</td>\n",
       "      <td>12</td>\n",
       "      <td>20000</td>\n",
       "      <td>1.000</td>\n",
       "      <td>nan</td>\n",
       "    </tr>\n",
       "    <tr>\n",
       "      <th>3</th>\n",
       "      <td>4</td>\n",
       "      <td>SF15</td>\n",
       "      <td>SF15</td>\n",
       "      <td>41</td>\n",
       "      <td>YEB</td>\n",
       "      <td>Original</td>\n",
       "      <td>Change of Insurer</td>\n",
       "      <td>TK</td>\n",
       "      <td>0</td>\n",
       "      <td>150</td>\n",
       "      <td>Monthly</td>\n",
       "      <td>Insured and Spouse/Partner</td>\n",
       "      <td>Standard</td>\n",
       "      <td>0</td>\n",
       "      <td>9</td>\n",
       "      <td>15000</td>\n",
       "      <td>6.000</td>\n",
       "      <td>nan</td>\n",
       "    </tr>\n",
       "    <tr>\n",
       "      <th>4</th>\n",
       "      <td>5</td>\n",
       "      <td>SF17</td>\n",
       "      <td>SF18</td>\n",
       "      <td>42</td>\n",
       "      <td>YOB</td>\n",
       "      <td>Original</td>\n",
       "      <td>Change of Insurer</td>\n",
       "      <td>VK</td>\n",
       "      <td>300</td>\n",
       "      <td>150</td>\n",
       "      <td>Monthly</td>\n",
       "      <td>Insured and Spouse/Partner</td>\n",
       "      <td>Standard</td>\n",
       "      <td>0</td>\n",
       "      <td>2</td>\n",
       "      <td>15000</td>\n",
       "      <td>3.000</td>\n",
       "      <td>nan</td>\n",
       "    </tr>\n",
       "    <tr>\n",
       "      <th>5</th>\n",
       "      <td>6</td>\n",
       "      <td>SF7</td>\n",
       "      <td>SF13</td>\n",
       "      <td>37</td>\n",
       "      <td>YOB</td>\n",
       "      <td>Original</td>\n",
       "      <td>New Vehicle</td>\n",
       "      <td>VK</td>\n",
       "      <td>300</td>\n",
       "      <td>150</td>\n",
       "      <td>Monthly</td>\n",
       "      <td>Insured and Spouse/Partner</td>\n",
       "      <td>Standard</td>\n",
       "      <td>0</td>\n",
       "      <td>0</td>\n",
       "      <td>15000</td>\n",
       "      <td>7.000</td>\n",
       "      <td>nan</td>\n",
       "    </tr>\n",
       "  </tbody>\n",
       "</table>\n",
       "</div>"
      ],
      "text/plain": [
       "   contract_nr sf_class_tpl sf_class_fc  age_insured_person policy_start  \\\n",
       "1            2         SF31        SF31                  55          YOB   \n",
       "2            3          SF5         SF5                  52          YOB   \n",
       "3            4         SF15        SF15                  41          YEB   \n",
       "4            5         SF17        SF18                  42          YOB   \n",
       "5            6          SF7        SF13                  37          YOB   \n",
       "\n",
       "  tariff_type  type_of_insurance comprehensive_product  fc_deductible  \\\n",
       "1    Original  Change of Insurer                   NaN              0   \n",
       "2    Original        New Vehicle                    VK            300   \n",
       "3    Original  Change of Insurer                    TK              0   \n",
       "4    Original  Change of Insurer                    VK            300   \n",
       "5    Original        New Vehicle                    VK            300   \n",
       "\n",
       "   pc_deductible payment_interval             insured_parties  \\\n",
       "1              0      Pay In Full  Insured and Spouse/Partner   \n",
       "2            150          Monthly  Insured and Spouse/Partner   \n",
       "3            150          Monthly  Insured and Spouse/Partner   \n",
       "4            150          Monthly  Insured and Spouse/Partner   \n",
       "5            150          Monthly  Insured and Spouse/Partner   \n",
       "\n",
       "  profession_group  car_age_at_purchase  car_age_contract_start  \\\n",
       "1         Standard                    2                       7   \n",
       "2         Standard                   11                      12   \n",
       "3         Standard                    0                       9   \n",
       "4         Standard                    0                       2   \n",
       "5         Standard                    0                       0   \n",
       "\n",
       "   annual_mileage  risk_predictor_zip_code  number_of_payment_faults  \n",
       "1            9000                    6.000                       nan  \n",
       "2           20000                    1.000                       nan  \n",
       "3           15000                    6.000                       nan  \n",
       "4           15000                    3.000                       nan  \n",
       "5           15000                    7.000                       nan  "
      ]
     },
     "execution_count": 590,
     "metadata": {},
     "output_type": "execute_result"
    }
   ],
   "source": [
    "df_test.head()"
   ]
  },
  {
   "cell_type": "code",
   "execution_count": 591,
   "metadata": {},
   "outputs": [
    {
     "data": {
      "text/plain": [
       "(0, 18)"
      ]
     },
     "execution_count": 591,
     "metadata": {},
     "output_type": "execute_result"
    }
   ],
   "source": [
    "df_train[df_train['number_of_payment_faults'].isnull()].shape"
   ]
  },
  {
   "cell_type": "markdown",
   "metadata": {},
   "source": [
    "## 2. EDA and Data Processing"
   ]
  },
  {
   "cell_type": "code",
   "execution_count": 592,
   "metadata": {},
   "outputs": [
    {
     "data": {
      "text/html": [
       "<div>\n",
       "<style scoped>\n",
       "    .dataframe tbody tr th:only-of-type {\n",
       "        vertical-align: middle;\n",
       "    }\n",
       "\n",
       "    .dataframe tbody tr th {\n",
       "        vertical-align: top;\n",
       "    }\n",
       "\n",
       "    .dataframe thead th {\n",
       "        text-align: right;\n",
       "    }\n",
       "</style>\n",
       "<table border=\"1\" class=\"dataframe\">\n",
       "  <thead>\n",
       "    <tr style=\"text-align: right;\">\n",
       "      <th></th>\n",
       "      <th>contract_nr</th>\n",
       "      <th>sf_class_tpl</th>\n",
       "      <th>sf_class_fc</th>\n",
       "      <th>age_insured_person</th>\n",
       "      <th>policy_start</th>\n",
       "      <th>tariff_type</th>\n",
       "      <th>type_of_insurance</th>\n",
       "      <th>comprehensive_product</th>\n",
       "      <th>fc_deductible</th>\n",
       "      <th>pc_deductible</th>\n",
       "      <th>payment_interval</th>\n",
       "      <th>insured_parties</th>\n",
       "      <th>profession_group</th>\n",
       "      <th>car_age_at_purchase</th>\n",
       "      <th>car_age_contract_start</th>\n",
       "      <th>annual_mileage</th>\n",
       "      <th>risk_predictor_zip_code</th>\n",
       "      <th>number_of_payment_faults</th>\n",
       "    </tr>\n",
       "  </thead>\n",
       "  <tbody>\n",
       "    <tr>\n",
       "      <th>0</th>\n",
       "      <td>1</td>\n",
       "      <td>SF1/2</td>\n",
       "      <td>SF1/2</td>\n",
       "      <td>34</td>\n",
       "      <td>YOB</td>\n",
       "      <td>Original</td>\n",
       "      <td>New Vehicle</td>\n",
       "      <td>NaN</td>\n",
       "      <td>0</td>\n",
       "      <td>0</td>\n",
       "      <td>Monthly</td>\n",
       "      <td>Insured and Spouse/Partner</td>\n",
       "      <td>Standard</td>\n",
       "      <td>10</td>\n",
       "      <td>11</td>\n",
       "      <td>12000</td>\n",
       "      <td>5.000</td>\n",
       "      <td>1.000</td>\n",
       "    </tr>\n",
       "    <tr>\n",
       "      <th>1</th>\n",
       "      <td>2</td>\n",
       "      <td>SF31</td>\n",
       "      <td>SF31</td>\n",
       "      <td>55</td>\n",
       "      <td>YOB</td>\n",
       "      <td>Original</td>\n",
       "      <td>Change of Insurer</td>\n",
       "      <td>NaN</td>\n",
       "      <td>0</td>\n",
       "      <td>0</td>\n",
       "      <td>Pay In Full</td>\n",
       "      <td>Insured and Spouse/Partner</td>\n",
       "      <td>Standard</td>\n",
       "      <td>2</td>\n",
       "      <td>7</td>\n",
       "      <td>9000</td>\n",
       "      <td>6.000</td>\n",
       "      <td>nan</td>\n",
       "    </tr>\n",
       "    <tr>\n",
       "      <th>2</th>\n",
       "      <td>3</td>\n",
       "      <td>SF5</td>\n",
       "      <td>SF5</td>\n",
       "      <td>52</td>\n",
       "      <td>YOB</td>\n",
       "      <td>Original</td>\n",
       "      <td>New Vehicle</td>\n",
       "      <td>VK</td>\n",
       "      <td>300</td>\n",
       "      <td>150</td>\n",
       "      <td>Monthly</td>\n",
       "      <td>Insured and Spouse/Partner</td>\n",
       "      <td>Standard</td>\n",
       "      <td>11</td>\n",
       "      <td>12</td>\n",
       "      <td>20000</td>\n",
       "      <td>1.000</td>\n",
       "      <td>nan</td>\n",
       "    </tr>\n",
       "    <tr>\n",
       "      <th>3</th>\n",
       "      <td>4</td>\n",
       "      <td>SF15</td>\n",
       "      <td>SF15</td>\n",
       "      <td>41</td>\n",
       "      <td>YEB</td>\n",
       "      <td>Original</td>\n",
       "      <td>Change of Insurer</td>\n",
       "      <td>TK</td>\n",
       "      <td>0</td>\n",
       "      <td>150</td>\n",
       "      <td>Monthly</td>\n",
       "      <td>Insured and Spouse/Partner</td>\n",
       "      <td>Standard</td>\n",
       "      <td>0</td>\n",
       "      <td>9</td>\n",
       "      <td>15000</td>\n",
       "      <td>6.000</td>\n",
       "      <td>nan</td>\n",
       "    </tr>\n",
       "    <tr>\n",
       "      <th>4</th>\n",
       "      <td>5</td>\n",
       "      <td>SF17</td>\n",
       "      <td>SF18</td>\n",
       "      <td>42</td>\n",
       "      <td>YOB</td>\n",
       "      <td>Original</td>\n",
       "      <td>Change of Insurer</td>\n",
       "      <td>VK</td>\n",
       "      <td>300</td>\n",
       "      <td>150</td>\n",
       "      <td>Monthly</td>\n",
       "      <td>Insured and Spouse/Partner</td>\n",
       "      <td>Standard</td>\n",
       "      <td>0</td>\n",
       "      <td>2</td>\n",
       "      <td>15000</td>\n",
       "      <td>3.000</td>\n",
       "      <td>nan</td>\n",
       "    </tr>\n",
       "  </tbody>\n",
       "</table>\n",
       "</div>"
      ],
      "text/plain": [
       "   contract_nr sf_class_tpl sf_class_fc  age_insured_person policy_start  \\\n",
       "0            1        SF1/2       SF1/2                  34          YOB   \n",
       "1            2         SF31        SF31                  55          YOB   \n",
       "2            3          SF5         SF5                  52          YOB   \n",
       "3            4         SF15        SF15                  41          YEB   \n",
       "4            5         SF17        SF18                  42          YOB   \n",
       "\n",
       "  tariff_type  type_of_insurance comprehensive_product  fc_deductible  \\\n",
       "0    Original        New Vehicle                   NaN              0   \n",
       "1    Original  Change of Insurer                   NaN              0   \n",
       "2    Original        New Vehicle                    VK            300   \n",
       "3    Original  Change of Insurer                    TK              0   \n",
       "4    Original  Change of Insurer                    VK            300   \n",
       "\n",
       "   pc_deductible payment_interval             insured_parties  \\\n",
       "0              0          Monthly  Insured and Spouse/Partner   \n",
       "1              0      Pay In Full  Insured and Spouse/Partner   \n",
       "2            150          Monthly  Insured and Spouse/Partner   \n",
       "3            150          Monthly  Insured and Spouse/Partner   \n",
       "4            150          Monthly  Insured and Spouse/Partner   \n",
       "\n",
       "  profession_group  car_age_at_purchase  car_age_contract_start  \\\n",
       "0         Standard                   10                      11   \n",
       "1         Standard                    2                       7   \n",
       "2         Standard                   11                      12   \n",
       "3         Standard                    0                       9   \n",
       "4         Standard                    0                       2   \n",
       "\n",
       "   annual_mileage  risk_predictor_zip_code  number_of_payment_faults  \n",
       "0           12000                    5.000                     1.000  \n",
       "1            9000                    6.000                       nan  \n",
       "2           20000                    1.000                       nan  \n",
       "3           15000                    6.000                       nan  \n",
       "4           15000                    3.000                       nan  "
      ]
     },
     "execution_count": 592,
     "metadata": {},
     "output_type": "execute_result"
    }
   ],
   "source": [
    "df_friday.head()"
   ]
  },
  {
   "cell_type": "code",
   "execution_count": 593,
   "metadata": {},
   "outputs": [
    {
     "name": "stdout",
     "output_type": "stream",
     "text": [
      "<class 'pandas.core.frame.DataFrame'>\n",
      "RangeIndex: 27950 entries, 0 to 27949\n",
      "Data columns (total 18 columns):\n",
      "contract_nr                 27950 non-null int64\n",
      "sf_class_tpl                27950 non-null object\n",
      "sf_class_fc                 27950 non-null object\n",
      "age_insured_person          27950 non-null int64\n",
      "policy_start                27940 non-null object\n",
      "tariff_type                 27950 non-null object\n",
      "type_of_insurance           27950 non-null object\n",
      "comprehensive_product       20355 non-null object\n",
      "fc_deductible               27950 non-null int64\n",
      "pc_deductible               27950 non-null int64\n",
      "payment_interval            27950 non-null object\n",
      "insured_parties             27950 non-null object\n",
      "profession_group            27950 non-null object\n",
      "car_age_at_purchase         27950 non-null int64\n",
      "car_age_contract_start      27950 non-null int64\n",
      "annual_mileage              27950 non-null int64\n",
      "risk_predictor_zip_code     27948 non-null float64\n",
      "number_of_payment_faults    4789 non-null float64\n",
      "dtypes: float64(2), int64(7), object(9)\n",
      "memory usage: 3.8+ MB\n"
     ]
    }
   ],
   "source": [
    "df_friday.info()"
   ]
  },
  {
   "cell_type": "code",
   "execution_count": 594,
   "metadata": {},
   "outputs": [
    {
     "data": {
      "text/plain": [
       "(27950, 18)"
      ]
     },
     "execution_count": 594,
     "metadata": {},
     "output_type": "execute_result"
    }
   ],
   "source": [
    "df_friday.shape"
   ]
  },
  {
   "cell_type": "markdown",
   "metadata": {},
   "source": [
    "- ### Missing Data Analysis\n",
    "\n",
    "#### Check percentage of missing data\n",
    "\n",
    "If more than 50% of the data is missing, we should delete the corresponding variable and pretend it never existed. "
   ]
  },
  {
   "cell_type": "code",
   "execution_count": 595,
   "metadata": {},
   "outputs": [
    {
     "data": {
      "text/html": [
       "<div>\n",
       "<style scoped>\n",
       "    .dataframe tbody tr th:only-of-type {\n",
       "        vertical-align: middle;\n",
       "    }\n",
       "\n",
       "    .dataframe tbody tr th {\n",
       "        vertical-align: top;\n",
       "    }\n",
       "\n",
       "    .dataframe thead th {\n",
       "        text-align: right;\n",
       "    }\n",
       "</style>\n",
       "<table border=\"1\" class=\"dataframe\">\n",
       "  <thead>\n",
       "    <tr style=\"text-align: right;\">\n",
       "      <th></th>\n",
       "      <th>Missing Ratio</th>\n",
       "    </tr>\n",
       "  </thead>\n",
       "  <tbody>\n",
       "    <tr>\n",
       "      <th>comprehensive_product</th>\n",
       "      <td>49.113</td>\n",
       "    </tr>\n",
       "    <tr>\n",
       "      <th>policy_start</th>\n",
       "      <td>0.063</td>\n",
       "    </tr>\n",
       "    <tr>\n",
       "      <th>risk_predictor_zip_code</th>\n",
       "      <td>0.021</td>\n",
       "    </tr>\n",
       "  </tbody>\n",
       "</table>\n",
       "</div>"
      ],
      "text/plain": [
       "                         Missing Ratio\n",
       "comprehensive_product           49.113\n",
       "policy_start                     0.063\n",
       "risk_predictor_zip_code          0.021"
      ]
     },
     "execution_count": 595,
     "metadata": {},
     "output_type": "execute_result"
    }
   ],
   "source": [
    "all_data_na = (df_train.isnull().sum() / len(df_train)) * 100\n",
    "all_data_na = all_data_na.drop(all_data_na[all_data_na == 0].index).sort_values(ascending=False)[:30]\n",
    "missing_data = pd.DataFrame({'Missing Ratio' :all_data_na})\n",
    "missing_data.head(20)"
   ]
  },
  {
   "cell_type": "code",
   "execution_count": 596,
   "metadata": {},
   "outputs": [
    {
     "data": {
      "text/plain": [
       "Text(0.5, 1.0, 'Percent missing data by feature')"
      ]
     },
     "execution_count": 596,
     "metadata": {},
     "output_type": "execute_result"
    },
    {
     "data": {
      "image/png": "[encoded data removed]",
      "text/plain": [
       "<Figure size 1080x864 with 1 Axes>"
      ]
     },
     "metadata": {},
     "output_type": "display_data"
    }
   ],
   "source": [
    "f, ax = plt.subplots(figsize=(15, 12))\n",
    "plt.xticks(rotation='90')\n",
    "sns.barplot(x=all_data_na.index, y=all_data_na)\n",
    "plt.xlabel('Features', fontsize=15)\n",
    "plt.ylabel('Percent of missing values', fontsize=15)\n",
    "plt.title('Percent missing data by feature', fontsize=15)"
   ]
  },
  {
   "cell_type": "code",
   "execution_count": 597,
   "metadata": {},
   "outputs": [
    {
     "data": {
      "text/plain": [
       "count     2437\n",
       "unique       2\n",
       "top         TK\n",
       "freq      1246\n",
       "Name: comprehensive_product, dtype: object"
      ]
     },
     "execution_count": 597,
     "metadata": {},
     "output_type": "execute_result"
    }
   ],
   "source": [
    "df_train['comprehensive_product'].describe()"
   ]
  },
  {
   "cell_type": "code",
   "execution_count": 598,
   "metadata": {},
   "outputs": [
    {
     "data": {
      "text/plain": [
       "array([nan, 'TK', 'VK'], dtype=object)"
      ]
     },
     "execution_count": 598,
     "metadata": {},
     "output_type": "execute_result"
    }
   ],
   "source": [
    "df_train['comprehensive_product'].unique()"
   ]
  },
  {
   "cell_type": "markdown",
   "metadata": {},
   "source": [
    "I will keep all the features."
   ]
  },
  {
   "cell_type": "markdown",
   "metadata": {},
   "source": [
    "### 'sf_class_tpl' "
   ]
  },
  {
   "cell_type": "code",
   "execution_count": 599,
   "metadata": {},
   "outputs": [
    {
     "data": {
      "text/plain": [
       "count      4789\n",
       "unique       47\n",
       "top       SF1/2\n",
       "freq       1805\n",
       "Name: sf_class_tpl, dtype: object"
      ]
     },
     "execution_count": 599,
     "metadata": {},
     "output_type": "execute_result"
    }
   ],
   "source": [
    "df_train['sf_class_tpl'].describe()"
   ]
  },
  {
   "cell_type": "code",
   "execution_count": 600,
   "metadata": {},
   "outputs": [
    {
     "data": {
      "text/plain": [
       "array(['SF1/2', 'SF5', 'SF23', 'SF1', 'SF18', 'SF35', 'SF10', 'SF2',\n",
       "       'SF17', 0, 'SF19', 'SF24', 'SF13', 'SF14', 'SF8', 'SF7', 'SF21',\n",
       "       'SF3', 'SF4', 'SF15', 'SF22', 'SF9', 'SF12', 'M', 'SF27', 'SF6',\n",
       "       'SF16', 'SF11', 'SF28', 'SF37', 'SF20', 'SF30', 'SF31', 'SF34',\n",
       "       'SF26', 'SF25', 'SF33', 'SF39', 'SF32', 'SF36', 'SF29', 'SF44',\n",
       "       'SF42', 'SF41', 'SF40', 'SF38', 'S'], dtype=object)"
      ]
     },
     "execution_count": 600,
     "metadata": {},
     "output_type": "execute_result"
    }
   ],
   "source": [
    "df_train['sf_class_tpl'].unique()"
   ]
  },
  {
   "cell_type": "code",
   "execution_count": 601,
   "metadata": {},
   "outputs": [
    {
     "data": {
      "text/plain": [
       "(0, 18)"
      ]
     },
     "execution_count": 601,
     "metadata": {},
     "output_type": "execute_result"
    }
   ],
   "source": [
    "df_train[df_train['sf_class_tpl'].isnull()].shape"
   ]
  },
  {
   "cell_type": "markdown",
   "metadata": {},
   "source": [
    "### 'sf_class_fc'"
   ]
  },
  {
   "cell_type": "code",
   "execution_count": 602,
   "metadata": {},
   "outputs": [
    {
     "data": {
      "text/plain": [
       "count      4789\n",
       "unique       47\n",
       "top       SF1/2\n",
       "freq       1834\n",
       "Name: sf_class_fc, dtype: object"
      ]
     },
     "execution_count": 602,
     "metadata": {},
     "output_type": "execute_result"
    }
   ],
   "source": [
    "df_train['sf_class_fc'].describe()"
   ]
  },
  {
   "cell_type": "code",
   "execution_count": 603,
   "metadata": {},
   "outputs": [
    {
     "data": {
      "text/plain": [
       "array(['SF1/2', 'SF5', 'SF3', 'SF1', 'SF18', 'SF35', 'SF10', 'SF2',\n",
       "       'SF22', 0, 'SF19', 'SF24', 'SF25', 'SF16', 'SF15', 'SF14', 'SF8',\n",
       "       'SF7', 'SF21', 'SF4', 'SF23', 'SF9', 'M', 'SF12', 'SF13', 'SF6',\n",
       "       'SF27', 'SF17', 'SF11', 'SF28', 'SF37', 'SF30', 'SF33', 'SF31',\n",
       "       'SF34', 'SF20', 'SF26', 'SF29', 'SF32', 'SF36', 'SF41', 'SF44',\n",
       "       'SF42', 'S', 'SF39', 'SF40', 'SF38'], dtype=object)"
      ]
     },
     "execution_count": 603,
     "metadata": {},
     "output_type": "execute_result"
    }
   ],
   "source": [
    "df_train['sf_class_fc'].unique()"
   ]
  },
  {
   "cell_type": "code",
   "execution_count": 604,
   "metadata": {},
   "outputs": [
    {
     "data": {
      "text/plain": [
       "(0, 18)"
      ]
     },
     "execution_count": 604,
     "metadata": {},
     "output_type": "execute_result"
    }
   ],
   "source": [
    "df_train[df_train['sf_class_fc'].isnull()].shape"
   ]
  },
  {
   "cell_type": "markdown",
   "metadata": {},
   "source": [
    "### 'policy_start'"
   ]
  },
  {
   "cell_type": "code",
   "execution_count": 605,
   "metadata": {},
   "outputs": [
    {
     "data": {
      "text/plain": [
       "count     4786\n",
       "unique       2\n",
       "top        YOB\n",
       "freq      3362\n",
       "Name: policy_start, dtype: object"
      ]
     },
     "execution_count": 605,
     "metadata": {},
     "output_type": "execute_result"
    }
   ],
   "source": [
    "df_train['policy_start'].describe()"
   ]
  },
  {
   "cell_type": "code",
   "execution_count": 606,
   "metadata": {},
   "outputs": [
    {
     "data": {
      "text/plain": [
       "array(['YOB', 'YEB', nan], dtype=object)"
      ]
     },
     "execution_count": 606,
     "metadata": {},
     "output_type": "execute_result"
    }
   ],
   "source": [
    "df_train['policy_start'].unique()"
   ]
  },
  {
   "cell_type": "code",
   "execution_count": 607,
   "metadata": {},
   "outputs": [
    {
     "data": {
      "text/plain": [
       "(3, 18)"
      ]
     },
     "execution_count": 607,
     "metadata": {},
     "output_type": "execute_result"
    }
   ],
   "source": [
    "df_train[df_train['policy_start'].isnull()].shape"
   ]
  },
  {
   "cell_type": "markdown",
   "metadata": {},
   "source": [
    "### 'tariff_type'"
   ]
  },
  {
   "cell_type": "code",
   "execution_count": 608,
   "metadata": {},
   "outputs": [
    {
     "data": {
      "text/plain": [
       "count         4789\n",
       "unique           2\n",
       "top       Original\n",
       "freq          3816\n",
       "Name: tariff_type, dtype: object"
      ]
     },
     "execution_count": 608,
     "metadata": {},
     "output_type": "execute_result"
    }
   ],
   "source": [
    "df_train['tariff_type'].describe()"
   ]
  },
  {
   "cell_type": "code",
   "execution_count": 609,
   "metadata": {},
   "outputs": [
    {
     "data": {
      "text/plain": [
       "array(['Original', 'Pay per km'], dtype=object)"
      ]
     },
     "execution_count": 609,
     "metadata": {},
     "output_type": "execute_result"
    }
   ],
   "source": [
    "df_train['tariff_type'].unique()"
   ]
  },
  {
   "cell_type": "code",
   "execution_count": 610,
   "metadata": {},
   "outputs": [
    {
     "data": {
      "text/plain": [
       "(0, 18)"
      ]
     },
     "execution_count": 610,
     "metadata": {},
     "output_type": "execute_result"
    }
   ],
   "source": [
    "df_train[df_train['tariff_type'].isnull()].shape"
   ]
  },
  {
   "cell_type": "markdown",
   "metadata": {},
   "source": [
    "### 'type_of_insurance'"
   ]
  },
  {
   "cell_type": "code",
   "execution_count": 611,
   "metadata": {},
   "outputs": [
    {
     "data": {
      "text/plain": [
       "count                  4789\n",
       "unique                    3\n",
       "top       Change of Insurer\n",
       "freq                   2594\n",
       "Name: type_of_insurance, dtype: object"
      ]
     },
     "execution_count": 611,
     "metadata": {},
     "output_type": "execute_result"
    }
   ],
   "source": [
    "df_train['type_of_insurance'].describe()"
   ]
  },
  {
   "cell_type": "code",
   "execution_count": 612,
   "metadata": {},
   "outputs": [
    {
     "data": {
      "text/plain": [
       "array(['New Vehicle', 'First Vehicle', 'Change of Insurer'], dtype=object)"
      ]
     },
     "execution_count": 612,
     "metadata": {},
     "output_type": "execute_result"
    }
   ],
   "source": [
    "df_train['type_of_insurance'].unique()"
   ]
  },
  {
   "cell_type": "code",
   "execution_count": 613,
   "metadata": {},
   "outputs": [
    {
     "data": {
      "text/plain": [
       "(0, 18)"
      ]
     },
     "execution_count": 613,
     "metadata": {},
     "output_type": "execute_result"
    }
   ],
   "source": [
    "df_train[df_train['type_of_insurance'].isnull()].shape"
   ]
  },
  {
   "cell_type": "markdown",
   "metadata": {},
   "source": [
    "### 'payment_interval'"
   ]
  },
  {
   "cell_type": "code",
   "execution_count": 614,
   "metadata": {},
   "outputs": [
    {
     "data": {
      "text/plain": [
       "count        4789\n",
       "unique          2\n",
       "top       Monthly\n",
       "freq         4722\n",
       "Name: payment_interval, dtype: object"
      ]
     },
     "execution_count": 614,
     "metadata": {},
     "output_type": "execute_result"
    }
   ],
   "source": [
    "df_train['payment_interval'].describe()"
   ]
  },
  {
   "cell_type": "code",
   "execution_count": 615,
   "metadata": {},
   "outputs": [
    {
     "data": {
      "text/plain": [
       "array(['Monthly', 'Pay In Full'], dtype=object)"
      ]
     },
     "execution_count": 615,
     "metadata": {},
     "output_type": "execute_result"
    }
   ],
   "source": [
    "df_train['payment_interval'].unique()"
   ]
  },
  {
   "cell_type": "code",
   "execution_count": 616,
   "metadata": {},
   "outputs": [
    {
     "data": {
      "text/plain": [
       "(0, 18)"
      ]
     },
     "execution_count": 616,
     "metadata": {},
     "output_type": "execute_result"
    }
   ],
   "source": [
    "df_train[df_train['payment_interval'].isnull()].shape"
   ]
  },
  {
   "cell_type": "markdown",
   "metadata": {},
   "source": [
    "### 'insured_parties'"
   ]
  },
  {
   "cell_type": "code",
   "execution_count": 617,
   "metadata": {},
   "outputs": [
    {
     "data": {
      "text/plain": [
       "count                           4789\n",
       "unique                             2\n",
       "top       Insured and Spouse/Partner\n",
       "freq                            3951\n",
       "Name: insured_parties, dtype: object"
      ]
     },
     "execution_count": 617,
     "metadata": {},
     "output_type": "execute_result"
    }
   ],
   "source": [
    "df_train['insured_parties'].describe()"
   ]
  },
  {
   "cell_type": "code",
   "execution_count": 618,
   "metadata": {},
   "outputs": [
    {
     "data": {
      "text/plain": [
       "array(['Insured and Spouse/Partner', 'Insured and Others'], dtype=object)"
      ]
     },
     "execution_count": 618,
     "metadata": {},
     "output_type": "execute_result"
    }
   ],
   "source": [
    "df_train['insured_parties'].unique()"
   ]
  },
  {
   "cell_type": "code",
   "execution_count": 619,
   "metadata": {},
   "outputs": [
    {
     "data": {
      "text/plain": [
       "(0, 18)"
      ]
     },
     "execution_count": 619,
     "metadata": {},
     "output_type": "execute_result"
    }
   ],
   "source": [
    "df_train[df_train['insured_parties'].isnull()].shape"
   ]
  },
  {
   "cell_type": "markdown",
   "metadata": {},
   "source": [
    "### 'profession_group'"
   ]
  },
  {
   "cell_type": "code",
   "execution_count": 620,
   "metadata": {},
   "outputs": [
    {
     "data": {
      "text/plain": [
       "count         4789\n",
       "unique           2\n",
       "top       Standard\n",
       "freq          4369\n",
       "Name: profession_group, dtype: object"
      ]
     },
     "execution_count": 620,
     "metadata": {},
     "output_type": "execute_result"
    }
   ],
   "source": [
    "df_train['profession_group'].describe()"
   ]
  },
  {
   "cell_type": "code",
   "execution_count": 621,
   "metadata": {},
   "outputs": [
    {
     "data": {
      "text/plain": [
       "array(['Standard', 'Public service'], dtype=object)"
      ]
     },
     "execution_count": 621,
     "metadata": {},
     "output_type": "execute_result"
    }
   ],
   "source": [
    "df_train['profession_group'].unique()"
   ]
  },
  {
   "cell_type": "code",
   "execution_count": 622,
   "metadata": {},
   "outputs": [
    {
     "data": {
      "text/plain": [
       "(0, 18)"
      ]
     },
     "execution_count": 622,
     "metadata": {},
     "output_type": "execute_result"
    }
   ],
   "source": [
    "df_train[df_train['profession_group'].isnull()].shape"
   ]
  },
  {
   "cell_type": "markdown",
   "metadata": {},
   "source": [
    "### 'age_insured_person'"
   ]
  },
  {
   "cell_type": "code",
   "execution_count": 623,
   "metadata": {},
   "outputs": [],
   "source": [
    "def report_numerical_variables(df_friday, var_name):\n",
    "    print('-------------')\n",
    "    print(var_name)\n",
    "    print('\\n')\n",
    "    \n",
    "    print(df_friday[var_name].describe())\n",
    "    \n",
    "    sns.distplot(df_friday[var_name])\n",
    "    \n",
    "    #skewness and kurtosis\n",
    "    print(\"Skewness: %f\" % df_friday[var_name].skew())\n",
    "\n",
    "    df_friday[[var_name]].boxplot()\n",
    "    pyplot.show()\n",
    "\n",
    "    df_friday[[var_name]].hist()\n",
    "    pyplot.show()\n",
    "\n",
    "    print('mean: {} median: {}'.format(df_friday[var_name].mean(), df_friday[var_name].median()))\n",
    "\n",
    "    df_friday[df_friday[var_name].isnull()].shape\n",
    "\n",
    "    sns.distplot(df_friday[var_name], fit=norm)\n",
    "    fig = plt.figure()\n",
    "\n",
    "    # https://matplotlib.org/mpl-probscale/tutorial/closer_look_at_viz.html\n",
    "    res = stats.probplot(df_friday[var_name], plot=plt)\n",
    "    \n",
    "    num_null = df_friday[df_friday[var_name].isnull()].shape[0]\n",
    "    print('number of null rows: {}'.format(num_null))\n"
   ]
  },
  {
   "cell_type": "code",
   "execution_count": 624,
   "metadata": {},
   "outputs": [
    {
     "name": "stdout",
     "output_type": "stream",
     "text": [
      "-------------\n",
      "age_insured_person\n",
      "\n",
      "\n",
      "count   4789.000\n",
      "mean      41.868\n",
      "std       13.748\n",
      "min       18.000\n",
      "25%       31.000\n",
      "50%       40.000\n",
      "75%       51.000\n",
      "max       91.000\n",
      "Name: age_insured_person, dtype: float64\n",
      "Skewness: 0.654636\n"
     ]
    },
    {
     "data": {
      "image/png": "[encoded data removed]",
      "text/plain": [
       "<Figure size 432x288 with 1 Axes>"
      ]
     },
     "metadata": {},
     "output_type": "display_data"
    },
    {
     "data": {
      "image/png": "[encoded data removed]",
      "text/plain": [
       "<Figure size 432x288 with 1 Axes>"
      ]
     },
     "metadata": {},
     "output_type": "display_data"
    },
    {
     "name": "stdout",
     "output_type": "stream",
     "text": [
      "mean: 41.867822092294844 median: 40.0\n",
      "number of null rows: 0\n"
     ]
    },
    {
     "data": {
      "image/png": "[encoded data removed]",
      "text/plain": [
       "<Figure size 432x288 with 1 Axes>"
      ]
     },
     "metadata": {},
     "output_type": "display_data"
    },
    {
     "data": {
      "image/png": "[encoded data removed]",
      "text/plain": [
       "<Figure size 432x288 with 1 Axes>"
      ]
     },
     "metadata": {},
     "output_type": "display_data"
    }
   ],
   "source": [
    "report_numerical_variables(df_train, 'age_insured_person')"
   ]
  },
  {
   "cell_type": "markdown",
   "metadata": {},
   "source": [
    "### 'fc_deductible'"
   ]
  },
  {
   "cell_type": "code",
   "execution_count": 625,
   "metadata": {},
   "outputs": [
    {
     "name": "stdout",
     "output_type": "stream",
     "text": [
      "-------------\n",
      "fc_deductible\n",
      "\n",
      "\n",
      "count   4789.000\n",
      "mean      91.334\n",
      "std      179.384\n",
      "min        0.000\n",
      "25%        0.000\n",
      "50%        0.000\n",
      "75%        0.000\n",
      "max     1000.000\n",
      "Name: fc_deductible, dtype: float64\n",
      "Skewness: 2.406833\n"
     ]
    },
    {
     "data": {
      "image/png": "[encoded data removed]",
      "text/plain": [
       "<Figure size 432x288 with 1 Axes>"
      ]
     },
     "metadata": {},
     "output_type": "display_data"
    },
    {
     "data": {
      "image/png": "[encoded data removed]",
      "text/plain": [
       "<Figure size 432x288 with 1 Axes>"
      ]
     },
     "metadata": {},
     "output_type": "display_data"
    },
    {
     "name": "stdout",
     "output_type": "stream",
     "text": [
      "mean: 91.3343077886824 median: 0.0\n",
      "number of null rows: 0\n"
     ]
    },
    {
     "data": {
      "image/png": "[encoded data removed]",
      "text/plain": [
       "<Figure size 432x288 with 1 Axes>"
      ]
     },
     "metadata": {},
     "output_type": "display_data"
    },
    {
     "data": {
      "image/png": "[encoded data removed]",
      "text/plain": [
       "<Figure size 432x288 with 1 Axes>"
      ]
     },
     "metadata": {},
     "output_type": "display_data"
    }
   ],
   "source": [
    "report_numerical_variables(df_train, 'fc_deductible')"
   ]
  },
  {
   "cell_type": "markdown",
   "metadata": {},
   "source": [
    "### 'pc_deductible'"
   ]
  },
  {
   "cell_type": "code",
   "execution_count": 626,
   "metadata": {},
   "outputs": [
    {
     "name": "stdout",
     "output_type": "stream",
     "text": [
      "-------------\n",
      "pc_deductible\n",
      "\n",
      "\n",
      "count   4789.000\n",
      "mean      85.519\n",
      "std       93.411\n",
      "min        0.000\n",
      "25%        0.000\n",
      "50%      150.000\n",
      "75%      150.000\n",
      "max      500.000\n",
      "Name: pc_deductible, dtype: float64\n",
      "Skewness: 0.897905\n"
     ]
    },
    {
     "data": {
      "image/png": "[encoded data removed]",
      "text/plain": [
       "<Figure size 432x288 with 1 Axes>"
      ]
     },
     "metadata": {},
     "output_type": "display_data"
    },
    {
     "data": {
      "image/png": "[encoded data removed]",
      "text/plain": [
       "<Figure size 432x288 with 1 Axes>"
      ]
     },
     "metadata": {},
     "output_type": "display_data"
    },
    {
     "name": "stdout",
     "output_type": "stream",
     "text": [
      "mean: 85.51889747337648 median: 150.0\n",
      "number of null rows: 0\n"
     ]
    },
    {
     "data": {
      "image/png": "[encoded data removed]",
      "text/plain": [
       "<Figure size 432x288 with 1 Axes>"
      ]
     },
     "metadata": {},
     "output_type": "display_data"
    },
    {
     "data": {
      "image/png": "[encoded data removed]",
      "text/plain": [
       "<Figure size 432x288 with 1 Axes>"
      ]
     },
     "metadata": {},
     "output_type": "display_data"
    }
   ],
   "source": [
    "report_numerical_variables(df_train, 'pc_deductible')"
   ]
  },
  {
   "cell_type": "markdown",
   "metadata": {},
   "source": [
    "### 'car_age_at_purchase'"
   ]
  },
  {
   "cell_type": "code",
   "execution_count": 627,
   "metadata": {},
   "outputs": [
    {
     "name": "stdout",
     "output_type": "stream",
     "text": [
      "-------------\n",
      "car_age_at_purchase\n",
      "\n",
      "\n",
      "count   4789.000\n",
      "mean      10.342\n",
      "std        7.086\n",
      "min        0.000\n",
      "25%        4.000\n",
      "50%       11.000\n",
      "75%       16.000\n",
      "max       30.000\n",
      "Name: car_age_at_purchase, dtype: float64\n",
      "Skewness: -0.043320\n"
     ]
    },
    {
     "data": {
      "image/png": "[encoded data removed]",
      "text/plain": [
       "<Figure size 432x288 with 1 Axes>"
      ]
     },
     "metadata": {},
     "output_type": "display_data"
    },
    {
     "data": {
      "image/png": "[encoded data removed]",
      "text/plain": [
       "<Figure size 432x288 with 1 Axes>"
      ]
     },
     "metadata": {},
     "output_type": "display_data"
    },
    {
     "name": "stdout",
     "output_type": "stream",
     "text": [
      "mean: 10.34245145124243 median: 11.0\n",
      "number of null rows: 0\n"
     ]
    },
    {
     "data": {
      "image/png": "[encoded data removed]",
      "text/plain": [
       "<Figure size 432x288 with 1 Axes>"
      ]
     },
     "metadata": {},
     "output_type": "display_data"
    },
    {
     "data": {
      "image/png": "[encoded data removed]",
      "text/plain": [
       "<Figure size 432x288 with 1 Axes>"
      ]
     },
     "metadata": {},
     "output_type": "display_data"
    }
   ],
   "source": [
    "report_numerical_variables(df_train, 'car_age_at_purchase')"
   ]
  },
  {
   "cell_type": "markdown",
   "metadata": {},
   "source": [
    "### 'car_age_contract_start'"
   ]
  },
  {
   "cell_type": "code",
   "execution_count": 628,
   "metadata": {},
   "outputs": [
    {
     "name": "stdout",
     "output_type": "stream",
     "text": [
      "-------------\n",
      "car_age_contract_start\n",
      "\n",
      "\n",
      "count   4789.000\n",
      "mean      12.391\n",
      "std        6.428\n",
      "min        0.000\n",
      "25%        8.000\n",
      "50%       13.000\n",
      "75%       18.000\n",
      "max       31.000\n",
      "Name: car_age_contract_start, dtype: float64\n",
      "Skewness: -0.209361\n"
     ]
    },
    {
     "data": {
      "image/png": "[encoded data removed]",
      "text/plain": [
       "<Figure size 432x288 with 1 Axes>"
      ]
     },
     "metadata": {},
     "output_type": "display_data"
    },
    {
     "data": {
      "image/png": "[encoded data removed]",
      "text/plain": [
       "<Figure size 432x288 with 1 Axes>"
      ]
     },
     "metadata": {},
     "output_type": "display_data"
    },
    {
     "name": "stdout",
     "output_type": "stream",
     "text": [
      "mean: 12.390895802881603 median: 13.0\n",
      "number of null rows: 0\n"
     ]
    },
    {
     "data": {
      "image/png": "[encoded data removed]",
      "text/plain": [
       "<Figure size 432x288 with 1 Axes>"
      ]
     },
     "metadata": {},
     "output_type": "display_data"
    },
    {
     "data": {
      "image/png": "[encoded data removed]",
      "text/plain": [
       "<Figure size 432x288 with 1 Axes>"
      ]
     },
     "metadata": {},
     "output_type": "display_data"
    }
   ],
   "source": [
    "report_numerical_variables(df_train, 'car_age_contract_start')"
   ]
  },
  {
   "cell_type": "markdown",
   "metadata": {},
   "source": [
    "### 'annual_mileage'"
   ]
  },
  {
   "cell_type": "code",
   "execution_count": 629,
   "metadata": {},
   "outputs": [
    {
     "name": "stdout",
     "output_type": "stream",
     "text": [
      "-------------\n",
      "annual_mileage\n",
      "\n",
      "\n",
      "count    4789.000\n",
      "mean    12107.496\n",
      "std      5734.010\n",
      "min       600.000\n",
      "25%      9000.000\n",
      "50%     12000.000\n",
      "75%     15000.000\n",
      "max     90000.000\n",
      "Name: annual_mileage, dtype: float64\n",
      "Skewness: 1.791910\n"
     ]
    },
    {
     "data": {
      "image/png": "[encoded data removed]",
      "text/plain": [
       "<Figure size 432x288 with 1 Axes>"
      ]
     },
     "metadata": {},
     "output_type": "display_data"
    },
    {
     "data": {
      "image/png": "[encoded data removed]",
      "text/plain": [
       "<Figure size 432x288 with 1 Axes>"
      ]
     },
     "metadata": {},
     "output_type": "display_data"
    },
    {
     "name": "stdout",
     "output_type": "stream",
     "text": [
      "mean: 12107.49634579244 median: 12000.0\n",
      "number of null rows: 0\n"
     ]
    },
    {
     "data": {
      "image/png": "[encoded data removed]",
      "text/plain": [
       "<Figure size 432x288 with 1 Axes>"
      ]
     },
     "metadata": {},
     "output_type": "display_data"
    },
    {
     "data": {
      "image/png": "[encoded data removed]",
      "text/plain": [
       "<Figure size 432x288 with 1 Axes>"
      ]
     },
     "metadata": {},
     "output_type": "display_data"
    }
   ],
   "source": [
    "report_numerical_variables(df_train, 'annual_mileage')"
   ]
  },
  {
   "cell_type": "markdown",
   "metadata": {},
   "source": [
    "### 'number_of_payment_faults' (target)"
   ]
  },
  {
   "cell_type": "code",
   "execution_count": 630,
   "metadata": {},
   "outputs": [
    {
     "name": "stdout",
     "output_type": "stream",
     "text": [
      "-------------\n",
      "number_of_payment_faults\n",
      "\n",
      "\n",
      "count   4789.000\n",
      "mean       2.914\n",
      "std        2.340\n",
      "min        1.000\n",
      "25%        1.000\n",
      "50%        2.000\n",
      "75%        4.000\n",
      "max       17.000\n",
      "Name: number_of_payment_faults, dtype: float64\n",
      "Skewness: 1.548341\n"
     ]
    },
    {
     "data": {
      "image/png": "[encoded data removed]",
      "text/plain": [
       "<Figure size 432x288 with 1 Axes>"
      ]
     },
     "metadata": {},
     "output_type": "display_data"
    },
    {
     "data": {
      "image/png": "[encoded data removed]",
      "text/plain": [
       "<Figure size 432x288 with 1 Axes>"
      ]
     },
     "metadata": {},
     "output_type": "display_data"
    },
    {
     "name": "stdout",
     "output_type": "stream",
     "text": [
      "mean: 2.9141783253288787 median: 2.0\n",
      "number of null rows: 0\n"
     ]
    },
    {
     "data": {
      "image/png": "[encoded data removed]",
      "text/plain": [
       "<Figure size 432x288 with 1 Axes>"
      ]
     },
     "metadata": {},
     "output_type": "display_data"
    },
    {
     "data": {
      "image/png": "[encoded data removed]",
      "text/plain": [
       "<Figure size 432x288 with 1 Axes>"
      ]
     },
     "metadata": {},
     "output_type": "display_data"
    }
   ],
   "source": [
    "report_numerical_variables(df_train, 'number_of_payment_faults')"
   ]
  },
  {
   "cell_type": "markdown",
   "metadata": {},
   "source": [
    "- ### Transforming some numerical variables that are really categorical\n",
    "    - **'risk_predictor_zip_code'**"
   ]
  },
  {
   "cell_type": "code",
   "execution_count": 631,
   "metadata": {},
   "outputs": [],
   "source": [
    "df_train['risk_predictor_zip_code'] = df_train['risk_predictor_zip_code'].apply(str)\n",
    "df_test['risk_predictor_zip_code'] = df_test['risk_predictor_zip_code'].apply(str)"
   ]
  },
  {
   "cell_type": "code",
   "execution_count": 632,
   "metadata": {},
   "outputs": [
    {
     "name": "stdout",
     "output_type": "stream",
     "text": [
      "<class 'pandas.core.frame.DataFrame'>\n",
      "Int64Index: 4789 entries, 0 to 27944\n",
      "Data columns (total 18 columns):\n",
      "contract_nr                 4789 non-null int64\n",
      "sf_class_tpl                4789 non-null object\n",
      "sf_class_fc                 4789 non-null object\n",
      "age_insured_person          4789 non-null int64\n",
      "policy_start                4786 non-null object\n",
      "tariff_type                 4789 non-null object\n",
      "type_of_insurance           4789 non-null object\n",
      "comprehensive_product       2437 non-null object\n",
      "fc_deductible               4789 non-null int64\n",
      "pc_deductible               4789 non-null int64\n",
      "payment_interval            4789 non-null object\n",
      "insured_parties             4789 non-null object\n",
      "profession_group            4789 non-null object\n",
      "car_age_at_purchase         4789 non-null int64\n",
      "car_age_contract_start      4789 non-null int64\n",
      "annual_mileage              4789 non-null int64\n",
      "risk_predictor_zip_code     4789 non-null object\n",
      "number_of_payment_faults    4789 non-null float64\n",
      "dtypes: float64(1), int64(7), object(10)\n",
      "memory usage: 710.9+ KB\n"
     ]
    }
   ],
   "source": [
    "df_train.info()"
   ]
  },
  {
   "cell_type": "markdown",
   "metadata": {},
   "source": [
    "- ### Add new column '_na' for all the numerical variables"
   ]
  },
  {
   "cell_type": "code",
   "execution_count": 633,
   "metadata": {},
   "outputs": [],
   "source": [
    "# handle the missing values: \n",
    "# - create a col_NA column to indicate which row has NAs.\n",
    "def add_col_na(df_train, target):\n",
    "    for col in df_train.columns:\n",
    "        if col != target and is_numeric_dtype(df_train[col]):\n",
    "            col_vals = df_train[col]\n",
    "            if sum(col_vals.isnull()) != 0:\n",
    "                df_train[col+'_na'] = col_vals.isnull()\n",
    "                df_test[col+'_na'] = df_test[col].isnull()                \n",
    "    return df_train, df_test"
   ]
  },
  {
   "cell_type": "code",
   "execution_count": 634,
   "metadata": {},
   "outputs": [],
   "source": [
    "df_train, df_test = add_col_na(df_train, 'number_of_payment_faults')"
   ]
  },
  {
   "cell_type": "code",
   "execution_count": 635,
   "metadata": {},
   "outputs": [
    {
     "name": "stdout",
     "output_type": "stream",
     "text": [
      "<class 'pandas.core.frame.DataFrame'>\n",
      "Int64Index: 4789 entries, 0 to 27944\n",
      "Data columns (total 18 columns):\n",
      "contract_nr                 4789 non-null int64\n",
      "sf_class_tpl                4789 non-null object\n",
      "sf_class_fc                 4789 non-null object\n",
      "age_insured_person          4789 non-null int64\n",
      "policy_start                4786 non-null object\n",
      "tariff_type                 4789 non-null object\n",
      "type_of_insurance           4789 non-null object\n",
      "comprehensive_product       2437 non-null object\n",
      "fc_deductible               4789 non-null int64\n",
      "pc_deductible               4789 non-null int64\n",
      "payment_interval            4789 non-null object\n",
      "insured_parties             4789 non-null object\n",
      "profession_group            4789 non-null object\n",
      "car_age_at_purchase         4789 non-null int64\n",
      "car_age_contract_start      4789 non-null int64\n",
      "annual_mileage              4789 non-null int64\n",
      "risk_predictor_zip_code     4789 non-null object\n",
      "number_of_payment_faults    4789 non-null float64\n",
      "dtypes: float64(1), int64(7), object(10)\n",
      "memory usage: 710.9+ KB\n"
     ]
    }
   ],
   "source": [
    "df_train.info()"
   ]
  },
  {
   "cell_type": "markdown",
   "metadata": {},
   "source": [
    "- ### Skewness\n",
    "\n",
    "\n",
    "Transform the skewed numeric features by taking log(feature + 1). This will make the features more normal.\n",
    "\n",
    "https://www.kaggle.com/humananalog/xgboost-lasso/code\n",
    "\n",
    "Other approaches:\n",
    "\n",
    "Box Cox Transformation of (highly) skewed features\n",
    "\n",
    "https://www.kaggle.com/serigne/stacked-regressions-top-4-on-leaderboard"
   ]
  },
  {
   "cell_type": "code",
   "execution_count": 636,
   "metadata": {},
   "outputs": [
    {
     "name": "stdout",
     "output_type": "stream",
     "text": [
      "<class 'pandas.core.frame.DataFrame'>\n",
      "Int64Index: 4789 entries, 0 to 27944\n",
      "Data columns (total 18 columns):\n",
      "contract_nr                 4789 non-null int64\n",
      "sf_class_tpl                4789 non-null object\n",
      "sf_class_fc                 4789 non-null object\n",
      "age_insured_person          4789 non-null int64\n",
      "policy_start                4786 non-null object\n",
      "tariff_type                 4789 non-null object\n",
      "type_of_insurance           4789 non-null object\n",
      "comprehensive_product       2437 non-null object\n",
      "fc_deductible               4789 non-null int64\n",
      "pc_deductible               4789 non-null int64\n",
      "payment_interval            4789 non-null object\n",
      "insured_parties             4789 non-null object\n",
      "profession_group            4789 non-null object\n",
      "car_age_at_purchase         4789 non-null int64\n",
      "car_age_contract_start      4789 non-null int64\n",
      "annual_mileage              4789 non-null int64\n",
      "risk_predictor_zip_code     4789 non-null object\n",
      "number_of_payment_faults    4789 non-null float64\n",
      "dtypes: float64(1), int64(7), object(10)\n",
      "memory usage: 710.9+ KB\n"
     ]
    }
   ],
   "source": [
    "df_train.info()"
   ]
  },
  {
   "cell_type": "code",
   "execution_count": 637,
   "metadata": {},
   "outputs": [],
   "source": [
    "numeric_features = ['age_insured_person', 'fc_deductible', 'pc_deductible', 'car_age_at_purchase', \n",
    "                    'car_age_contract_start', 'annual_mileage'] "
   ]
  },
  {
   "cell_type": "code",
   "execution_count": 639,
   "metadata": {},
   "outputs": [],
   "source": [
    "#numeric_feats = df_train.dtypes[df_train.dtypes != \"object\"].index\n",
    "#numeric_feats"
   ]
  },
  {
   "cell_type": "code",
   "execution_count": 640,
   "metadata": {},
   "outputs": [],
   "source": [
    "#skewed = df_train[numeric_features].apply(lambda x: skew(x.dropna().astype(int)))\n",
    "#skewed = skewed[skewed > 0.75]\n",
    "#skewed = skewed.index\n",
    "\n",
    "#df_train[skewed] = np.log1p(df_train[skewed])\n",
    "#df_test[skewed]  = np.log1p(df_test[skewed])"
   ]
  },
  {
   "cell_type": "code",
   "execution_count": 641,
   "metadata": {},
   "outputs": [
    {
     "name": "stdout",
     "output_type": "stream",
     "text": [
      "\n",
      "Skew in numerical features: \n",
      "\n"
     ]
    },
    {
     "data": {
      "text/html": [
       "<div>\n",
       "<style scoped>\n",
       "    .dataframe tbody tr th:only-of-type {\n",
       "        vertical-align: middle;\n",
       "    }\n",
       "\n",
       "    .dataframe tbody tr th {\n",
       "        vertical-align: top;\n",
       "    }\n",
       "\n",
       "    .dataframe thead th {\n",
       "        text-align: right;\n",
       "    }\n",
       "</style>\n",
       "<table border=\"1\" class=\"dataframe\">\n",
       "  <thead>\n",
       "    <tr style=\"text-align: right;\">\n",
       "      <th></th>\n",
       "      <th>Skew</th>\n",
       "    </tr>\n",
       "  </thead>\n",
       "  <tbody>\n",
       "    <tr>\n",
       "      <th>fc_deductible</th>\n",
       "      <td>2.406</td>\n",
       "    </tr>\n",
       "    <tr>\n",
       "      <th>annual_mileage</th>\n",
       "      <td>1.791</td>\n",
       "    </tr>\n",
       "    <tr>\n",
       "      <th>pc_deductible</th>\n",
       "      <td>0.898</td>\n",
       "    </tr>\n",
       "    <tr>\n",
       "      <th>age_insured_person</th>\n",
       "      <td>0.654</td>\n",
       "    </tr>\n",
       "    <tr>\n",
       "      <th>car_age_at_purchase</th>\n",
       "      <td>-0.043</td>\n",
       "    </tr>\n",
       "    <tr>\n",
       "      <th>car_age_contract_start</th>\n",
       "      <td>-0.209</td>\n",
       "    </tr>\n",
       "  </tbody>\n",
       "</table>\n",
       "</div>"
      ],
      "text/plain": [
       "                         Skew\n",
       "fc_deductible           2.406\n",
       "annual_mileage          1.791\n",
       "pc_deductible           0.898\n",
       "age_insured_person      0.654\n",
       "car_age_at_purchase    -0.043\n",
       "car_age_contract_start -0.209"
      ]
     },
     "execution_count": 641,
     "metadata": {},
     "output_type": "execute_result"
    }
   ],
   "source": [
    "#numeric_feats = all_data.dtypes[all_data.dtypes != \"object\"].index\n",
    "\n",
    "# Check the skew of all numerical features\n",
    "skewed_feats = df_train[numeric_features].apply(lambda x: skew(x.dropna())).sort_values(ascending=False)\n",
    "print(\"\\nSkew in numerical features: \\n\")\n",
    "skewness = pd.DataFrame({'Skew' :skewed_feats})\n",
    "skewness.head(10)"
   ]
  },
  {
   "cell_type": "code",
   "execution_count": 642,
   "metadata": {},
   "outputs": [
    {
     "name": "stdout",
     "output_type": "stream",
     "text": [
      "There are 6 skewed numerical features to Box Cox transform\n"
     ]
    }
   ],
   "source": [
    "skewness = skewness[abs(skewness) > 0.75]\n",
    "print(\"There are {} skewed numerical features to Box Cox transform\".format(skewness.shape[0]))\n",
    "\n",
    "skewed_features = skewness.index\n",
    "lam = 0.15\n",
    "for feat in skewed_features:\n",
    "    df_train[feat] = boxcox1p(df_train[feat], lam)\n",
    "    df_test[feat] = boxcox1p(df_test[feat], lam)"
   ]
  },
  {
   "cell_type": "markdown",
   "metadata": {},
   "source": [
    "- ### Outliers\n",
    "\n",
    "Some outliers could be removed, however outliers removal is note always safe. \n",
    "I decided not to delete any of the outliers, because I found there are many outliers in the dataset.\n",
    "On the other hand, as indicated by https://www.kaggle.com/serigne/stacked-regressions-top-4-on-leaderboard\n",
    "removing all outliers may affect badly the models if ever there were also outliers in the test data. That's why , instead of removing them all, we will just manage to make some of our models robust on them. \n"
   ]
  },
  {
   "cell_type": "code",
   "execution_count": null,
   "metadata": {},
   "outputs": [],
   "source": []
  },
  {
   "cell_type": "markdown",
   "metadata": {},
   "source": [
    "- ### Scale numerical features"
   ]
  },
  {
   "cell_type": "code",
   "execution_count": 643,
   "metadata": {},
   "outputs": [],
   "source": [
    "numeric_features = ['age_insured_person', 'fc_deductible', 'pc_deductible', 'car_age_at_purchase', \n",
    "                    'car_age_contract_start', 'annual_mileage'] \n",
    "\n",
    "scaler = StandardScaler()\n",
    "scaler.fit(df_train[numeric_features])\n",
    "\n",
    "scaled = scaler.transform(df_train[numeric_features])\n",
    "for i, col in enumerate(numeric_features):\n",
    "    df_train[col] = scaled[:, i]\n",
    "    \n",
    "scaled = scaler.transform(df_test[numeric_features])\n",
    "for i, col in enumerate(numeric_features):\n",
    "    df_test[col] = scaled[:, i]\n"
   ]
  },
  {
   "cell_type": "markdown",
   "metadata": {},
   "source": [
    "- ### One-hot encode categorical features\n"
   ]
  },
  {
   "cell_type": "code",
   "execution_count": 645,
   "metadata": {},
   "outputs": [
    {
     "data": {
      "text/plain": [
       "Index(['sf_class_tpl', 'sf_class_fc', 'policy_start', 'tariff_type',\n",
       "       'type_of_insurance', 'comprehensive_product', 'payment_interval',\n",
       "       'insured_parties', 'profession_group', 'risk_predictor_zip_code'],\n",
       "      dtype='object')"
      ]
     },
     "execution_count": 645,
     "metadata": {},
     "output_type": "execute_result"
    }
   ],
   "source": [
    "categorical_features = df_train.dtypes[df_train.dtypes == \"object\"].index\n",
    "categorical_features"
   ]
  },
  {
   "cell_type": "code",
   "execution_count": 646,
   "metadata": {},
   "outputs": [],
   "source": [
    "#categorical_features = ['sf_class_tpl', 'sf_class_fc', 'policy_start', 'tariff_type', 'type_of_insurance', \n",
    "#                        'payment_interval', 'insured_parties', 'profession_group', 'comprehensive_product', \n",
    "#                        'risk_predictor_zip_code'] "
   ]
  },
  {
   "cell_type": "code",
   "execution_count": 647,
   "metadata": {},
   "outputs": [],
   "source": [
    "#http://queirozf.com/entries/one-hot-encoding-a-feature-on-a-pandas-dataframe-an-example\n",
    "#https://stackoverflow.com/questions/41335718/keep-same-dummy-variable-in-training-and-testing-data\n",
    "dataset = pd.concat(objs=[df_train, df_test], axis=0)\n",
    "\n",
    "for categorical_feature in categorical_features:\n",
    "    dataset = pd.concat([dataset, \n",
    "                         pd.get_dummies(dataset[categorical_feature], prefix=categorical_feature, dummy_na=True)], \n",
    "                        axis=1)\n",
    "    \n",
    "    # now drop the original 'country' column (you don't need it anymore)\n",
    "    dataset.drop([categorical_feature], axis=1, inplace=True)\n",
    "\n",
    "train_len = len(df_train)\n",
    "df_train = dataset[:train_len]\n",
    "df_test = dataset[train_len:]"
   ]
  },
  {
   "cell_type": "code",
   "execution_count": 648,
   "metadata": {},
   "outputs": [
    {
     "name": "stdout",
     "output_type": "stream",
     "text": [
      "Index(['contract_nr', 'age_insured_person', 'fc_deductible', 'pc_deductible',\n",
      "       'car_age_at_purchase', 'car_age_contract_start', 'annual_mileage',\n",
      "       'number_of_payment_faults', 'sf_class_tpl_0', 'sf_class_tpl_M',\n",
      "       ...\n",
      "       'risk_predictor_zip_code_2.0', 'risk_predictor_zip_code_3.0',\n",
      "       'risk_predictor_zip_code_4.0', 'risk_predictor_zip_code_5.0',\n",
      "       'risk_predictor_zip_code_6.0', 'risk_predictor_zip_code_7.0',\n",
      "       'risk_predictor_zip_code_8.0', 'risk_predictor_zip_code_9.0',\n",
      "       'risk_predictor_zip_code_nan', 'risk_predictor_zip_code_nan'],\n",
      "      dtype='object', length=139)\n"
     ]
    }
   ],
   "source": [
    "print(df_train.columns)"
   ]
  },
  {
   "cell_type": "markdown",
   "metadata": {},
   "source": [
    "- ### Convert boolean features to integer\n",
    "We could also convert boolean features with one-hot encoding, if we want to us linear regression, neural networks, svm as regressors."
   ]
  },
  {
   "cell_type": "code",
   "execution_count": 649,
   "metadata": {},
   "outputs": [
    {
     "data": {
      "text/html": [
       "<div>\n",
       "<style scoped>\n",
       "    .dataframe tbody tr th:only-of-type {\n",
       "        vertical-align: middle;\n",
       "    }\n",
       "\n",
       "    .dataframe tbody tr th {\n",
       "        vertical-align: top;\n",
       "    }\n",
       "\n",
       "    .dataframe thead th {\n",
       "        text-align: right;\n",
       "    }\n",
       "</style>\n",
       "<table border=\"1\" class=\"dataframe\">\n",
       "  <thead>\n",
       "    <tr style=\"text-align: right;\">\n",
       "      <th></th>\n",
       "      <th>contract_nr</th>\n",
       "      <th>age_insured_person</th>\n",
       "      <th>fc_deductible</th>\n",
       "      <th>pc_deductible</th>\n",
       "      <th>car_age_at_purchase</th>\n",
       "      <th>car_age_contract_start</th>\n",
       "      <th>annual_mileage</th>\n",
       "      <th>number_of_payment_faults</th>\n",
       "      <th>sf_class_tpl_0</th>\n",
       "      <th>sf_class_tpl_M</th>\n",
       "      <th>...</th>\n",
       "      <th>risk_predictor_zip_code_2.0</th>\n",
       "      <th>risk_predictor_zip_code_3.0</th>\n",
       "      <th>risk_predictor_zip_code_4.0</th>\n",
       "      <th>risk_predictor_zip_code_5.0</th>\n",
       "      <th>risk_predictor_zip_code_6.0</th>\n",
       "      <th>risk_predictor_zip_code_7.0</th>\n",
       "      <th>risk_predictor_zip_code_8.0</th>\n",
       "      <th>risk_predictor_zip_code_9.0</th>\n",
       "      <th>risk_predictor_zip_code_nan</th>\n",
       "      <th>risk_predictor_zip_code_nan</th>\n",
       "    </tr>\n",
       "  </thead>\n",
       "  <tbody>\n",
       "    <tr>\n",
       "      <th>0</th>\n",
       "      <td>1</td>\n",
       "      <td>-0.497</td>\n",
       "      <td>-0.573</td>\n",
       "      <td>-1.013</td>\n",
       "      <td>0.279</td>\n",
       "      <td>0.065</td>\n",
       "      <td>0.174</td>\n",
       "      <td>1.000</td>\n",
       "      <td>0</td>\n",
       "      <td>0</td>\n",
       "      <td>...</td>\n",
       "      <td>0</td>\n",
       "      <td>0</td>\n",
       "      <td>0</td>\n",
       "      <td>1</td>\n",
       "      <td>0</td>\n",
       "      <td>0</td>\n",
       "      <td>0</td>\n",
       "      <td>0</td>\n",
       "      <td>0</td>\n",
       "      <td>0</td>\n",
       "    </tr>\n",
       "    <tr>\n",
       "      <th>33</th>\n",
       "      <td>34</td>\n",
       "      <td>0.496</td>\n",
       "      <td>-0.573</td>\n",
       "      <td>0.932</td>\n",
       "      <td>0.065</td>\n",
       "      <td>-0.204</td>\n",
       "      <td>-0.422</td>\n",
       "      <td>1.000</td>\n",
       "      <td>0</td>\n",
       "      <td>0</td>\n",
       "      <td>...</td>\n",
       "      <td>0</td>\n",
       "      <td>0</td>\n",
       "      <td>0</td>\n",
       "      <td>0</td>\n",
       "      <td>0</td>\n",
       "      <td>0</td>\n",
       "      <td>1</td>\n",
       "      <td>0</td>\n",
       "      <td>0</td>\n",
       "      <td>0</td>\n",
       "    </tr>\n",
       "    <tr>\n",
       "      <th>35</th>\n",
       "      <td>36</td>\n",
       "      <td>-0.243</td>\n",
       "      <td>-0.573</td>\n",
       "      <td>-1.013</td>\n",
       "      <td>0.696</td>\n",
       "      <td>0.598</td>\n",
       "      <td>-1.219</td>\n",
       "      <td>2.000</td>\n",
       "      <td>0</td>\n",
       "      <td>0</td>\n",
       "      <td>...</td>\n",
       "      <td>0</td>\n",
       "      <td>0</td>\n",
       "      <td>0</td>\n",
       "      <td>1</td>\n",
       "      <td>0</td>\n",
       "      <td>0</td>\n",
       "      <td>0</td>\n",
       "      <td>0</td>\n",
       "      <td>0</td>\n",
       "      <td>0</td>\n",
       "    </tr>\n",
       "    <tr>\n",
       "      <th>38</th>\n",
       "      <td>39</td>\n",
       "      <td>0.145</td>\n",
       "      <td>-0.573</td>\n",
       "      <td>0.932</td>\n",
       "      <td>-1.349</td>\n",
       "      <td>-1.803</td>\n",
       "      <td>0.654</td>\n",
       "      <td>2.000</td>\n",
       "      <td>0</td>\n",
       "      <td>0</td>\n",
       "      <td>...</td>\n",
       "      <td>0</td>\n",
       "      <td>0</td>\n",
       "      <td>0</td>\n",
       "      <td>0</td>\n",
       "      <td>0</td>\n",
       "      <td>0</td>\n",
       "      <td>0</td>\n",
       "      <td>0</td>\n",
       "      <td>0</td>\n",
       "      <td>0</td>\n",
       "    </tr>\n",
       "    <tr>\n",
       "      <th>47</th>\n",
       "      <td>48</td>\n",
       "      <td>1.441</td>\n",
       "      <td>1.644</td>\n",
       "      <td>0.932</td>\n",
       "      <td>-0.526</td>\n",
       "      <td>-0.918</td>\n",
       "      <td>0.174</td>\n",
       "      <td>1.000</td>\n",
       "      <td>0</td>\n",
       "      <td>0</td>\n",
       "      <td>...</td>\n",
       "      <td>0</td>\n",
       "      <td>0</td>\n",
       "      <td>0</td>\n",
       "      <td>1</td>\n",
       "      <td>0</td>\n",
       "      <td>0</td>\n",
       "      <td>0</td>\n",
       "      <td>0</td>\n",
       "      <td>0</td>\n",
       "      <td>0</td>\n",
       "    </tr>\n",
       "  </tbody>\n",
       "</table>\n",
       "<p>5 rows × 139 columns</p>\n",
       "</div>"
      ],
      "text/plain": [
       "    contract_nr  age_insured_person  fc_deductible  pc_deductible  \\\n",
       "0             1              -0.497         -0.573         -1.013   \n",
       "33           34               0.496         -0.573          0.932   \n",
       "35           36              -0.243         -0.573         -1.013   \n",
       "38           39               0.145         -0.573          0.932   \n",
       "47           48               1.441          1.644          0.932   \n",
       "\n",
       "    car_age_at_purchase  car_age_contract_start  annual_mileage  \\\n",
       "0                 0.279                   0.065           0.174   \n",
       "33                0.065                  -0.204          -0.422   \n",
       "35                0.696                   0.598          -1.219   \n",
       "38               -1.349                  -1.803           0.654   \n",
       "47               -0.526                  -0.918           0.174   \n",
       "\n",
       "    number_of_payment_faults  sf_class_tpl_0  sf_class_tpl_M  ...  \\\n",
       "0                      1.000               0               0  ...   \n",
       "33                     1.000               0               0  ...   \n",
       "35                     2.000               0               0  ...   \n",
       "38                     2.000               0               0  ...   \n",
       "47                     1.000               0               0  ...   \n",
       "\n",
       "    risk_predictor_zip_code_2.0  risk_predictor_zip_code_3.0  \\\n",
       "0                             0                            0   \n",
       "33                            0                            0   \n",
       "35                            0                            0   \n",
       "38                            0                            0   \n",
       "47                            0                            0   \n",
       "\n",
       "    risk_predictor_zip_code_4.0  risk_predictor_zip_code_5.0  \\\n",
       "0                             0                            1   \n",
       "33                            0                            0   \n",
       "35                            0                            1   \n",
       "38                            0                            0   \n",
       "47                            0                            1   \n",
       "\n",
       "    risk_predictor_zip_code_6.0  risk_predictor_zip_code_7.0  \\\n",
       "0                             0                            0   \n",
       "33                            0                            0   \n",
       "35                            0                            0   \n",
       "38                            0                            0   \n",
       "47                            0                            0   \n",
       "\n",
       "    risk_predictor_zip_code_8.0  risk_predictor_zip_code_9.0  \\\n",
       "0                             0                            0   \n",
       "33                            1                            0   \n",
       "35                            0                            0   \n",
       "38                            0                            0   \n",
       "47                            0                            0   \n",
       "\n",
       "    risk_predictor_zip_code_nan  risk_predictor_zip_code_nan  \n",
       "0                             0                            0  \n",
       "33                            0                            0  \n",
       "35                            0                            0  \n",
       "38                            0                            0  \n",
       "47                            0                            0  \n",
       "\n",
       "[5 rows x 139 columns]"
      ]
     },
     "execution_count": 649,
     "metadata": {},
     "output_type": "execute_result"
    }
   ],
   "source": [
    "df_train.head()"
   ]
  },
  {
   "cell_type": "code",
   "execution_count": 650,
   "metadata": {},
   "outputs": [
    {
     "name": "stdout",
     "output_type": "stream",
     "text": [
      "Index([], dtype='object')\n"
     ]
    }
   ],
   "source": [
    "bool_feature_columns = df_train.dtypes[df_train.dtypes == \"bool\"].index\n",
    "bool_feature_columns.values\n",
    "\n",
    "print(bool_feature_columns)"
   ]
  },
  {
   "cell_type": "code",
   "execution_count": 651,
   "metadata": {},
   "outputs": [],
   "source": [
    "for bool_feature_col in bool_feature_columns:\n",
    "    df_train[bool_feature_col] = df_train[bool_feature_col].astype('int32')\n",
    "    df_test[bool_feature_col] = df_test[bool_feature_col].astype('int32')"
   ]
  },
  {
   "cell_type": "code",
   "execution_count": 652,
   "metadata": {},
   "outputs": [
    {
     "data": {
      "text/html": [
       "<div>\n",
       "<style scoped>\n",
       "    .dataframe tbody tr th:only-of-type {\n",
       "        vertical-align: middle;\n",
       "    }\n",
       "\n",
       "    .dataframe tbody tr th {\n",
       "        vertical-align: top;\n",
       "    }\n",
       "\n",
       "    .dataframe thead th {\n",
       "        text-align: right;\n",
       "    }\n",
       "</style>\n",
       "<table border=\"1\" class=\"dataframe\">\n",
       "  <thead>\n",
       "    <tr style=\"text-align: right;\">\n",
       "      <th></th>\n",
       "      <th>contract_nr</th>\n",
       "      <th>age_insured_person</th>\n",
       "      <th>fc_deductible</th>\n",
       "      <th>pc_deductible</th>\n",
       "      <th>car_age_at_purchase</th>\n",
       "      <th>car_age_contract_start</th>\n",
       "      <th>annual_mileage</th>\n",
       "      <th>number_of_payment_faults</th>\n",
       "      <th>sf_class_tpl_0</th>\n",
       "      <th>sf_class_tpl_M</th>\n",
       "      <th>...</th>\n",
       "      <th>risk_predictor_zip_code_2.0</th>\n",
       "      <th>risk_predictor_zip_code_3.0</th>\n",
       "      <th>risk_predictor_zip_code_4.0</th>\n",
       "      <th>risk_predictor_zip_code_5.0</th>\n",
       "      <th>risk_predictor_zip_code_6.0</th>\n",
       "      <th>risk_predictor_zip_code_7.0</th>\n",
       "      <th>risk_predictor_zip_code_8.0</th>\n",
       "      <th>risk_predictor_zip_code_9.0</th>\n",
       "      <th>risk_predictor_zip_code_nan</th>\n",
       "      <th>risk_predictor_zip_code_nan</th>\n",
       "    </tr>\n",
       "  </thead>\n",
       "  <tbody>\n",
       "    <tr>\n",
       "      <th>0</th>\n",
       "      <td>1</td>\n",
       "      <td>-0.497</td>\n",
       "      <td>-0.573</td>\n",
       "      <td>-1.013</td>\n",
       "      <td>0.279</td>\n",
       "      <td>0.065</td>\n",
       "      <td>0.174</td>\n",
       "      <td>1.000</td>\n",
       "      <td>0</td>\n",
       "      <td>0</td>\n",
       "      <td>...</td>\n",
       "      <td>0</td>\n",
       "      <td>0</td>\n",
       "      <td>0</td>\n",
       "      <td>1</td>\n",
       "      <td>0</td>\n",
       "      <td>0</td>\n",
       "      <td>0</td>\n",
       "      <td>0</td>\n",
       "      <td>0</td>\n",
       "      <td>0</td>\n",
       "    </tr>\n",
       "    <tr>\n",
       "      <th>33</th>\n",
       "      <td>34</td>\n",
       "      <td>0.496</td>\n",
       "      <td>-0.573</td>\n",
       "      <td>0.932</td>\n",
       "      <td>0.065</td>\n",
       "      <td>-0.204</td>\n",
       "      <td>-0.422</td>\n",
       "      <td>1.000</td>\n",
       "      <td>0</td>\n",
       "      <td>0</td>\n",
       "      <td>...</td>\n",
       "      <td>0</td>\n",
       "      <td>0</td>\n",
       "      <td>0</td>\n",
       "      <td>0</td>\n",
       "      <td>0</td>\n",
       "      <td>0</td>\n",
       "      <td>1</td>\n",
       "      <td>0</td>\n",
       "      <td>0</td>\n",
       "      <td>0</td>\n",
       "    </tr>\n",
       "    <tr>\n",
       "      <th>35</th>\n",
       "      <td>36</td>\n",
       "      <td>-0.243</td>\n",
       "      <td>-0.573</td>\n",
       "      <td>-1.013</td>\n",
       "      <td>0.696</td>\n",
       "      <td>0.598</td>\n",
       "      <td>-1.219</td>\n",
       "      <td>2.000</td>\n",
       "      <td>0</td>\n",
       "      <td>0</td>\n",
       "      <td>...</td>\n",
       "      <td>0</td>\n",
       "      <td>0</td>\n",
       "      <td>0</td>\n",
       "      <td>1</td>\n",
       "      <td>0</td>\n",
       "      <td>0</td>\n",
       "      <td>0</td>\n",
       "      <td>0</td>\n",
       "      <td>0</td>\n",
       "      <td>0</td>\n",
       "    </tr>\n",
       "    <tr>\n",
       "      <th>38</th>\n",
       "      <td>39</td>\n",
       "      <td>0.145</td>\n",
       "      <td>-0.573</td>\n",
       "      <td>0.932</td>\n",
       "      <td>-1.349</td>\n",
       "      <td>-1.803</td>\n",
       "      <td>0.654</td>\n",
       "      <td>2.000</td>\n",
       "      <td>0</td>\n",
       "      <td>0</td>\n",
       "      <td>...</td>\n",
       "      <td>0</td>\n",
       "      <td>0</td>\n",
       "      <td>0</td>\n",
       "      <td>0</td>\n",
       "      <td>0</td>\n",
       "      <td>0</td>\n",
       "      <td>0</td>\n",
       "      <td>0</td>\n",
       "      <td>0</td>\n",
       "      <td>0</td>\n",
       "    </tr>\n",
       "    <tr>\n",
       "      <th>47</th>\n",
       "      <td>48</td>\n",
       "      <td>1.441</td>\n",
       "      <td>1.644</td>\n",
       "      <td>0.932</td>\n",
       "      <td>-0.526</td>\n",
       "      <td>-0.918</td>\n",
       "      <td>0.174</td>\n",
       "      <td>1.000</td>\n",
       "      <td>0</td>\n",
       "      <td>0</td>\n",
       "      <td>...</td>\n",
       "      <td>0</td>\n",
       "      <td>0</td>\n",
       "      <td>0</td>\n",
       "      <td>1</td>\n",
       "      <td>0</td>\n",
       "      <td>0</td>\n",
       "      <td>0</td>\n",
       "      <td>0</td>\n",
       "      <td>0</td>\n",
       "      <td>0</td>\n",
       "    </tr>\n",
       "  </tbody>\n",
       "</table>\n",
       "<p>5 rows × 139 columns</p>\n",
       "</div>"
      ],
      "text/plain": [
       "    contract_nr  age_insured_person  fc_deductible  pc_deductible  \\\n",
       "0             1              -0.497         -0.573         -1.013   \n",
       "33           34               0.496         -0.573          0.932   \n",
       "35           36              -0.243         -0.573         -1.013   \n",
       "38           39               0.145         -0.573          0.932   \n",
       "47           48               1.441          1.644          0.932   \n",
       "\n",
       "    car_age_at_purchase  car_age_contract_start  annual_mileage  \\\n",
       "0                 0.279                   0.065           0.174   \n",
       "33                0.065                  -0.204          -0.422   \n",
       "35                0.696                   0.598          -1.219   \n",
       "38               -1.349                  -1.803           0.654   \n",
       "47               -0.526                  -0.918           0.174   \n",
       "\n",
       "    number_of_payment_faults  sf_class_tpl_0  sf_class_tpl_M  ...  \\\n",
       "0                      1.000               0               0  ...   \n",
       "33                     1.000               0               0  ...   \n",
       "35                     2.000               0               0  ...   \n",
       "38                     2.000               0               0  ...   \n",
       "47                     1.000               0               0  ...   \n",
       "\n",
       "    risk_predictor_zip_code_2.0  risk_predictor_zip_code_3.0  \\\n",
       "0                             0                            0   \n",
       "33                            0                            0   \n",
       "35                            0                            0   \n",
       "38                            0                            0   \n",
       "47                            0                            0   \n",
       "\n",
       "    risk_predictor_zip_code_4.0  risk_predictor_zip_code_5.0  \\\n",
       "0                             0                            1   \n",
       "33                            0                            0   \n",
       "35                            0                            1   \n",
       "38                            0                            0   \n",
       "47                            0                            1   \n",
       "\n",
       "    risk_predictor_zip_code_6.0  risk_predictor_zip_code_7.0  \\\n",
       "0                             0                            0   \n",
       "33                            0                            0   \n",
       "35                            0                            0   \n",
       "38                            0                            0   \n",
       "47                            0                            0   \n",
       "\n",
       "    risk_predictor_zip_code_8.0  risk_predictor_zip_code_9.0  \\\n",
       "0                             0                            0   \n",
       "33                            1                            0   \n",
       "35                            0                            0   \n",
       "38                            0                            0   \n",
       "47                            0                            0   \n",
       "\n",
       "    risk_predictor_zip_code_nan  risk_predictor_zip_code_nan  \n",
       "0                             0                            0  \n",
       "33                            0                            0  \n",
       "35                            0                            0  \n",
       "38                            0                            0  \n",
       "47                            0                            0  \n",
       "\n",
       "[5 rows x 139 columns]"
      ]
     },
     "execution_count": 652,
     "metadata": {},
     "output_type": "execute_result"
    }
   ],
   "source": [
    "df_train.head()"
   ]
  },
  {
   "cell_type": "markdown",
   "metadata": {},
   "source": [
    "- ### Log-transformation of the target variable\n",
    "\n",
    "As (linear) models work well on normally distributed data, we need to transform the variable and make it more normally distributed."
   ]
  },
  {
   "cell_type": "code",
   "execution_count": 653,
   "metadata": {},
   "outputs": [],
   "source": [
    "# https://www.kaggle.com/humananalog/xgboost-lasso/code\n",
    "# https://www.kaggle.com/serigne/stacked-regressions-top-4-on-leaderboard\n",
    "#df_train['number_of_payment_faults'] = df_train['number_of_payment_faults'].astype('int32')\n",
    "\n",
    "df_target = pd.DataFrame(index = df_train.index, columns=['number_of_payment_faults'])\n",
    "df_target['number_of_payment_faults'] = df_train['number_of_payment_faults']\n",
    "\n",
    "df_target['number_of_payment_faults'] = np.log1p(df_train['number_of_payment_faults'])"
   ]
  },
  {
   "cell_type": "code",
   "execution_count": 654,
   "metadata": {},
   "outputs": [
    {
     "data": {
      "image/png": "[encoded data removed]",
      "text/plain": [
       "<Figure size 432x288 with 1 Axes>"
      ]
     },
     "metadata": {},
     "output_type": "display_data"
    },
    {
     "data": {
      "text/plain": [
       "<Figure size 432x288 with 0 Axes>"
      ]
     },
     "metadata": {},
     "output_type": "display_data"
    }
   ],
   "source": [
    "sns.distplot(df_target['number_of_payment_faults'], fit=norm)\n",
    "fig = plt.figure()"
   ]
  },
  {
   "cell_type": "code",
   "execution_count": 655,
   "metadata": {},
   "outputs": [
    {
     "data": {
      "text/plain": [
       "array([0.69314718, 1.09861229, 2.48490665, 2.07944154, 1.94591015,\n",
       "       1.38629436, 1.79175947, 1.60943791, 2.19722458, 2.56494936,\n",
       "       2.30258509, 2.39789527, 2.77258872, 2.89037176, 2.7080502 ,\n",
       "       2.63905733])"
      ]
     },
     "execution_count": 655,
     "metadata": {},
     "output_type": "execute_result"
    }
   ],
   "source": [
    "df_target['number_of_payment_faults'].unique()"
   ]
  },
  {
   "cell_type": "markdown",
   "metadata": {},
   "source": [
    "- ### Remove 'contract_nr'\n",
    "'contract_nr' will not be used as a feature to train a classifier"
   ]
  },
  {
   "cell_type": "code",
   "execution_count": 656,
   "metadata": {},
   "outputs": [],
   "source": [
    "df_train_contract_nr = pd.DataFrame(index = df_train.index, columns=['contract_nr']) \n",
    "df_train_contract_nr['contract_nr'] = df_train['contract_nr']\n",
    "\n",
    "df_test_contract_nr  = pd.DataFrame(index = df_test.index, columns=['contract_nr'])\n",
    "df_test_contract_nr['contract_nr'] = df_test['contract_nr']"
   ]
  },
  {
   "cell_type": "code",
   "execution_count": 657,
   "metadata": {},
   "outputs": [],
   "source": [
    "df_train.drop(['contract_nr'], axis=1, inplace=True)\n",
    "df_test.drop(['contract_nr'], axis=1, inplace=True)"
   ]
  },
  {
   "cell_type": "code",
   "execution_count": 658,
   "metadata": {},
   "outputs": [
    {
     "name": "stdout",
     "output_type": "stream",
     "text": [
      "Training set size: (4789, 138)\n",
      "Training target set size: (4789, 1)\n",
      "Test set size: (23161, 138)\n"
     ]
    }
   ],
   "source": [
    "print(\"Training set size:\", df_train.shape)\n",
    "print(\"Training target set size:\", df_target.shape)\n",
    "print(\"Test set size:\", df_test.shape)"
   ]
  },
  {
   "cell_type": "markdown",
   "metadata": {},
   "source": [
    "- ### Remove highly correlated features"
   ]
  },
  {
   "cell_type": "code",
   "execution_count": 659,
   "metadata": {},
   "outputs": [],
   "source": [
    "#plt.figure(figsize=(15, 15))\n",
    "#ax = sns.heatmap(df_train.corr(), vmax=.8, square=True, fmt='.2f', annot=True, linecolor='white', linewidths=0.01)\n",
    "#plt.title('Cross correlation between variables')\n",
    "#plt.show()"
   ]
  },
  {
   "cell_type": "code",
   "execution_count": 660,
   "metadata": {},
   "outputs": [
    {
     "data": {
      "text/plain": [
       "<matplotlib.axes._subplots.AxesSubplot at 0x1a1d0f6780>"
      ]
     },
     "execution_count": 660,
     "metadata": {},
     "output_type": "execute_result"
    },
    {
     "data": {
      "image/png": "[encoded data removed]",
      "text/plain": [
       "<Figure size 864x648 with 2 Axes>"
      ]
     },
     "metadata": {},
     "output_type": "display_data"
    }
   ],
   "source": [
    "#Correlation map to see how features are correlated with SalePrice\n",
    "corrmat = df_train.corr()\n",
    "plt.subplots(figsize=(12,9))\n",
    "sns.heatmap(corrmat, vmax=0.9, square=True)"
   ]
  },
  {
   "cell_type": "markdown",
   "metadata": {},
   "source": [
    "## 3. Modelling\n",
    "\n",
    "**Reference**\n",
    "\n",
    "https://www.kaggle.com/serigne/stacked-regressions-top-4-on-leaderboard\n",
    "\n",
    "https://xgboost.readthedocs.io/en/release_0.72/tutorials/model.html\n",
    "\n",
    "https://medium.com/mlreview/gradient-boosting-from-scratch-1e317ae4587d\n",
    "\n",
    "https://machinelearningmastery.com/gentle-introduction-gradient-boosting-algorithm-machine-learning/"
   ]
  },
  {
   "cell_type": "markdown",
   "metadata": {},
   "source": [
    "- ### Prepare train and test sets"
   ]
  },
  {
   "cell_type": "code",
   "execution_count": 661,
   "metadata": {},
   "outputs": [
    {
     "data": {
      "text/plain": [
       "Index(['age_insured_person', 'fc_deductible', 'pc_deductible',\n",
       "       'car_age_at_purchase', 'car_age_contract_start', 'annual_mileage',\n",
       "       'number_of_payment_faults', 'sf_class_tpl_0', 'sf_class_tpl_M',\n",
       "       'sf_class_tpl_S',\n",
       "       ...\n",
       "       'risk_predictor_zip_code_2.0', 'risk_predictor_zip_code_3.0',\n",
       "       'risk_predictor_zip_code_4.0', 'risk_predictor_zip_code_5.0',\n",
       "       'risk_predictor_zip_code_6.0', 'risk_predictor_zip_code_7.0',\n",
       "       'risk_predictor_zip_code_8.0', 'risk_predictor_zip_code_9.0',\n",
       "       'risk_predictor_zip_code_nan', 'risk_predictor_zip_code_nan'],\n",
       "      dtype='object', length=138)"
      ]
     },
     "execution_count": 661,
     "metadata": {},
     "output_type": "execute_result"
    }
   ],
   "source": [
    "df_train.columns"
   ]
  },
  {
   "cell_type": "code",
   "execution_count": 662,
   "metadata": {},
   "outputs": [],
   "source": [
    "y_train = df_target['number_of_payment_faults'].values\n",
    "x_train = df_train.drop(['number_of_payment_faults'], axis=1)\n",
    "\n",
    "x_test = df_test.drop(['number_of_payment_faults'], axis=1)"
   ]
  },
  {
   "cell_type": "code",
   "execution_count": 663,
   "metadata": {},
   "outputs": [
    {
     "data": {
      "text/plain": [
       "(4789, 137)"
      ]
     },
     "execution_count": 663,
     "metadata": {},
     "output_type": "execute_result"
    }
   ],
   "source": [
    "x_train.shape"
   ]
  },
  {
   "cell_type": "code",
   "execution_count": 664,
   "metadata": {},
   "outputs": [
    {
     "data": {
      "text/plain": [
       "(4789,)"
      ]
     },
     "execution_count": 664,
     "metadata": {},
     "output_type": "execute_result"
    }
   ],
   "source": [
    "y_train.shape"
   ]
  },
  {
   "cell_type": "code",
   "execution_count": 665,
   "metadata": {},
   "outputs": [
    {
     "data": {
      "text/plain": [
       "(23161, 137)"
      ]
     },
     "execution_count": 665,
     "metadata": {},
     "output_type": "execute_result"
    }
   ],
   "source": [
    "x_test.shape"
   ]
  },
  {
   "cell_type": "markdown",
   "metadata": {},
   "source": [
    "- ### Define a cross validation strategy"
   ]
  },
  {
   "cell_type": "code",
   "execution_count": 666,
   "metadata": {},
   "outputs": [],
   "source": [
    "def rmsle_cv(model, train=x_train, y_train=y_train, n_folds=3):\n",
    "    \n",
    "    kf = KFold(n_folds, shuffle=True, random_state=42).get_n_splits(train.values)\n",
    "    \n",
    "    rmse= np.sqrt(-cross_val_score(model, train.values, y_train, scoring=\"neg_mean_squared_error\", cv = kf))\n",
    "    \n",
    "    return(rmse)"
   ]
  },
  {
   "cell_type": "markdown",
   "metadata": {},
   "source": [
    "- #### LASSO Regression\n",
    "\n",
    "Use sklearn's Robustscaler() method on pipeline in order to make the model robusst to outliers."
   ]
  },
  {
   "cell_type": "code",
   "execution_count": 667,
   "metadata": {},
   "outputs": [],
   "source": [
    "lasso = make_pipeline(RobustScaler(), Lasso(alpha =0.0005, random_state=42))"
   ]
  },
  {
   "cell_type": "markdown",
   "metadata": {},
   "source": [
    "- #### Elastic Net Regression\n"
   ]
  },
  {
   "cell_type": "code",
   "execution_count": 668,
   "metadata": {},
   "outputs": [],
   "source": [
    "ENet = make_pipeline(RobustScaler(), ElasticNet(alpha=0.0005, l1_ratio=.9, random_state=42))"
   ]
  },
  {
   "cell_type": "markdown",
   "metadata": {},
   "source": [
    "- #### Kernel Ridge Regression"
   ]
  },
  {
   "cell_type": "code",
   "execution_count": 669,
   "metadata": {},
   "outputs": [],
   "source": [
    "KRR = KernelRidge(alpha=0.6, kernel='polynomial', degree=2, coef0=2.5)"
   ]
  },
  {
   "cell_type": "markdown",
   "metadata": {},
   "source": [
    "- #### Gradient Boosting Regression \n",
    "\n",
    "With huber loss to make it robust to outliers"
   ]
  },
  {
   "cell_type": "code",
   "execution_count": 670,
   "metadata": {},
   "outputs": [],
   "source": [
    "GBoost = GradientBoostingRegressor(n_estimators=200, \n",
    "                                   learning_rate=0.05,\n",
    "                                   max_depth=4, \n",
    "                                   max_features='sqrt',\n",
    "                                   min_samples_leaf=15, \n",
    "                                   min_samples_split=10, \n",
    "                                   loss='huber', \n",
    "                                   random_state =42)"
   ]
  },
  {
   "cell_type": "markdown",
   "metadata": {},
   "source": [
    "- #### XGBoost"
   ]
  },
  {
   "cell_type": "code",
   "execution_count": 671,
   "metadata": {},
   "outputs": [],
   "source": [
    "model_xgb = xgb.XGBRegressor(colsample_bytree=0.4603, \n",
    "                             gamma=0.0468, \n",
    "                             learning_rate=0.05, \n",
    "                             max_depth=3, \n",
    "                             min_child_weight=1.7817, \n",
    "                             n_estimators=200,\n",
    "                             reg_alpha=0.4640, \n",
    "                             reg_lambda=0.8571,\n",
    "                             subsample=0.5213, \n",
    "                             silent=1,\n",
    "                             random_state =42, \n",
    "                             nthread = 4)"
   ]
  },
  {
   "cell_type": "markdown",
   "metadata": {},
   "source": [
    "- #### lightGBM"
   ]
  },
  {
   "cell_type": "code",
   "execution_count": 672,
   "metadata": {},
   "outputs": [],
   "source": [
    "model_lgb = lgb.LGBMRegressor(objective='regression',\n",
    "                              num_leaves=5,\n",
    "                              learning_rate=0.05, \n",
    "                              n_estimators=100,\n",
    "                              max_bin = 55, \n",
    "                              bagging_fraction = 0.8,\n",
    "                              bagging_freq = 5, \n",
    "                              feature_fraction = 0.2319,\n",
    "                              feature_fraction_seed=9, \n",
    "                              bagging_seed=9,\n",
    "                              min_data_in_leaf =6, \n",
    "                              min_sum_hessian_in_leaf = 11)"
   ]
  },
  {
   "cell_type": "markdown",
   "metadata": {},
   "source": [
    "- #### Random forest"
   ]
  },
  {
   "cell_type": "code",
   "execution_count": 673,
   "metadata": {},
   "outputs": [],
   "source": [
    "model_rf = RandomForestRegressor(n_estimators=200, \n",
    "                                 random_state=42, \n",
    "                                 max_depth=4,\n",
    "                                 #min_weight_fraction_leaf=0.1,\n",
    "                                 #max_leaf_nodes = 20,\n",
    "                                 #min_samples_split = 20\n",
    "                                )"
   ]
  },
  {
   "cell_type": "code",
   "execution_count": 674,
   "metadata": {},
   "outputs": [
    {
     "name": "stdout",
     "output_type": "stream",
     "text": [
      "\n",
      "Lasso score: 0.4854 (0.0041)\n",
      "\n"
     ]
    }
   ],
   "source": [
    "score = rmsle_cv(lasso)\n",
    "print(\"\\nLasso score: {:.4f} ({:.4f})\\n\".format(score.mean(), score.std()))"
   ]
  },
  {
   "cell_type": "code",
   "execution_count": 675,
   "metadata": {},
   "outputs": [
    {
     "name": "stdout",
     "output_type": "stream",
     "text": [
      "ElasticNet score: 0.4855 (0.0041)\n",
      "\n"
     ]
    }
   ],
   "source": [
    "score = rmsle_cv(ENet)\n",
    "print(\"ElasticNet score: {:.4f} ({:.4f})\\n\".format(score.mean(), score.std()))"
   ]
  },
  {
   "cell_type": "code",
   "execution_count": 676,
   "metadata": {},
   "outputs": [
    {
     "name": "stdout",
     "output_type": "stream",
     "text": [
      "Kernel Ridge score: 0.4859 (0.0037)\n",
      "\n"
     ]
    }
   ],
   "source": [
    "score = rmsle_cv(KRR)\n",
    "print(\"Kernel Ridge score: {:.4f} ({:.4f})\\n\".format(score.mean(), score.std()))"
   ]
  },
  {
   "cell_type": "code",
   "execution_count": 677,
   "metadata": {},
   "outputs": [
    {
     "name": "stdout",
     "output_type": "stream",
     "text": [
      "Gradient Boosting score: 0.4849 (0.0015)\n",
      "\n"
     ]
    }
   ],
   "source": [
    "score = rmsle_cv(GBoost)\n",
    "print(\"Gradient Boosting score: {:.4f} ({:.4f})\\n\".format(score.mean(), score.std()))"
   ]
  },
  {
   "cell_type": "code",
   "execution_count": 678,
   "metadata": {},
   "outputs": [
    {
     "name": "stdout",
     "output_type": "stream",
     "text": [
      "Xgboost score: 0.4840 (0.0028)\n",
      "\n"
     ]
    }
   ],
   "source": [
    "score = rmsle_cv(model_xgb)\n",
    "print(\"Xgboost score: {:.4f} ({:.4f})\\n\".format(score.mean(), score.std()))"
   ]
  },
  {
   "cell_type": "code",
   "execution_count": 679,
   "metadata": {},
   "outputs": [],
   "source": [
    "#score = rmsle_cv(model_lgb)\n",
    "#print(\"LGBM score: {:.4f} ({:.4f})\\n\" .format(score.mean(), score.std()))"
   ]
  },
  {
   "cell_type": "code",
   "execution_count": 680,
   "metadata": {},
   "outputs": [
    {
     "name": "stdout",
     "output_type": "stream",
     "text": [
      "RF score: 0.4903 (0.0015)\n",
      "\n"
     ]
    }
   ],
   "source": [
    "score = rmsle_cv(model_rf)\n",
    "print(\"RF score: {:.4f} ({:.4f})\\n\" .format(score.mean(), score.std()))"
   ]
  },
  {
   "cell_type": "markdown",
   "metadata": {},
   "source": [
    "- ###  Hyperparameter tuning\n",
    "\n",
    "https://www.kaggle.com/jayatou/xgbregressor-with-gridsearchcv\n",
    "\n",
    "https://www.kaggle.com/ksjpswaroop/parameter-tuning-rf-randomized-search"
   ]
  },
  {
   "cell_type": "code",
   "execution_count": null,
   "metadata": {},
   "outputs": [],
   "source": [
    "regr_xgb = xgb.XGBRegressor()\n",
    "\n",
    "param_dist = {'objective':['reg:linear'],\n",
    "              'learning_rate': [0.01, 0.05, 0.07, 0.09], \n",
    "              'max_depth': [4, 6, 8],\n",
    "              'n_estimators': [100, 200, 500, 1000],\n",
    "              'min_child_weight': [2, 4],\n",
    "              #'silent': [1],\n",
    "              #'subsample': [0.7],\n",
    "              #'colsample_bytree': [0.7],\n",
    "              #'nthread':[4], #when use hyperthread, xgboost may become slower\n",
    "             }\n",
    "\n",
    "# https://scikit-learn.org/stable/modules/generated/sklearn.model_selection.RandomizedSearchCV.html\n",
    "random_search = RandomizedSearchCV(estimator = regr_xgb, \n",
    "                                   param_distributions = param_dist, \n",
    "                                   n_jobs = 4,\n",
    "                                   n_iter = 2,\n",
    "                                   cv = 3,\n",
    "                                   verbose=2,\n",
    "                                  )\n",
    "\n",
    "#xgb_grid = GridSearchCV(xgb1, parameters, cv = 2, n_jobs = 5, verbose=True)\n",
    "random_search.fit(x_train, y_train)\n",
    "\n",
    "print('xgboost (hyperparameter tuning with random search)')\n",
    "print(random_search.best_score_)\n",
    "print(random_search.best_params_)\n",
    "\n",
    "xgb_random_search_train_pred = random_search.predict(x_train.values)\n",
    "\n",
    "xgb_random_search_pred = model_xgb.predict(x_test.values)\n",
    "xgb_random_search_pred = np.expm1(xgb_random_search_pred)\n",
    "\n",
    "print(rmsle(y_train, xgb_random_search_train_pred))"
   ]
  },
  {
   "cell_type": "code",
   "execution_count": null,
   "metadata": {},
   "outputs": [],
   "source": [
    "score = rmsle_cv(random_search)\n",
    "print(\"RF score: {:.4f} ({:.4f})\\n\" .format(score.mean(), score.std()))"
   ]
  },
  {
   "cell_type": "markdown",
   "metadata": {},
   "source": [
    "- ### Stacking\n",
    "\n",
    "The code is taken from\n",
    "\n",
    "https://www.kaggle.com/serigne/stacked-regressions-top-4-on-leaderboard"
   ]
  },
  {
   "cell_type": "markdown",
   "metadata": {},
   "source": [
    "- #### Averaged base models class"
   ]
  },
  {
   "cell_type": "code",
   "execution_count": 682,
   "metadata": {},
   "outputs": [],
   "source": [
    "class AveragingModels(BaseEstimator, RegressorMixin, TransformerMixin):\n",
    "    def __init__(self, models):\n",
    "        self.models = models\n",
    "        \n",
    "    # we define clones of the original models to fit the data in\n",
    "    def fit(self, X, y):\n",
    "        self.models_ = [clone(x) for x in self.models]\n",
    "        \n",
    "        # Train cloned base models\n",
    "        for model in self.models_:\n",
    "            model.fit(X, y)\n",
    "\n",
    "        return self\n",
    "    \n",
    "    #Now we do the predictions for cloned models and average them\n",
    "    def predict(self, X):\n",
    "        predictions = np.column_stack([\n",
    "            model.predict(X) for model in self.models_\n",
    "        ])\n",
    "        return np.mean(predictions, axis=1)   "
   ]
  },
  {
   "cell_type": "markdown",
   "metadata": {},
   "source": [
    "- #### Averaged base models score"
   ]
  },
  {
   "cell_type": "code",
   "execution_count": 683,
   "metadata": {},
   "outputs": [
    {
     "name": "stdout",
     "output_type": "stream",
     "text": [
      " Averaged base models score: 0.4842 (0.0034)\n",
      "\n"
     ]
    }
   ],
   "source": [
    "averaged_models = AveragingModels(models = (ENet, GBoost, KRR, lasso))\n",
    "\n",
    "score = rmsle_cv(averaged_models)\n",
    "print(\" Averaged base models score: {:.4f} ({:.4f})\\n\".format(score.mean(), score.std()))"
   ]
  },
  {
   "cell_type": "markdown",
   "metadata": {},
   "source": [
    "- ### More stacking\n",
    "\n",
    "The code is taken from\n",
    "\n",
    "https://www.kaggle.com/serigne/stacked-regressions-top-4-on-leaderboard\n",
    "\n",
    "\n",
    "1. Split the total training set into two disjoint sets (train and .holdout )\n",
    "\n",
    "2. Train several base models on the first part (train)\n",
    "\n",
    "3. Test these base models on the second part (holdout)\n",
    "\n",
    "4. Use the predictions from 3) (called out-of-folds predictions) as the inputs, and the correct responses (target variable) as the outputs to train a higher level learner called meta-model.\n",
    "\n",
    "For the prediction part , we average the predictions of all base models on the test data and used them as meta-features on which, the final prediction is done with the meta-model.\n",
    "\n",
    "\n",
    "**Reference**\n",
    "\n",
    "https://www.kaggle.com/getting-started/18153#post103381\n",
    "\n",
    "https://www.kaggle.com/serigne/stacked-regressions-top-4-on-leaderboard\n",
    "\n",
    "http://blog.kaggle.com/2017/06/15/stacking-made-easy-an-introduction-to-stacknet-by-competitions-grandmaster-marios-michailidis-kazanova/\n",
    "\n",
    "\n"
   ]
  },
  {
   "cell_type": "code",
   "execution_count": 684,
   "metadata": {},
   "outputs": [
    {
     "data": {
      "image/jpeg": "[encoded data removed]",
      "text/plain": [
       "<IPython.core.display.Image object>"
      ]
     },
     "execution_count": 684,
     "metadata": {},
     "output_type": "execute_result"
    }
   ],
   "source": [
    "# https://nbsphinx.readthedocs.io/en/0.1.0/example.html\n",
    "from IPython.display import display, Image, SVG, Math, YouTubeVideo\n",
    "i = Image(filename='stacking.jpg')\n",
    "i"
   ]
  },
  {
   "cell_type": "markdown",
   "metadata": {},
   "source": [
    "Image taken from Faron, https://www.kaggle.com/getting-started/18153#post103381"
   ]
  },
  {
   "cell_type": "markdown",
   "metadata": {},
   "source": [
    "- #### Stacking averaged Models Class"
   ]
  },
  {
   "cell_type": "code",
   "execution_count": 685,
   "metadata": {},
   "outputs": [],
   "source": [
    "class StackingAveragedModels(BaseEstimator, RegressorMixin, TransformerMixin):\n",
    "    def __init__(self, base_models, meta_model, n_folds=5):\n",
    "        self.base_models = base_models\n",
    "        self.meta_model = meta_model\n",
    "        self.n_folds = n_folds\n",
    "   \n",
    "    # We again fit the data on clones of the original models\n",
    "    def fit(self, X, y):\n",
    "        self.base_models_ = [list() for x in self.base_models]\n",
    "        self.meta_model_ = clone(self.meta_model)\n",
    "        kfold = KFold(n_splits=self.n_folds, shuffle=True, random_state=156)\n",
    "        \n",
    "        # Train cloned base models then create out-of-fold predictions\n",
    "        # that are needed to train the cloned meta-model\n",
    "        out_of_fold_predictions = np.zeros((X.shape[0], len(self.base_models)))\n",
    "        for i, model in enumerate(self.base_models):\n",
    "            for train_index, holdout_index in kfold.split(X, y):\n",
    "                instance = clone(model)\n",
    "                self.base_models_[i].append(instance)\n",
    "                instance.fit(X[train_index], y[train_index])\n",
    "                y_pred = instance.predict(X[holdout_index])\n",
    "                out_of_fold_predictions[holdout_index, i] = y_pred\n",
    "                \n",
    "        # Now train the cloned  meta-model using the out-of-fold predictions as new feature\n",
    "        self.meta_model_.fit(out_of_fold_predictions, y)\n",
    "        return self\n",
    "   \n",
    "    #Do the predictions of all base models on the test data and use the averaged predictions as \n",
    "    #meta-features for the final prediction which is done by the meta-model\n",
    "    def predict(self, X):\n",
    "        meta_features = np.column_stack([\n",
    "            np.column_stack([model.predict(X) for model in base_models]).mean(axis=1)\n",
    "            for base_models in self.base_models_ ])\n",
    "        return self.meta_model_.predict(meta_features)"
   ]
  },
  {
   "cell_type": "markdown",
   "metadata": {},
   "source": [
    "- #### Stacking Averaged models Score"
   ]
  },
  {
   "cell_type": "code",
   "execution_count": 686,
   "metadata": {},
   "outputs": [
    {
     "name": "stdout",
     "output_type": "stream",
     "text": [
      "Stacking Averaged models score: 0.4836 (0.0026)\n"
     ]
    }
   ],
   "source": [
    "stacked_averaged_models = StackingAveragedModels(base_models = (ENet, GBoost, KRR),\n",
    "                                                 meta_model = lasso)\n",
    "\n",
    "score = rmsle_cv(stacked_averaged_models)\n",
    "print(\"Stacking Averaged models score: {:.4f} ({:.4f})\".format(score.mean(), score.std()))"
   ]
  },
  {
   "cell_type": "code",
   "execution_count": 687,
   "metadata": {},
   "outputs": [],
   "source": [
    "def rmsle(y, y_pred):\n",
    "    return np.sqrt(mean_squared_error(y, y_pred))"
   ]
  },
  {
   "cell_type": "code",
   "execution_count": 688,
   "metadata": {},
   "outputs": [
    {
     "name": "stdout",
     "output_type": "stream",
     "text": [
      "0.46784401105481244\n"
     ]
    }
   ],
   "source": [
    "stacked_averaged_models.fit(x_train.values, y_train)\n",
    "\n",
    "stacked_train_pred = stacked_averaged_models.predict(x_train.values)\n",
    "\n",
    "stacked_pred = stacked_averaged_models.predict(x_test.values)\n",
    "stacked_pred = np.expm1(stacked_pred)\n",
    "\n",
    "print(rmsle(y_train, stacked_train_pred))"
   ]
  },
  {
   "cell_type": "code",
   "execution_count": 689,
   "metadata": {},
   "outputs": [
    {
     "name": "stdout",
     "output_type": "stream",
     "text": [
      "0.4629616181577365\n"
     ]
    }
   ],
   "source": [
    "model_xgb.fit(x_train.values, y_train)\n",
    "\n",
    "xgb_train_pred = model_xgb.predict(x_train.values)\n",
    "\n",
    "xgb_pred = model_xgb.predict(x_test.values)\n",
    "xgb_pred = np.expm1(xgb_pred)\n",
    "\n",
    "print(rmsle(y_train, xgb_train_pred))"
   ]
  },
  {
   "cell_type": "code",
   "execution_count": 690,
   "metadata": {},
   "outputs": [
    {
     "name": "stdout",
     "output_type": "stream",
     "text": [
      "0.48226165802239657\n"
     ]
    }
   ],
   "source": [
    "model_rf.fit(x_train.values, y_train)\n",
    "\n",
    "rf_train_pred = model_rf.predict(x_train.values)\n",
    "\n",
    "rf_pred = model_rf.predict(x_test.values)\n",
    "rf_pred = np.expm1(rf_pred)\n",
    "\n",
    "print(rmsle(y_train, rf_train_pred))"
   ]
  },
  {
   "cell_type": "markdown",
   "metadata": {},
   "source": [
    "- #### Ensemble prediction"
   ]
  },
  {
   "cell_type": "code",
   "execution_count": 691,
   "metadata": {},
   "outputs": [],
   "source": [
    "ensemble = stacked_pred*0.40 + xgb_pred*0.30 + rf_pred*0.30"
   ]
  },
  {
   "cell_type": "code",
   "execution_count": 694,
   "metadata": {},
   "outputs": [
    {
     "data": {
      "text/plain": [
       "{1.0, 2.0, 3.0, 4.0}"
      ]
     },
     "execution_count": 694,
     "metadata": {},
     "output_type": "execute_result"
    }
   ],
   "source": [
    "set(np.round(ensemble))"
   ]
  },
  {
   "cell_type": "markdown",
   "metadata": {},
   "source": [
    "- #### Save prediction"
   ]
  },
  {
   "cell_type": "code",
   "execution_count": 695,
   "metadata": {},
   "outputs": [],
   "source": [
    "sub = pd.DataFrame()\n",
    "sub['contract_nr'] = df_test_contract_nr['contract_nr']\n",
    "sub['number_of_payment_faults'] = np.round(ensemble)\n",
    "\n",
    "sub.to_excel('output.xlsx', index=False)"
   ]
  },
  {
   "cell_type": "code",
   "execution_count": 696,
   "metadata": {},
   "outputs": [],
   "source": [
    "df_output = pd.read_excel('output.xlsx')"
   ]
  },
  {
   "cell_type": "code",
   "execution_count": 698,
   "metadata": {},
   "outputs": [
    {
     "data": {
      "text/html": [
       "<div>\n",
       "<style scoped>\n",
       "    .dataframe tbody tr th:only-of-type {\n",
       "        vertical-align: middle;\n",
       "    }\n",
       "\n",
       "    .dataframe tbody tr th {\n",
       "        vertical-align: top;\n",
       "    }\n",
       "\n",
       "    .dataframe thead th {\n",
       "        text-align: right;\n",
       "    }\n",
       "</style>\n",
       "<table border=\"1\" class=\"dataframe\">\n",
       "  <thead>\n",
       "    <tr style=\"text-align: right;\">\n",
       "      <th></th>\n",
       "      <th>contract_nr</th>\n",
       "      <th>number_of_payment_faults</th>\n",
       "    </tr>\n",
       "  </thead>\n",
       "  <tbody>\n",
       "    <tr>\n",
       "      <th>0</th>\n",
       "      <td>2</td>\n",
       "      <td>1</td>\n",
       "    </tr>\n",
       "    <tr>\n",
       "      <th>1</th>\n",
       "      <td>3</td>\n",
       "      <td>2</td>\n",
       "    </tr>\n",
       "    <tr>\n",
       "      <th>2</th>\n",
       "      <td>4</td>\n",
       "      <td>2</td>\n",
       "    </tr>\n",
       "    <tr>\n",
       "      <th>3</th>\n",
       "      <td>5</td>\n",
       "      <td>2</td>\n",
       "    </tr>\n",
       "    <tr>\n",
       "      <th>4</th>\n",
       "      <td>6</td>\n",
       "      <td>2</td>\n",
       "    </tr>\n",
       "    <tr>\n",
       "      <th>5</th>\n",
       "      <td>7</td>\n",
       "      <td>2</td>\n",
       "    </tr>\n",
       "    <tr>\n",
       "      <th>6</th>\n",
       "      <td>8</td>\n",
       "      <td>2</td>\n",
       "    </tr>\n",
       "    <tr>\n",
       "      <th>7</th>\n",
       "      <td>9</td>\n",
       "      <td>2</td>\n",
       "    </tr>\n",
       "    <tr>\n",
       "      <th>8</th>\n",
       "      <td>10</td>\n",
       "      <td>2</td>\n",
       "    </tr>\n",
       "    <tr>\n",
       "      <th>9</th>\n",
       "      <td>11</td>\n",
       "      <td>2</td>\n",
       "    </tr>\n",
       "    <tr>\n",
       "      <th>10</th>\n",
       "      <td>12</td>\n",
       "      <td>2</td>\n",
       "    </tr>\n",
       "    <tr>\n",
       "      <th>11</th>\n",
       "      <td>13</td>\n",
       "      <td>2</td>\n",
       "    </tr>\n",
       "    <tr>\n",
       "      <th>12</th>\n",
       "      <td>14</td>\n",
       "      <td>2</td>\n",
       "    </tr>\n",
       "    <tr>\n",
       "      <th>13</th>\n",
       "      <td>15</td>\n",
       "      <td>2</td>\n",
       "    </tr>\n",
       "    <tr>\n",
       "      <th>14</th>\n",
       "      <td>16</td>\n",
       "      <td>2</td>\n",
       "    </tr>\n",
       "    <tr>\n",
       "      <th>15</th>\n",
       "      <td>17</td>\n",
       "      <td>2</td>\n",
       "    </tr>\n",
       "    <tr>\n",
       "      <th>16</th>\n",
       "      <td>18</td>\n",
       "      <td>2</td>\n",
       "    </tr>\n",
       "    <tr>\n",
       "      <th>17</th>\n",
       "      <td>19</td>\n",
       "      <td>2</td>\n",
       "    </tr>\n",
       "    <tr>\n",
       "      <th>18</th>\n",
       "      <td>20</td>\n",
       "      <td>2</td>\n",
       "    </tr>\n",
       "    <tr>\n",
       "      <th>19</th>\n",
       "      <td>21</td>\n",
       "      <td>2</td>\n",
       "    </tr>\n",
       "  </tbody>\n",
       "</table>\n",
       "</div>"
      ],
      "text/plain": [
       "    contract_nr  number_of_payment_faults\n",
       "0             2                         1\n",
       "1             3                         2\n",
       "2             4                         2\n",
       "3             5                         2\n",
       "4             6                         2\n",
       "5             7                         2\n",
       "6             8                         2\n",
       "7             9                         2\n",
       "8            10                         2\n",
       "9            11                         2\n",
       "10           12                         2\n",
       "11           13                         2\n",
       "12           14                         2\n",
       "13           15                         2\n",
       "14           16                         2\n",
       "15           17                         2\n",
       "16           18                         2\n",
       "17           19                         2\n",
       "18           20                         2\n",
       "19           21                         2"
      ]
     },
     "execution_count": 698,
     "metadata": {},
     "output_type": "execute_result"
    }
   ],
   "source": [
    "df_output.head(20)"
   ]
  },
  {
   "cell_type": "code",
   "execution_count": null,
   "metadata": {},
   "outputs": [],
   "source": []
  }
 ],
 "metadata": {
  "kernelspec": {
   "display_name": "Python 3",
   "language": "python",
   "name": "python3"
  },
  "language_info": {
   "codemirror_mode": {
    "name": "ipython",
    "version": 3
   },
   "file_extension": ".py",
   "mimetype": "text/x-python",
   "name": "python",
   "nbconvert_exporter": "python",
   "pygments_lexer": "ipython3",
   "version": "3.6.8"
  }
 },
 "nbformat": 4,
 "nbformat_minor": 2
}
