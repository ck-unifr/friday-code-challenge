{
 "cells": [
  {
   "cell_type": "markdown",
   "metadata": {},
   "source": []
  },
  {
   "cell_type": "code",
   "execution_count": 1,
   "metadata": {},
   "outputs": [
    {
     "name": "stderr",
     "output_type": "stream",
     "text": [
      "/Users/kai/anaconda3/lib/python3.6/site-packages/lightgbm/__init__.py:46: UserWarning: Starting from version 2.2.1, the library file in distribution wheels for macOS is built by the Apple Clang (Xcode_9.4.1) compiler.\n",
      "This means that in case of installing LightGBM from PyPI via the ``pip install lightgbm`` command, you don't need to install the gcc compiler anymore.\n",
      "Instead of that, you need to install the OpenMP library, which is required for running LightGBM on the system with the Apple Clang compiler.\n",
      "You can install the OpenMP library by the following command: ``brew install libomp``.\n",
      "  \"You can install the OpenMP library by the following command: ``brew install libomp``.\", UserWarning)\n"
     ]
    }
   ],
   "source": [
    "import collections\n",
    "\n",
    "import math\n",
    "\n",
    "from datetime import datetime\n",
    "\n",
    "import statsmodels.formula.api as smf\n",
    "\n",
    "import pandas as pd\n",
    "from pandas.api.types import is_string_dtype, is_numeric_dtype\n",
    "\n",
    "import numpy as np\n",
    "from numpy import inf\n",
    "\n",
    "from scipy import stats\n",
    "from scipy.stats import skew, norm\n",
    "from scipy.stats import randint as sp_randint\n",
    "\n",
    "import matplotlib.pyplot as plt\n",
    "import matplotlib.image as mpimg\n",
    "from matplotlib import pyplot\n",
    "%matplotlib inline\n",
    "import seaborn as sns\n",
    "color = sns.color_palette()\n",
    "sns.set_style('darkgrid')\n",
    "\n",
    "\n",
    "from sklearn.model_selection import StratifiedKFold\n",
    "from sklearn.model_selection import RandomizedSearchCV, GridSearchCV\n",
    "from sklearn.model_selection import KFold, cross_val_score, StratifiedKFold, train_test_split\n",
    "from sklearn.ensemble import RandomForestRegressor, RandomForestClassifier, GradientBoostingRegressor\n",
    "from sklearn import linear_model\n",
    "from sklearn.linear_model import LinearRegression, ElasticNet, Lasso, BayesianRidge, LassoLarsIC\n",
    "from sklearn.preprocessing import Normalizer, StandardScaler, RobustScaler\n",
    "from sklearn import metrics\n",
    "from sklearn.metrics import mean_absolute_error, mean_squared_error, confusion_matrix, classification_report\n",
    "from sklearn.metrics import precision_recall_fscore_support, accuracy_score\n",
    "from sklearn.kernel_ridge import KernelRidge\n",
    "from sklearn.pipeline import make_pipeline\n",
    "from sklearn.base import BaseEstimator, TransformerMixin, RegressorMixin, clone\n",
    "\n",
    "import xgboost as xgb\n",
    "from xgboost import XGBClassifier\n",
    "from xgboost import plot_importance\n",
    "\n",
    "import lightgbm as lgb\n",
    "\n",
    "from hyperopt import hp, tpe, STATUS_OK, Trials\n",
    "from hyperopt.fmin import fmin\n",
    "\n",
    "import warnings\n",
    "warnings.filterwarnings(\"ignore\")\n",
    "def ignore_warn(*args, **kwargs):\n",
    "    pass\n",
    "warnings.warn = ignore_warn #ignore annoying warning (from sklearn and seaborn)\n",
    "\n",
    "pd.set_option('display.float_format', lambda x: '{:.3f}'.format(x)) #Limiting floats output to 3 decimal points\n",
    "\n",
    "#from subprocess import check_output\n",
    "#print(check_output([\"ls\", \"../input\"]).decode(\"utf8\")) #check the files available in the directory\n",
    "\n",
    "np.random.seed(42)"
   ]
  },
  {
   "cell_type": "markdown",
   "metadata": {},
   "source": [
    "## 1. Load Data"
   ]
  },
  {
   "cell_type": "code",
   "execution_count": 3,
   "metadata": {},
   "outputs": [],
   "source": [
    "df_friday = pd.read_excel('Your_Dataset.xlsx')"
   ]
  },
  {
   "cell_type": "code",
   "execution_count": null,
   "metadata": {},
   "outputs": [],
   "source": []
  },
  {
   "cell_type": "markdown",
   "metadata": {},
   "source": [
    "## 2. EDA and Data Processing"
   ]
  },
  {
   "cell_type": "code",
   "execution_count": 4,
   "metadata": {},
   "outputs": [
    {
     "data": {
      "text/html": [
       "<div>\n",
       "<style scoped>\n",
       "    .dataframe tbody tr th:only-of-type {\n",
       "        vertical-align: middle;\n",
       "    }\n",
       "\n",
       "    .dataframe tbody tr th {\n",
       "        vertical-align: top;\n",
       "    }\n",
       "\n",
       "    .dataframe thead th {\n",
       "        text-align: right;\n",
       "    }\n",
       "</style>\n",
       "<table border=\"1\" class=\"dataframe\">\n",
       "  <thead>\n",
       "    <tr style=\"text-align: right;\">\n",
       "      <th></th>\n",
       "      <th>contract_nr</th>\n",
       "      <th>sf_class_tpl</th>\n",
       "      <th>sf_class_fc</th>\n",
       "      <th>age_insured_person</th>\n",
       "      <th>policy_start</th>\n",
       "      <th>tariff_type</th>\n",
       "      <th>type_of_insurance</th>\n",
       "      <th>comprehensive_product</th>\n",
       "      <th>fc_deductible</th>\n",
       "      <th>pc_deductible</th>\n",
       "      <th>payment_interval</th>\n",
       "      <th>insured_parties</th>\n",
       "      <th>profession_group</th>\n",
       "      <th>car_age_at_purchase</th>\n",
       "      <th>car_age_contract_start</th>\n",
       "      <th>annual_mileage</th>\n",
       "      <th>risk_predictor_zip_code</th>\n",
       "      <th>number_of_payment_faults</th>\n",
       "    </tr>\n",
       "  </thead>\n",
       "  <tbody>\n",
       "    <tr>\n",
       "      <th>0</th>\n",
       "      <td>1</td>\n",
       "      <td>SF1/2</td>\n",
       "      <td>SF1/2</td>\n",
       "      <td>34</td>\n",
       "      <td>YOB</td>\n",
       "      <td>Original</td>\n",
       "      <td>New Vehicle</td>\n",
       "      <td>NaN</td>\n",
       "      <td>0</td>\n",
       "      <td>0</td>\n",
       "      <td>Monthly</td>\n",
       "      <td>Insured and Spouse/Partner</td>\n",
       "      <td>Standard</td>\n",
       "      <td>10</td>\n",
       "      <td>11</td>\n",
       "      <td>12000</td>\n",
       "      <td>5.000</td>\n",
       "      <td>1.000</td>\n",
       "    </tr>\n",
       "    <tr>\n",
       "      <th>1</th>\n",
       "      <td>2</td>\n",
       "      <td>SF31</td>\n",
       "      <td>SF31</td>\n",
       "      <td>55</td>\n",
       "      <td>YOB</td>\n",
       "      <td>Original</td>\n",
       "      <td>Change of Insurer</td>\n",
       "      <td>NaN</td>\n",
       "      <td>0</td>\n",
       "      <td>0</td>\n",
       "      <td>Pay In Full</td>\n",
       "      <td>Insured and Spouse/Partner</td>\n",
       "      <td>Standard</td>\n",
       "      <td>2</td>\n",
       "      <td>7</td>\n",
       "      <td>9000</td>\n",
       "      <td>6.000</td>\n",
       "      <td>nan</td>\n",
       "    </tr>\n",
       "    <tr>\n",
       "      <th>2</th>\n",
       "      <td>3</td>\n",
       "      <td>SF5</td>\n",
       "      <td>SF5</td>\n",
       "      <td>52</td>\n",
       "      <td>YOB</td>\n",
       "      <td>Original</td>\n",
       "      <td>New Vehicle</td>\n",
       "      <td>VK</td>\n",
       "      <td>300</td>\n",
       "      <td>150</td>\n",
       "      <td>Monthly</td>\n",
       "      <td>Insured and Spouse/Partner</td>\n",
       "      <td>Standard</td>\n",
       "      <td>11</td>\n",
       "      <td>12</td>\n",
       "      <td>20000</td>\n",
       "      <td>1.000</td>\n",
       "      <td>nan</td>\n",
       "    </tr>\n",
       "    <tr>\n",
       "      <th>3</th>\n",
       "      <td>4</td>\n",
       "      <td>SF15</td>\n",
       "      <td>SF15</td>\n",
       "      <td>41</td>\n",
       "      <td>YEB</td>\n",
       "      <td>Original</td>\n",
       "      <td>Change of Insurer</td>\n",
       "      <td>TK</td>\n",
       "      <td>0</td>\n",
       "      <td>150</td>\n",
       "      <td>Monthly</td>\n",
       "      <td>Insured and Spouse/Partner</td>\n",
       "      <td>Standard</td>\n",
       "      <td>0</td>\n",
       "      <td>9</td>\n",
       "      <td>15000</td>\n",
       "      <td>6.000</td>\n",
       "      <td>nan</td>\n",
       "    </tr>\n",
       "    <tr>\n",
       "      <th>4</th>\n",
       "      <td>5</td>\n",
       "      <td>SF17</td>\n",
       "      <td>SF18</td>\n",
       "      <td>42</td>\n",
       "      <td>YOB</td>\n",
       "      <td>Original</td>\n",
       "      <td>Change of Insurer</td>\n",
       "      <td>VK</td>\n",
       "      <td>300</td>\n",
       "      <td>150</td>\n",
       "      <td>Monthly</td>\n",
       "      <td>Insured and Spouse/Partner</td>\n",
       "      <td>Standard</td>\n",
       "      <td>0</td>\n",
       "      <td>2</td>\n",
       "      <td>15000</td>\n",
       "      <td>3.000</td>\n",
       "      <td>nan</td>\n",
       "    </tr>\n",
       "  </tbody>\n",
       "</table>\n",
       "</div>"
      ],
      "text/plain": [
       "   contract_nr sf_class_tpl sf_class_fc  age_insured_person policy_start  \\\n",
       "0            1        SF1/2       SF1/2                  34          YOB   \n",
       "1            2         SF31        SF31                  55          YOB   \n",
       "2            3          SF5         SF5                  52          YOB   \n",
       "3            4         SF15        SF15                  41          YEB   \n",
       "4            5         SF17        SF18                  42          YOB   \n",
       "\n",
       "  tariff_type  type_of_insurance comprehensive_product  fc_deductible  \\\n",
       "0    Original        New Vehicle                   NaN              0   \n",
       "1    Original  Change of Insurer                   NaN              0   \n",
       "2    Original        New Vehicle                    VK            300   \n",
       "3    Original  Change of Insurer                    TK              0   \n",
       "4    Original  Change of Insurer                    VK            300   \n",
       "\n",
       "   pc_deductible payment_interval             insured_parties  \\\n",
       "0              0          Monthly  Insured and Spouse/Partner   \n",
       "1              0      Pay In Full  Insured and Spouse/Partner   \n",
       "2            150          Monthly  Insured and Spouse/Partner   \n",
       "3            150          Monthly  Insured and Spouse/Partner   \n",
       "4            150          Monthly  Insured and Spouse/Partner   \n",
       "\n",
       "  profession_group  car_age_at_purchase  car_age_contract_start  \\\n",
       "0         Standard                   10                      11   \n",
       "1         Standard                    2                       7   \n",
       "2         Standard                   11                      12   \n",
       "3         Standard                    0                       9   \n",
       "4         Standard                    0                       2   \n",
       "\n",
       "   annual_mileage  risk_predictor_zip_code  number_of_payment_faults  \n",
       "0           12000                    5.000                     1.000  \n",
       "1            9000                    6.000                       nan  \n",
       "2           20000                    1.000                       nan  \n",
       "3           15000                    6.000                       nan  \n",
       "4           15000                    3.000                       nan  "
      ]
     },
     "execution_count": 4,
     "metadata": {},
     "output_type": "execute_result"
    }
   ],
   "source": [
    "df_friday.head()"
   ]
  },
  {
   "cell_type": "code",
   "execution_count": 5,
   "metadata": {},
   "outputs": [
    {
     "name": "stdout",
     "output_type": "stream",
     "text": [
      "<class 'pandas.core.frame.DataFrame'>\n",
      "RangeIndex: 27950 entries, 0 to 27949\n",
      "Data columns (total 18 columns):\n",
      "contract_nr                 27950 non-null int64\n",
      "sf_class_tpl                27950 non-null object\n",
      "sf_class_fc                 27950 non-null object\n",
      "age_insured_person          27950 non-null int64\n",
      "policy_start                27940 non-null object\n",
      "tariff_type                 27950 non-null object\n",
      "type_of_insurance           27950 non-null object\n",
      "comprehensive_product       20355 non-null object\n",
      "fc_deductible               27950 non-null int64\n",
      "pc_deductible               27950 non-null int64\n",
      "payment_interval            27950 non-null object\n",
      "insured_parties             27950 non-null object\n",
      "profession_group            27950 non-null object\n",
      "car_age_at_purchase         27950 non-null int64\n",
      "car_age_contract_start      27950 non-null int64\n",
      "annual_mileage              27950 non-null int64\n",
      "risk_predictor_zip_code     27948 non-null float64\n",
      "number_of_payment_faults    4789 non-null float64\n",
      "dtypes: float64(2), int64(7), object(9)\n",
      "memory usage: 3.8+ MB\n"
     ]
    }
   ],
   "source": [
    "df_friday.info()"
   ]
  },
  {
   "cell_type": "code",
   "execution_count": 6,
   "metadata": {},
   "outputs": [
    {
     "data": {
      "text/plain": [
       "(27950, 18)"
      ]
     },
     "execution_count": 6,
     "metadata": {},
     "output_type": "execute_result"
    }
   ],
   "source": [
    "df_friday.shape"
   ]
  },
  {
   "cell_type": "code",
   "execution_count": null,
   "metadata": {},
   "outputs": [],
   "source": []
  },
  {
   "cell_type": "code",
   "execution_count": null,
   "metadata": {},
   "outputs": [],
   "source": []
  },
  {
   "cell_type": "code",
   "execution_count": null,
   "metadata": {},
   "outputs": [],
   "source": []
  },
  {
   "cell_type": "code",
   "execution_count": null,
   "metadata": {},
   "outputs": [],
   "source": []
  },
  {
   "cell_type": "code",
   "execution_count": null,
   "metadata": {},
   "outputs": [],
   "source": []
  },
  {
   "cell_type": "code",
   "execution_count": null,
   "metadata": {},
   "outputs": [],
   "source": []
  },
  {
   "cell_type": "code",
   "execution_count": null,
   "metadata": {},
   "outputs": [],
   "source": []
  },
  {
   "cell_type": "code",
   "execution_count": null,
   "metadata": {},
   "outputs": [],
   "source": []
  },
  {
   "cell_type": "code",
   "execution_count": null,
   "metadata": {},
   "outputs": [],
   "source": []
  },
  {
   "cell_type": "code",
   "execution_count": null,
   "metadata": {},
   "outputs": [],
   "source": []
  },
  {
   "cell_type": "code",
   "execution_count": null,
   "metadata": {},
   "outputs": [],
   "source": []
  },
  {
   "cell_type": "code",
   "execution_count": null,
   "metadata": {},
   "outputs": [],
   "source": []
  }
 ],
 "metadata": {
  "kernelspec": {
   "display_name": "Python 3",
   "language": "python",
   "name": "python3"
  },
  "language_info": {
   "codemirror_mode": {
    "name": "ipython",
    "version": 3
   },
   "file_extension": ".py",
   "mimetype": "text/x-python",
   "name": "python",
   "nbconvert_exporter": "python",
   "pygments_lexer": "ipython3",
   "version": "3.6.8"
  }
 },
 "nbformat": 4,
 "nbformat_minor": 2
}
