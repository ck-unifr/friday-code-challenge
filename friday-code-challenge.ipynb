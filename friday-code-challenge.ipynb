{
 "cells": [
  {
   "cell_type": "markdown",
   "metadata": {},
   "source": [
    "## Description\n",
    "Attached you find a randomly sampled extract of some of our policies.\n",
    "We want to be able to predict the \"number_of_payment_faults\" \n",
    "(this is the number of payment attempts which failed when we try to charge the money for the policy from the customer) in the future for each new policy.\n",
    "There is a small legend in the document to describe some of the fields.\n",
    "If there are open questions about the data you can't answer by yourself do not hesitate to approach us!\n",
    "Feel free to use whatever tool or language you feel comfortable with to solve the task.\n",
    "\n",
    "## Task\n",
    "Create a statistical model to predict the \"number_of_payment_faults\" for a policy.\n",
    "There is no fixed or expected outcome what we want to see from you. \n",
    "We prefer quality over speed. \n",
    "It does not only matter if your solution yields correct results, but also your overall project structure, tools used, etc.\n"
   ]
  },
  {
   "cell_type": "code",
   "execution_count": 758,
   "metadata": {},
   "outputs": [],
   "source": [
    "import collections\n",
    "\n",
    "import math\n",
    "\n",
    "from datetime import datetime\n",
    "\n",
    "import statsmodels.formula.api as smf\n",
    "\n",
    "import pandas as pd\n",
    "from pandas.api.types import is_string_dtype, is_numeric_dtype\n",
    "\n",
    "import numpy as np\n",
    "from numpy import inf\n",
    "\n",
    "from scipy import stats\n",
    "from scipy.stats import skew, norm\n",
    "from scipy.stats import randint as sp_randint\n",
    "\n",
    "import matplotlib.pyplot as plt\n",
    "import matplotlib.image as mpimg\n",
    "from matplotlib import pyplot\n",
    "%matplotlib inline\n",
    "import seaborn as sns\n",
    "color = sns.color_palette()\n",
    "sns.set_style('darkgrid')\n",
    "\n",
    "\n",
    "from sklearn.model_selection import StratifiedKFold\n",
    "from sklearn.model_selection import RandomizedSearchCV, GridSearchCV\n",
    "from sklearn.model_selection import KFold, cross_val_score, StratifiedKFold, train_test_split\n",
    "from sklearn.ensemble import RandomForestRegressor, RandomForestClassifier, GradientBoostingRegressor\n",
    "from sklearn import linear_model\n",
    "from sklearn.linear_model import LinearRegression, ElasticNet, Lasso, BayesianRidge, LassoLarsIC\n",
    "from sklearn.preprocessing import Normalizer, StandardScaler, RobustScaler\n",
    "from sklearn import metrics\n",
    "from sklearn.metrics import mean_absolute_error, mean_squared_error, confusion_matrix, classification_report\n",
    "from sklearn.metrics import precision_recall_fscore_support, accuracy_score\n",
    "from sklearn.kernel_ridge import KernelRidge\n",
    "from sklearn.pipeline import make_pipeline\n",
    "from sklearn.base import BaseEstimator, TransformerMixin, RegressorMixin, clone\n",
    "\n",
    "import xgboost as xgb\n",
    "from xgboost import XGBClassifier\n",
    "from xgboost import plot_importance\n",
    "\n",
    "import lightgbm as lgb\n",
    "\n",
    "from hyperopt import hp, tpe, STATUS_OK, Trials\n",
    "from hyperopt.fmin import fmin\n",
    "\n",
    "import warnings\n",
    "warnings.filterwarnings(\"ignore\")\n",
    "def ignore_warn(*args, **kwargs):\n",
    "    pass\n",
    "warnings.warn = ignore_warn #ignore annoying warning (from sklearn and seaborn)\n",
    "\n",
    "pd.set_option('display.float_format', lambda x: '{:.3f}'.format(x)) #Limiting floats output to 3 decimal points\n",
    "\n",
    "#from subprocess import check_output\n",
    "#print(check_output([\"ls\", \"../input\"]).decode(\"utf8\")) #check the files available in the directory\n",
    "\n",
    "np.random.seed(42)"
   ]
  },
  {
   "cell_type": "markdown",
   "metadata": {},
   "source": [
    "## 1. Load Data"
   ]
  },
  {
   "cell_type": "code",
   "execution_count": 759,
   "metadata": {},
   "outputs": [],
   "source": [
    "df_friday = pd.read_excel('Your_Dataset.xlsx')"
   ]
  },
  {
   "cell_type": "code",
   "execution_count": 760,
   "metadata": {},
   "outputs": [
    {
     "data": {
      "text/plain": [
       "(27950, 18)"
      ]
     },
     "execution_count": 760,
     "metadata": {},
     "output_type": "execute_result"
    }
   ],
   "source": [
    "df_friday.shape"
   ]
  },
  {
   "cell_type": "code",
   "execution_count": 761,
   "metadata": {},
   "outputs": [
    {
     "data": {
      "text/html": [
       "<div>\n",
       "<style scoped>\n",
       "    .dataframe tbody tr th:only-of-type {\n",
       "        vertical-align: middle;\n",
       "    }\n",
       "\n",
       "    .dataframe tbody tr th {\n",
       "        vertical-align: top;\n",
       "    }\n",
       "\n",
       "    .dataframe thead th {\n",
       "        text-align: right;\n",
       "    }\n",
       "</style>\n",
       "<table border=\"1\" class=\"dataframe\">\n",
       "  <thead>\n",
       "    <tr style=\"text-align: right;\">\n",
       "      <th></th>\n",
       "      <th>contract_nr</th>\n",
       "      <th>sf_class_tpl</th>\n",
       "      <th>sf_class_fc</th>\n",
       "      <th>age_insured_person</th>\n",
       "      <th>policy_start</th>\n",
       "      <th>tariff_type</th>\n",
       "      <th>type_of_insurance</th>\n",
       "      <th>comprehensive_product</th>\n",
       "      <th>fc_deductible</th>\n",
       "      <th>pc_deductible</th>\n",
       "      <th>payment_interval</th>\n",
       "      <th>insured_parties</th>\n",
       "      <th>profession_group</th>\n",
       "      <th>car_age_at_purchase</th>\n",
       "      <th>car_age_contract_start</th>\n",
       "      <th>annual_mileage</th>\n",
       "      <th>risk_predictor_zip_code</th>\n",
       "      <th>number_of_payment_faults</th>\n",
       "    </tr>\n",
       "  </thead>\n",
       "  <tbody>\n",
       "    <tr>\n",
       "      <th>0</th>\n",
       "      <td>1</td>\n",
       "      <td>SF1/2</td>\n",
       "      <td>SF1/2</td>\n",
       "      <td>34</td>\n",
       "      <td>YOB</td>\n",
       "      <td>Original</td>\n",
       "      <td>New Vehicle</td>\n",
       "      <td>NaN</td>\n",
       "      <td>0</td>\n",
       "      <td>0</td>\n",
       "      <td>Monthly</td>\n",
       "      <td>Insured and Spouse/Partner</td>\n",
       "      <td>Standard</td>\n",
       "      <td>10</td>\n",
       "      <td>11</td>\n",
       "      <td>12000</td>\n",
       "      <td>5.000</td>\n",
       "      <td>1.000</td>\n",
       "    </tr>\n",
       "    <tr>\n",
       "      <th>1</th>\n",
       "      <td>2</td>\n",
       "      <td>SF31</td>\n",
       "      <td>SF31</td>\n",
       "      <td>55</td>\n",
       "      <td>YOB</td>\n",
       "      <td>Original</td>\n",
       "      <td>Change of Insurer</td>\n",
       "      <td>NaN</td>\n",
       "      <td>0</td>\n",
       "      <td>0</td>\n",
       "      <td>Pay In Full</td>\n",
       "      <td>Insured and Spouse/Partner</td>\n",
       "      <td>Standard</td>\n",
       "      <td>2</td>\n",
       "      <td>7</td>\n",
       "      <td>9000</td>\n",
       "      <td>6.000</td>\n",
       "      <td>nan</td>\n",
       "    </tr>\n",
       "    <tr>\n",
       "      <th>2</th>\n",
       "      <td>3</td>\n",
       "      <td>SF5</td>\n",
       "      <td>SF5</td>\n",
       "      <td>52</td>\n",
       "      <td>YOB</td>\n",
       "      <td>Original</td>\n",
       "      <td>New Vehicle</td>\n",
       "      <td>VK</td>\n",
       "      <td>300</td>\n",
       "      <td>150</td>\n",
       "      <td>Monthly</td>\n",
       "      <td>Insured and Spouse/Partner</td>\n",
       "      <td>Standard</td>\n",
       "      <td>11</td>\n",
       "      <td>12</td>\n",
       "      <td>20000</td>\n",
       "      <td>1.000</td>\n",
       "      <td>nan</td>\n",
       "    </tr>\n",
       "    <tr>\n",
       "      <th>3</th>\n",
       "      <td>4</td>\n",
       "      <td>SF15</td>\n",
       "      <td>SF15</td>\n",
       "      <td>41</td>\n",
       "      <td>YEB</td>\n",
       "      <td>Original</td>\n",
       "      <td>Change of Insurer</td>\n",
       "      <td>TK</td>\n",
       "      <td>0</td>\n",
       "      <td>150</td>\n",
       "      <td>Monthly</td>\n",
       "      <td>Insured and Spouse/Partner</td>\n",
       "      <td>Standard</td>\n",
       "      <td>0</td>\n",
       "      <td>9</td>\n",
       "      <td>15000</td>\n",
       "      <td>6.000</td>\n",
       "      <td>nan</td>\n",
       "    </tr>\n",
       "    <tr>\n",
       "      <th>4</th>\n",
       "      <td>5</td>\n",
       "      <td>SF17</td>\n",
       "      <td>SF18</td>\n",
       "      <td>42</td>\n",
       "      <td>YOB</td>\n",
       "      <td>Original</td>\n",
       "      <td>Change of Insurer</td>\n",
       "      <td>VK</td>\n",
       "      <td>300</td>\n",
       "      <td>150</td>\n",
       "      <td>Monthly</td>\n",
       "      <td>Insured and Spouse/Partner</td>\n",
       "      <td>Standard</td>\n",
       "      <td>0</td>\n",
       "      <td>2</td>\n",
       "      <td>15000</td>\n",
       "      <td>3.000</td>\n",
       "      <td>nan</td>\n",
       "    </tr>\n",
       "  </tbody>\n",
       "</table>\n",
       "</div>"
      ],
      "text/plain": [
       "   contract_nr sf_class_tpl sf_class_fc  age_insured_person policy_start  \\\n",
       "0            1        SF1/2       SF1/2                  34          YOB   \n",
       "1            2         SF31        SF31                  55          YOB   \n",
       "2            3          SF5         SF5                  52          YOB   \n",
       "3            4         SF15        SF15                  41          YEB   \n",
       "4            5         SF17        SF18                  42          YOB   \n",
       "\n",
       "  tariff_type  type_of_insurance comprehensive_product  fc_deductible  \\\n",
       "0    Original        New Vehicle                   NaN              0   \n",
       "1    Original  Change of Insurer                   NaN              0   \n",
       "2    Original        New Vehicle                    VK            300   \n",
       "3    Original  Change of Insurer                    TK              0   \n",
       "4    Original  Change of Insurer                    VK            300   \n",
       "\n",
       "   pc_deductible payment_interval             insured_parties  \\\n",
       "0              0          Monthly  Insured and Spouse/Partner   \n",
       "1              0      Pay In Full  Insured and Spouse/Partner   \n",
       "2            150          Monthly  Insured and Spouse/Partner   \n",
       "3            150          Monthly  Insured and Spouse/Partner   \n",
       "4            150          Monthly  Insured and Spouse/Partner   \n",
       "\n",
       "  profession_group  car_age_at_purchase  car_age_contract_start  \\\n",
       "0         Standard                   10                      11   \n",
       "1         Standard                    2                       7   \n",
       "2         Standard                   11                      12   \n",
       "3         Standard                    0                       9   \n",
       "4         Standard                    0                       2   \n",
       "\n",
       "   annual_mileage  risk_predictor_zip_code  number_of_payment_faults  \n",
       "0           12000                    5.000                     1.000  \n",
       "1            9000                    6.000                       nan  \n",
       "2           20000                    1.000                       nan  \n",
       "3           15000                    6.000                       nan  \n",
       "4           15000                    3.000                       nan  "
      ]
     },
     "execution_count": 761,
     "metadata": {},
     "output_type": "execute_result"
    }
   ],
   "source": [
    "df_friday.head()"
   ]
  },
  {
   "cell_type": "code",
   "execution_count": 762,
   "metadata": {},
   "outputs": [],
   "source": [
    "df_train = df_friday[df_friday['number_of_payment_faults'].notnull()]"
   ]
  },
  {
   "cell_type": "code",
   "execution_count": 763,
   "metadata": {},
   "outputs": [],
   "source": [
    "df_test = df_friday[df_friday['number_of_payment_faults'].isnull()]"
   ]
  },
  {
   "cell_type": "code",
   "execution_count": 764,
   "metadata": {},
   "outputs": [
    {
     "data": {
      "text/plain": [
       "(4789, 18)"
      ]
     },
     "execution_count": 764,
     "metadata": {},
     "output_type": "execute_result"
    }
   ],
   "source": [
    "df_train.shape"
   ]
  },
  {
   "cell_type": "code",
   "execution_count": 765,
   "metadata": {},
   "outputs": [
    {
     "data": {
      "text/plain": [
       "(23161, 18)"
      ]
     },
     "execution_count": 765,
     "metadata": {},
     "output_type": "execute_result"
    }
   ],
   "source": [
    "df_test.shape"
   ]
  },
  {
   "cell_type": "code",
   "execution_count": 766,
   "metadata": {},
   "outputs": [
    {
     "data": {
      "text/html": [
       "<div>\n",
       "<style scoped>\n",
       "    .dataframe tbody tr th:only-of-type {\n",
       "        vertical-align: middle;\n",
       "    }\n",
       "\n",
       "    .dataframe tbody tr th {\n",
       "        vertical-align: top;\n",
       "    }\n",
       "\n",
       "    .dataframe thead th {\n",
       "        text-align: right;\n",
       "    }\n",
       "</style>\n",
       "<table border=\"1\" class=\"dataframe\">\n",
       "  <thead>\n",
       "    <tr style=\"text-align: right;\">\n",
       "      <th></th>\n",
       "      <th>contract_nr</th>\n",
       "      <th>sf_class_tpl</th>\n",
       "      <th>sf_class_fc</th>\n",
       "      <th>age_insured_person</th>\n",
       "      <th>policy_start</th>\n",
       "      <th>tariff_type</th>\n",
       "      <th>type_of_insurance</th>\n",
       "      <th>comprehensive_product</th>\n",
       "      <th>fc_deductible</th>\n",
       "      <th>pc_deductible</th>\n",
       "      <th>payment_interval</th>\n",
       "      <th>insured_parties</th>\n",
       "      <th>profession_group</th>\n",
       "      <th>car_age_at_purchase</th>\n",
       "      <th>car_age_contract_start</th>\n",
       "      <th>annual_mileage</th>\n",
       "      <th>risk_predictor_zip_code</th>\n",
       "      <th>number_of_payment_faults</th>\n",
       "    </tr>\n",
       "  </thead>\n",
       "  <tbody>\n",
       "    <tr>\n",
       "      <th>0</th>\n",
       "      <td>1</td>\n",
       "      <td>SF1/2</td>\n",
       "      <td>SF1/2</td>\n",
       "      <td>34</td>\n",
       "      <td>YOB</td>\n",
       "      <td>Original</td>\n",
       "      <td>New Vehicle</td>\n",
       "      <td>NaN</td>\n",
       "      <td>0</td>\n",
       "      <td>0</td>\n",
       "      <td>Monthly</td>\n",
       "      <td>Insured and Spouse/Partner</td>\n",
       "      <td>Standard</td>\n",
       "      <td>10</td>\n",
       "      <td>11</td>\n",
       "      <td>12000</td>\n",
       "      <td>5.000</td>\n",
       "      <td>1.000</td>\n",
       "    </tr>\n",
       "    <tr>\n",
       "      <th>33</th>\n",
       "      <td>34</td>\n",
       "      <td>SF5</td>\n",
       "      <td>SF5</td>\n",
       "      <td>47</td>\n",
       "      <td>YOB</td>\n",
       "      <td>Original</td>\n",
       "      <td>New Vehicle</td>\n",
       "      <td>TK</td>\n",
       "      <td>0</td>\n",
       "      <td>150</td>\n",
       "      <td>Monthly</td>\n",
       "      <td>Insured and Spouse/Partner</td>\n",
       "      <td>Standard</td>\n",
       "      <td>8</td>\n",
       "      <td>9</td>\n",
       "      <td>9000</td>\n",
       "      <td>8.000</td>\n",
       "      <td>1.000</td>\n",
       "    </tr>\n",
       "    <tr>\n",
       "      <th>35</th>\n",
       "      <td>36</td>\n",
       "      <td>SF1/2</td>\n",
       "      <td>SF1/2</td>\n",
       "      <td>37</td>\n",
       "      <td>YOB</td>\n",
       "      <td>Original</td>\n",
       "      <td>First Vehicle</td>\n",
       "      <td>NaN</td>\n",
       "      <td>0</td>\n",
       "      <td>0</td>\n",
       "      <td>Monthly</td>\n",
       "      <td>Insured and Spouse/Partner</td>\n",
       "      <td>Standard</td>\n",
       "      <td>15</td>\n",
       "      <td>16</td>\n",
       "      <td>6000</td>\n",
       "      <td>5.000</td>\n",
       "      <td>2.000</td>\n",
       "    </tr>\n",
       "    <tr>\n",
       "      <th>38</th>\n",
       "      <td>39</td>\n",
       "      <td>SF1/2</td>\n",
       "      <td>SF1/2</td>\n",
       "      <td>42</td>\n",
       "      <td>YOB</td>\n",
       "      <td>Original</td>\n",
       "      <td>Change of Insurer</td>\n",
       "      <td>TK</td>\n",
       "      <td>0</td>\n",
       "      <td>150</td>\n",
       "      <td>Monthly</td>\n",
       "      <td>Insured and Spouse/Partner</td>\n",
       "      <td>Standard</td>\n",
       "      <td>1</td>\n",
       "      <td>2</td>\n",
       "      <td>15000</td>\n",
       "      <td>1.000</td>\n",
       "      <td>2.000</td>\n",
       "    </tr>\n",
       "    <tr>\n",
       "      <th>47</th>\n",
       "      <td>48</td>\n",
       "      <td>SF23</td>\n",
       "      <td>SF3</td>\n",
       "      <td>63</td>\n",
       "      <td>YEB</td>\n",
       "      <td>Pay per km</td>\n",
       "      <td>Change of Insurer</td>\n",
       "      <td>VK</td>\n",
       "      <td>300</td>\n",
       "      <td>150</td>\n",
       "      <td>Monthly</td>\n",
       "      <td>Insured and Spouse/Partner</td>\n",
       "      <td>Standard</td>\n",
       "      <td>4</td>\n",
       "      <td>5</td>\n",
       "      <td>12000</td>\n",
       "      <td>5.000</td>\n",
       "      <td>1.000</td>\n",
       "    </tr>\n",
       "  </tbody>\n",
       "</table>\n",
       "</div>"
      ],
      "text/plain": [
       "    contract_nr sf_class_tpl sf_class_fc  age_insured_person policy_start  \\\n",
       "0             1        SF1/2       SF1/2                  34          YOB   \n",
       "33           34          SF5         SF5                  47          YOB   \n",
       "35           36        SF1/2       SF1/2                  37          YOB   \n",
       "38           39        SF1/2       SF1/2                  42          YOB   \n",
       "47           48         SF23         SF3                  63          YEB   \n",
       "\n",
       "   tariff_type  type_of_insurance comprehensive_product  fc_deductible  \\\n",
       "0     Original        New Vehicle                   NaN              0   \n",
       "33    Original        New Vehicle                    TK              0   \n",
       "35    Original      First Vehicle                   NaN              0   \n",
       "38    Original  Change of Insurer                    TK              0   \n",
       "47  Pay per km  Change of Insurer                    VK            300   \n",
       "\n",
       "    pc_deductible payment_interval             insured_parties  \\\n",
       "0               0          Monthly  Insured and Spouse/Partner   \n",
       "33            150          Monthly  Insured and Spouse/Partner   \n",
       "35              0          Monthly  Insured and Spouse/Partner   \n",
       "38            150          Monthly  Insured and Spouse/Partner   \n",
       "47            150          Monthly  Insured and Spouse/Partner   \n",
       "\n",
       "   profession_group  car_age_at_purchase  car_age_contract_start  \\\n",
       "0          Standard                   10                      11   \n",
       "33         Standard                    8                       9   \n",
       "35         Standard                   15                      16   \n",
       "38         Standard                    1                       2   \n",
       "47         Standard                    4                       5   \n",
       "\n",
       "    annual_mileage  risk_predictor_zip_code  number_of_payment_faults  \n",
       "0            12000                    5.000                     1.000  \n",
       "33            9000                    8.000                     1.000  \n",
       "35            6000                    5.000                     2.000  \n",
       "38           15000                    1.000                     2.000  \n",
       "47           12000                    5.000                     1.000  "
      ]
     },
     "execution_count": 766,
     "metadata": {},
     "output_type": "execute_result"
    }
   ],
   "source": [
    "df_train.head()"
   ]
  },
  {
   "cell_type": "code",
   "execution_count": 767,
   "metadata": {},
   "outputs": [
    {
     "data": {
      "text/html": [
       "<div>\n",
       "<style scoped>\n",
       "    .dataframe tbody tr th:only-of-type {\n",
       "        vertical-align: middle;\n",
       "    }\n",
       "\n",
       "    .dataframe tbody tr th {\n",
       "        vertical-align: top;\n",
       "    }\n",
       "\n",
       "    .dataframe thead th {\n",
       "        text-align: right;\n",
       "    }\n",
       "</style>\n",
       "<table border=\"1\" class=\"dataframe\">\n",
       "  <thead>\n",
       "    <tr style=\"text-align: right;\">\n",
       "      <th></th>\n",
       "      <th>contract_nr</th>\n",
       "      <th>sf_class_tpl</th>\n",
       "      <th>sf_class_fc</th>\n",
       "      <th>age_insured_person</th>\n",
       "      <th>policy_start</th>\n",
       "      <th>tariff_type</th>\n",
       "      <th>type_of_insurance</th>\n",
       "      <th>comprehensive_product</th>\n",
       "      <th>fc_deductible</th>\n",
       "      <th>pc_deductible</th>\n",
       "      <th>payment_interval</th>\n",
       "      <th>insured_parties</th>\n",
       "      <th>profession_group</th>\n",
       "      <th>car_age_at_purchase</th>\n",
       "      <th>car_age_contract_start</th>\n",
       "      <th>annual_mileage</th>\n",
       "      <th>risk_predictor_zip_code</th>\n",
       "      <th>number_of_payment_faults</th>\n",
       "    </tr>\n",
       "  </thead>\n",
       "  <tbody>\n",
       "    <tr>\n",
       "      <th>1</th>\n",
       "      <td>2</td>\n",
       "      <td>SF31</td>\n",
       "      <td>SF31</td>\n",
       "      <td>55</td>\n",
       "      <td>YOB</td>\n",
       "      <td>Original</td>\n",
       "      <td>Change of Insurer</td>\n",
       "      <td>NaN</td>\n",
       "      <td>0</td>\n",
       "      <td>0</td>\n",
       "      <td>Pay In Full</td>\n",
       "      <td>Insured and Spouse/Partner</td>\n",
       "      <td>Standard</td>\n",
       "      <td>2</td>\n",
       "      <td>7</td>\n",
       "      <td>9000</td>\n",
       "      <td>6.000</td>\n",
       "      <td>nan</td>\n",
       "    </tr>\n",
       "    <tr>\n",
       "      <th>2</th>\n",
       "      <td>3</td>\n",
       "      <td>SF5</td>\n",
       "      <td>SF5</td>\n",
       "      <td>52</td>\n",
       "      <td>YOB</td>\n",
       "      <td>Original</td>\n",
       "      <td>New Vehicle</td>\n",
       "      <td>VK</td>\n",
       "      <td>300</td>\n",
       "      <td>150</td>\n",
       "      <td>Monthly</td>\n",
       "      <td>Insured and Spouse/Partner</td>\n",
       "      <td>Standard</td>\n",
       "      <td>11</td>\n",
       "      <td>12</td>\n",
       "      <td>20000</td>\n",
       "      <td>1.000</td>\n",
       "      <td>nan</td>\n",
       "    </tr>\n",
       "    <tr>\n",
       "      <th>3</th>\n",
       "      <td>4</td>\n",
       "      <td>SF15</td>\n",
       "      <td>SF15</td>\n",
       "      <td>41</td>\n",
       "      <td>YEB</td>\n",
       "      <td>Original</td>\n",
       "      <td>Change of Insurer</td>\n",
       "      <td>TK</td>\n",
       "      <td>0</td>\n",
       "      <td>150</td>\n",
       "      <td>Monthly</td>\n",
       "      <td>Insured and Spouse/Partner</td>\n",
       "      <td>Standard</td>\n",
       "      <td>0</td>\n",
       "      <td>9</td>\n",
       "      <td>15000</td>\n",
       "      <td>6.000</td>\n",
       "      <td>nan</td>\n",
       "    </tr>\n",
       "    <tr>\n",
       "      <th>4</th>\n",
       "      <td>5</td>\n",
       "      <td>SF17</td>\n",
       "      <td>SF18</td>\n",
       "      <td>42</td>\n",
       "      <td>YOB</td>\n",
       "      <td>Original</td>\n",
       "      <td>Change of Insurer</td>\n",
       "      <td>VK</td>\n",
       "      <td>300</td>\n",
       "      <td>150</td>\n",
       "      <td>Monthly</td>\n",
       "      <td>Insured and Spouse/Partner</td>\n",
       "      <td>Standard</td>\n",
       "      <td>0</td>\n",
       "      <td>2</td>\n",
       "      <td>15000</td>\n",
       "      <td>3.000</td>\n",
       "      <td>nan</td>\n",
       "    </tr>\n",
       "    <tr>\n",
       "      <th>5</th>\n",
       "      <td>6</td>\n",
       "      <td>SF7</td>\n",
       "      <td>SF13</td>\n",
       "      <td>37</td>\n",
       "      <td>YOB</td>\n",
       "      <td>Original</td>\n",
       "      <td>New Vehicle</td>\n",
       "      <td>VK</td>\n",
       "      <td>300</td>\n",
       "      <td>150</td>\n",
       "      <td>Monthly</td>\n",
       "      <td>Insured and Spouse/Partner</td>\n",
       "      <td>Standard</td>\n",
       "      <td>0</td>\n",
       "      <td>0</td>\n",
       "      <td>15000</td>\n",
       "      <td>7.000</td>\n",
       "      <td>nan</td>\n",
       "    </tr>\n",
       "  </tbody>\n",
       "</table>\n",
       "</div>"
      ],
      "text/plain": [
       "   contract_nr sf_class_tpl sf_class_fc  age_insured_person policy_start  \\\n",
       "1            2         SF31        SF31                  55          YOB   \n",
       "2            3          SF5         SF5                  52          YOB   \n",
       "3            4         SF15        SF15                  41          YEB   \n",
       "4            5         SF17        SF18                  42          YOB   \n",
       "5            6          SF7        SF13                  37          YOB   \n",
       "\n",
       "  tariff_type  type_of_insurance comprehensive_product  fc_deductible  \\\n",
       "1    Original  Change of Insurer                   NaN              0   \n",
       "2    Original        New Vehicle                    VK            300   \n",
       "3    Original  Change of Insurer                    TK              0   \n",
       "4    Original  Change of Insurer                    VK            300   \n",
       "5    Original        New Vehicle                    VK            300   \n",
       "\n",
       "   pc_deductible payment_interval             insured_parties  \\\n",
       "1              0      Pay In Full  Insured and Spouse/Partner   \n",
       "2            150          Monthly  Insured and Spouse/Partner   \n",
       "3            150          Monthly  Insured and Spouse/Partner   \n",
       "4            150          Monthly  Insured and Spouse/Partner   \n",
       "5            150          Monthly  Insured and Spouse/Partner   \n",
       "\n",
       "  profession_group  car_age_at_purchase  car_age_contract_start  \\\n",
       "1         Standard                    2                       7   \n",
       "2         Standard                   11                      12   \n",
       "3         Standard                    0                       9   \n",
       "4         Standard                    0                       2   \n",
       "5         Standard                    0                       0   \n",
       "\n",
       "   annual_mileage  risk_predictor_zip_code  number_of_payment_faults  \n",
       "1            9000                    6.000                       nan  \n",
       "2           20000                    1.000                       nan  \n",
       "3           15000                    6.000                       nan  \n",
       "4           15000                    3.000                       nan  \n",
       "5           15000                    7.000                       nan  "
      ]
     },
     "execution_count": 767,
     "metadata": {},
     "output_type": "execute_result"
    }
   ],
   "source": [
    "df_test.head()"
   ]
  },
  {
   "cell_type": "code",
   "execution_count": 768,
   "metadata": {},
   "outputs": [
    {
     "data": {
      "text/plain": [
       "(0, 18)"
      ]
     },
     "execution_count": 768,
     "metadata": {},
     "output_type": "execute_result"
    }
   ],
   "source": [
    "df_train[df_train['number_of_payment_faults'].isnull()].shape"
   ]
  },
  {
   "cell_type": "markdown",
   "metadata": {},
   "source": [
    "## 2. EDA and Data Processing"
   ]
  },
  {
   "cell_type": "code",
   "execution_count": 769,
   "metadata": {},
   "outputs": [
    {
     "data": {
      "text/html": [
       "<div>\n",
       "<style scoped>\n",
       "    .dataframe tbody tr th:only-of-type {\n",
       "        vertical-align: middle;\n",
       "    }\n",
       "\n",
       "    .dataframe tbody tr th {\n",
       "        vertical-align: top;\n",
       "    }\n",
       "\n",
       "    .dataframe thead th {\n",
       "        text-align: right;\n",
       "    }\n",
       "</style>\n",
       "<table border=\"1\" class=\"dataframe\">\n",
       "  <thead>\n",
       "    <tr style=\"text-align: right;\">\n",
       "      <th></th>\n",
       "      <th>contract_nr</th>\n",
       "      <th>sf_class_tpl</th>\n",
       "      <th>sf_class_fc</th>\n",
       "      <th>age_insured_person</th>\n",
       "      <th>policy_start</th>\n",
       "      <th>tariff_type</th>\n",
       "      <th>type_of_insurance</th>\n",
       "      <th>comprehensive_product</th>\n",
       "      <th>fc_deductible</th>\n",
       "      <th>pc_deductible</th>\n",
       "      <th>payment_interval</th>\n",
       "      <th>insured_parties</th>\n",
       "      <th>profession_group</th>\n",
       "      <th>car_age_at_purchase</th>\n",
       "      <th>car_age_contract_start</th>\n",
       "      <th>annual_mileage</th>\n",
       "      <th>risk_predictor_zip_code</th>\n",
       "      <th>number_of_payment_faults</th>\n",
       "    </tr>\n",
       "  </thead>\n",
       "  <tbody>\n",
       "    <tr>\n",
       "      <th>0</th>\n",
       "      <td>1</td>\n",
       "      <td>SF1/2</td>\n",
       "      <td>SF1/2</td>\n",
       "      <td>34</td>\n",
       "      <td>YOB</td>\n",
       "      <td>Original</td>\n",
       "      <td>New Vehicle</td>\n",
       "      <td>NaN</td>\n",
       "      <td>0</td>\n",
       "      <td>0</td>\n",
       "      <td>Monthly</td>\n",
       "      <td>Insured and Spouse/Partner</td>\n",
       "      <td>Standard</td>\n",
       "      <td>10</td>\n",
       "      <td>11</td>\n",
       "      <td>12000</td>\n",
       "      <td>5.000</td>\n",
       "      <td>1.000</td>\n",
       "    </tr>\n",
       "    <tr>\n",
       "      <th>1</th>\n",
       "      <td>2</td>\n",
       "      <td>SF31</td>\n",
       "      <td>SF31</td>\n",
       "      <td>55</td>\n",
       "      <td>YOB</td>\n",
       "      <td>Original</td>\n",
       "      <td>Change of Insurer</td>\n",
       "      <td>NaN</td>\n",
       "      <td>0</td>\n",
       "      <td>0</td>\n",
       "      <td>Pay In Full</td>\n",
       "      <td>Insured and Spouse/Partner</td>\n",
       "      <td>Standard</td>\n",
       "      <td>2</td>\n",
       "      <td>7</td>\n",
       "      <td>9000</td>\n",
       "      <td>6.000</td>\n",
       "      <td>nan</td>\n",
       "    </tr>\n",
       "    <tr>\n",
       "      <th>2</th>\n",
       "      <td>3</td>\n",
       "      <td>SF5</td>\n",
       "      <td>SF5</td>\n",
       "      <td>52</td>\n",
       "      <td>YOB</td>\n",
       "      <td>Original</td>\n",
       "      <td>New Vehicle</td>\n",
       "      <td>VK</td>\n",
       "      <td>300</td>\n",
       "      <td>150</td>\n",
       "      <td>Monthly</td>\n",
       "      <td>Insured and Spouse/Partner</td>\n",
       "      <td>Standard</td>\n",
       "      <td>11</td>\n",
       "      <td>12</td>\n",
       "      <td>20000</td>\n",
       "      <td>1.000</td>\n",
       "      <td>nan</td>\n",
       "    </tr>\n",
       "    <tr>\n",
       "      <th>3</th>\n",
       "      <td>4</td>\n",
       "      <td>SF15</td>\n",
       "      <td>SF15</td>\n",
       "      <td>41</td>\n",
       "      <td>YEB</td>\n",
       "      <td>Original</td>\n",
       "      <td>Change of Insurer</td>\n",
       "      <td>TK</td>\n",
       "      <td>0</td>\n",
       "      <td>150</td>\n",
       "      <td>Monthly</td>\n",
       "      <td>Insured and Spouse/Partner</td>\n",
       "      <td>Standard</td>\n",
       "      <td>0</td>\n",
       "      <td>9</td>\n",
       "      <td>15000</td>\n",
       "      <td>6.000</td>\n",
       "      <td>nan</td>\n",
       "    </tr>\n",
       "    <tr>\n",
       "      <th>4</th>\n",
       "      <td>5</td>\n",
       "      <td>SF17</td>\n",
       "      <td>SF18</td>\n",
       "      <td>42</td>\n",
       "      <td>YOB</td>\n",
       "      <td>Original</td>\n",
       "      <td>Change of Insurer</td>\n",
       "      <td>VK</td>\n",
       "      <td>300</td>\n",
       "      <td>150</td>\n",
       "      <td>Monthly</td>\n",
       "      <td>Insured and Spouse/Partner</td>\n",
       "      <td>Standard</td>\n",
       "      <td>0</td>\n",
       "      <td>2</td>\n",
       "      <td>15000</td>\n",
       "      <td>3.000</td>\n",
       "      <td>nan</td>\n",
       "    </tr>\n",
       "  </tbody>\n",
       "</table>\n",
       "</div>"
      ],
      "text/plain": [
       "   contract_nr sf_class_tpl sf_class_fc  age_insured_person policy_start  \\\n",
       "0            1        SF1/2       SF1/2                  34          YOB   \n",
       "1            2         SF31        SF31                  55          YOB   \n",
       "2            3          SF5         SF5                  52          YOB   \n",
       "3            4         SF15        SF15                  41          YEB   \n",
       "4            5         SF17        SF18                  42          YOB   \n",
       "\n",
       "  tariff_type  type_of_insurance comprehensive_product  fc_deductible  \\\n",
       "0    Original        New Vehicle                   NaN              0   \n",
       "1    Original  Change of Insurer                   NaN              0   \n",
       "2    Original        New Vehicle                    VK            300   \n",
       "3    Original  Change of Insurer                    TK              0   \n",
       "4    Original  Change of Insurer                    VK            300   \n",
       "\n",
       "   pc_deductible payment_interval             insured_parties  \\\n",
       "0              0          Monthly  Insured and Spouse/Partner   \n",
       "1              0      Pay In Full  Insured and Spouse/Partner   \n",
       "2            150          Monthly  Insured and Spouse/Partner   \n",
       "3            150          Monthly  Insured and Spouse/Partner   \n",
       "4            150          Monthly  Insured and Spouse/Partner   \n",
       "\n",
       "  profession_group  car_age_at_purchase  car_age_contract_start  \\\n",
       "0         Standard                   10                      11   \n",
       "1         Standard                    2                       7   \n",
       "2         Standard                   11                      12   \n",
       "3         Standard                    0                       9   \n",
       "4         Standard                    0                       2   \n",
       "\n",
       "   annual_mileage  risk_predictor_zip_code  number_of_payment_faults  \n",
       "0           12000                    5.000                     1.000  \n",
       "1            9000                    6.000                       nan  \n",
       "2           20000                    1.000                       nan  \n",
       "3           15000                    6.000                       nan  \n",
       "4           15000                    3.000                       nan  "
      ]
     },
     "execution_count": 769,
     "metadata": {},
     "output_type": "execute_result"
    }
   ],
   "source": [
    "df_friday.head()"
   ]
  },
  {
   "cell_type": "code",
   "execution_count": 770,
   "metadata": {},
   "outputs": [
    {
     "name": "stdout",
     "output_type": "stream",
     "text": [
      "<class 'pandas.core.frame.DataFrame'>\n",
      "RangeIndex: 27950 entries, 0 to 27949\n",
      "Data columns (total 18 columns):\n",
      "contract_nr                 27950 non-null int64\n",
      "sf_class_tpl                27950 non-null object\n",
      "sf_class_fc                 27950 non-null object\n",
      "age_insured_person          27950 non-null int64\n",
      "policy_start                27940 non-null object\n",
      "tariff_type                 27950 non-null object\n",
      "type_of_insurance           27950 non-null object\n",
      "comprehensive_product       20355 non-null object\n",
      "fc_deductible               27950 non-null int64\n",
      "pc_deductible               27950 non-null int64\n",
      "payment_interval            27950 non-null object\n",
      "insured_parties             27950 non-null object\n",
      "profession_group            27950 non-null object\n",
      "car_age_at_purchase         27950 non-null int64\n",
      "car_age_contract_start      27950 non-null int64\n",
      "annual_mileage              27950 non-null int64\n",
      "risk_predictor_zip_code     27948 non-null float64\n",
      "number_of_payment_faults    4789 non-null float64\n",
      "dtypes: float64(2), int64(7), object(9)\n",
      "memory usage: 3.8+ MB\n"
     ]
    }
   ],
   "source": [
    "df_friday.info()"
   ]
  },
  {
   "cell_type": "code",
   "execution_count": 771,
   "metadata": {},
   "outputs": [
    {
     "data": {
      "text/plain": [
       "(27950, 18)"
      ]
     },
     "execution_count": 771,
     "metadata": {},
     "output_type": "execute_result"
    }
   ],
   "source": [
    "df_friday.shape"
   ]
  },
  {
   "cell_type": "markdown",
   "metadata": {},
   "source": [
    "- ### Missing Data\n",
    "\n",
    "#### Check percentage of missing data\n",
    "\n",
    "If more than 50% of the data is missing, we should delete the corresponding variable and pretend it never existed. "
   ]
  },
  {
   "cell_type": "code",
   "execution_count": 772,
   "metadata": {},
   "outputs": [
    {
     "data": {
      "text/html": [
       "<div>\n",
       "<style scoped>\n",
       "    .dataframe tbody tr th:only-of-type {\n",
       "        vertical-align: middle;\n",
       "    }\n",
       "\n",
       "    .dataframe tbody tr th {\n",
       "        vertical-align: top;\n",
       "    }\n",
       "\n",
       "    .dataframe thead th {\n",
       "        text-align: right;\n",
       "    }\n",
       "</style>\n",
       "<table border=\"1\" class=\"dataframe\">\n",
       "  <thead>\n",
       "    <tr style=\"text-align: right;\">\n",
       "      <th></th>\n",
       "      <th>Total</th>\n",
       "      <th>Percent</th>\n",
       "    </tr>\n",
       "  </thead>\n",
       "  <tbody>\n",
       "    <tr>\n",
       "      <th>comprehensive_product</th>\n",
       "      <td>2352</td>\n",
       "      <td>0.965</td>\n",
       "    </tr>\n",
       "    <tr>\n",
       "      <th>policy_start</th>\n",
       "      <td>3</td>\n",
       "      <td>0.001</td>\n",
       "    </tr>\n",
       "    <tr>\n",
       "      <th>risk_predictor_zip_code</th>\n",
       "      <td>1</td>\n",
       "      <td>0.000</td>\n",
       "    </tr>\n",
       "    <tr>\n",
       "      <th>number_of_payment_faults</th>\n",
       "      <td>0</td>\n",
       "      <td>0.000</td>\n",
       "    </tr>\n",
       "    <tr>\n",
       "      <th>sf_class_tpl</th>\n",
       "      <td>0</td>\n",
       "      <td>0.000</td>\n",
       "    </tr>\n",
       "    <tr>\n",
       "      <th>sf_class_fc</th>\n",
       "      <td>0</td>\n",
       "      <td>0.000</td>\n",
       "    </tr>\n",
       "    <tr>\n",
       "      <th>age_insured_person</th>\n",
       "      <td>0</td>\n",
       "      <td>0.000</td>\n",
       "    </tr>\n",
       "    <tr>\n",
       "      <th>tariff_type</th>\n",
       "      <td>0</td>\n",
       "      <td>0.000</td>\n",
       "    </tr>\n",
       "    <tr>\n",
       "      <th>type_of_insurance</th>\n",
       "      <td>0</td>\n",
       "      <td>0.000</td>\n",
       "    </tr>\n",
       "    <tr>\n",
       "      <th>fc_deductible</th>\n",
       "      <td>0</td>\n",
       "      <td>0.000</td>\n",
       "    </tr>\n",
       "    <tr>\n",
       "      <th>pc_deductible</th>\n",
       "      <td>0</td>\n",
       "      <td>0.000</td>\n",
       "    </tr>\n",
       "    <tr>\n",
       "      <th>payment_interval</th>\n",
       "      <td>0</td>\n",
       "      <td>0.000</td>\n",
       "    </tr>\n",
       "    <tr>\n",
       "      <th>insured_parties</th>\n",
       "      <td>0</td>\n",
       "      <td>0.000</td>\n",
       "    </tr>\n",
       "    <tr>\n",
       "      <th>profession_group</th>\n",
       "      <td>0</td>\n",
       "      <td>0.000</td>\n",
       "    </tr>\n",
       "    <tr>\n",
       "      <th>car_age_at_purchase</th>\n",
       "      <td>0</td>\n",
       "      <td>0.000</td>\n",
       "    </tr>\n",
       "    <tr>\n",
       "      <th>car_age_contract_start</th>\n",
       "      <td>0</td>\n",
       "      <td>0.000</td>\n",
       "    </tr>\n",
       "    <tr>\n",
       "      <th>annual_mileage</th>\n",
       "      <td>0</td>\n",
       "      <td>0.000</td>\n",
       "    </tr>\n",
       "    <tr>\n",
       "      <th>contract_nr</th>\n",
       "      <td>0</td>\n",
       "      <td>0.000</td>\n",
       "    </tr>\n",
       "  </tbody>\n",
       "</table>\n",
       "</div>"
      ],
      "text/plain": [
       "                          Total  Percent\n",
       "comprehensive_product      2352    0.965\n",
       "policy_start                  3    0.001\n",
       "risk_predictor_zip_code       1    0.000\n",
       "number_of_payment_faults      0    0.000\n",
       "sf_class_tpl                  0    0.000\n",
       "sf_class_fc                   0    0.000\n",
       "age_insured_person            0    0.000\n",
       "tariff_type                   0    0.000\n",
       "type_of_insurance             0    0.000\n",
       "fc_deductible                 0    0.000\n",
       "pc_deductible                 0    0.000\n",
       "payment_interval              0    0.000\n",
       "insured_parties               0    0.000\n",
       "profession_group              0    0.000\n",
       "car_age_at_purchase           0    0.000\n",
       "car_age_contract_start        0    0.000\n",
       "annual_mileage                0    0.000\n",
       "contract_nr                   0    0.000"
      ]
     },
     "execution_count": 772,
     "metadata": {},
     "output_type": "execute_result"
    }
   ],
   "source": [
    "total = df_train.isnull().sum().sort_values(ascending=False)\n",
    "percent = (df_train.isnull().sum()/df_train.count()).sort_values(ascending=False)\n",
    "missing_data = pd.concat([total, percent], axis=1, keys=['Total', 'Percent'])\n",
    "# missing_data.head(20)\n",
    "missing_data"
   ]
  },
  {
   "cell_type": "code",
   "execution_count": 773,
   "metadata": {},
   "outputs": [
    {
     "data": {
      "text/plain": [
       "Text(0.5, 1.0, 'Percent missing data by feature')"
      ]
     },
     "execution_count": 773,
     "metadata": {},
     "output_type": "execute_result"
    },
    {
     "data": {
      "image/png": "[encoded data removed]",
      "text/plain": [
       "<Figure size 1080x864 with 1 Axes>"
      ]
     },
     "metadata": {},
     "output_type": "display_data"
    }
   ],
   "source": [
    "f, ax = plt.subplots(figsize=(15, 12))\n",
    "plt.xticks(rotation='90')\n",
    "sns.barplot(x=percent.index, y=percent)\n",
    "plt.xlabel('Features', fontsize=15)\n",
    "plt.ylabel('Percent of missing values', fontsize=15)\n",
    "plt.title('Percent missing data by feature', fontsize=15)"
   ]
  },
  {
   "cell_type": "code",
   "execution_count": 774,
   "metadata": {},
   "outputs": [],
   "source": [
    "#Since most of the observations don't have information of 'comprehensive_product', I delete this field.\n",
    "df_train.drop('comprehensive_product', axis=1, inplace=True)\n",
    "df_test.drop('comprehensive_product', axis=1, inplace=True)"
   ]
  },
  {
   "cell_type": "code",
   "execution_count": null,
   "metadata": {},
   "outputs": [],
   "source": []
  },
  {
   "cell_type": "code",
   "execution_count": 775,
   "metadata": {},
   "outputs": [
    {
     "data": {
      "text/html": [
       "<div>\n",
       "<style scoped>\n",
       "    .dataframe tbody tr th:only-of-type {\n",
       "        vertical-align: middle;\n",
       "    }\n",
       "\n",
       "    .dataframe tbody tr th {\n",
       "        vertical-align: top;\n",
       "    }\n",
       "\n",
       "    .dataframe thead th {\n",
       "        text-align: right;\n",
       "    }\n",
       "</style>\n",
       "<table border=\"1\" class=\"dataframe\">\n",
       "  <thead>\n",
       "    <tr style=\"text-align: right;\">\n",
       "      <th></th>\n",
       "      <th>contract_nr</th>\n",
       "      <th>sf_class_tpl</th>\n",
       "      <th>sf_class_fc</th>\n",
       "      <th>age_insured_person</th>\n",
       "      <th>policy_start</th>\n",
       "      <th>tariff_type</th>\n",
       "      <th>type_of_insurance</th>\n",
       "      <th>fc_deductible</th>\n",
       "      <th>pc_deductible</th>\n",
       "      <th>payment_interval</th>\n",
       "      <th>insured_parties</th>\n",
       "      <th>profession_group</th>\n",
       "      <th>car_age_at_purchase</th>\n",
       "      <th>car_age_contract_start</th>\n",
       "      <th>annual_mileage</th>\n",
       "      <th>risk_predictor_zip_code</th>\n",
       "      <th>number_of_payment_faults</th>\n",
       "    </tr>\n",
       "  </thead>\n",
       "  <tbody>\n",
       "    <tr>\n",
       "      <th>0</th>\n",
       "      <td>1</td>\n",
       "      <td>SF1/2</td>\n",
       "      <td>SF1/2</td>\n",
       "      <td>34</td>\n",
       "      <td>YOB</td>\n",
       "      <td>Original</td>\n",
       "      <td>New Vehicle</td>\n",
       "      <td>0</td>\n",
       "      <td>0</td>\n",
       "      <td>Monthly</td>\n",
       "      <td>Insured and Spouse/Partner</td>\n",
       "      <td>Standard</td>\n",
       "      <td>10</td>\n",
       "      <td>11</td>\n",
       "      <td>12000</td>\n",
       "      <td>5.000</td>\n",
       "      <td>1.000</td>\n",
       "    </tr>\n",
       "    <tr>\n",
       "      <th>33</th>\n",
       "      <td>34</td>\n",
       "      <td>SF5</td>\n",
       "      <td>SF5</td>\n",
       "      <td>47</td>\n",
       "      <td>YOB</td>\n",
       "      <td>Original</td>\n",
       "      <td>New Vehicle</td>\n",
       "      <td>0</td>\n",
       "      <td>150</td>\n",
       "      <td>Monthly</td>\n",
       "      <td>Insured and Spouse/Partner</td>\n",
       "      <td>Standard</td>\n",
       "      <td>8</td>\n",
       "      <td>9</td>\n",
       "      <td>9000</td>\n",
       "      <td>8.000</td>\n",
       "      <td>1.000</td>\n",
       "    </tr>\n",
       "    <tr>\n",
       "      <th>35</th>\n",
       "      <td>36</td>\n",
       "      <td>SF1/2</td>\n",
       "      <td>SF1/2</td>\n",
       "      <td>37</td>\n",
       "      <td>YOB</td>\n",
       "      <td>Original</td>\n",
       "      <td>First Vehicle</td>\n",
       "      <td>0</td>\n",
       "      <td>0</td>\n",
       "      <td>Monthly</td>\n",
       "      <td>Insured and Spouse/Partner</td>\n",
       "      <td>Standard</td>\n",
       "      <td>15</td>\n",
       "      <td>16</td>\n",
       "      <td>6000</td>\n",
       "      <td>5.000</td>\n",
       "      <td>2.000</td>\n",
       "    </tr>\n",
       "    <tr>\n",
       "      <th>38</th>\n",
       "      <td>39</td>\n",
       "      <td>SF1/2</td>\n",
       "      <td>SF1/2</td>\n",
       "      <td>42</td>\n",
       "      <td>YOB</td>\n",
       "      <td>Original</td>\n",
       "      <td>Change of Insurer</td>\n",
       "      <td>0</td>\n",
       "      <td>150</td>\n",
       "      <td>Monthly</td>\n",
       "      <td>Insured and Spouse/Partner</td>\n",
       "      <td>Standard</td>\n",
       "      <td>1</td>\n",
       "      <td>2</td>\n",
       "      <td>15000</td>\n",
       "      <td>1.000</td>\n",
       "      <td>2.000</td>\n",
       "    </tr>\n",
       "    <tr>\n",
       "      <th>47</th>\n",
       "      <td>48</td>\n",
       "      <td>SF23</td>\n",
       "      <td>SF3</td>\n",
       "      <td>63</td>\n",
       "      <td>YEB</td>\n",
       "      <td>Pay per km</td>\n",
       "      <td>Change of Insurer</td>\n",
       "      <td>300</td>\n",
       "      <td>150</td>\n",
       "      <td>Monthly</td>\n",
       "      <td>Insured and Spouse/Partner</td>\n",
       "      <td>Standard</td>\n",
       "      <td>4</td>\n",
       "      <td>5</td>\n",
       "      <td>12000</td>\n",
       "      <td>5.000</td>\n",
       "      <td>1.000</td>\n",
       "    </tr>\n",
       "  </tbody>\n",
       "</table>\n",
       "</div>"
      ],
      "text/plain": [
       "    contract_nr sf_class_tpl sf_class_fc  age_insured_person policy_start  \\\n",
       "0             1        SF1/2       SF1/2                  34          YOB   \n",
       "33           34          SF5         SF5                  47          YOB   \n",
       "35           36        SF1/2       SF1/2                  37          YOB   \n",
       "38           39        SF1/2       SF1/2                  42          YOB   \n",
       "47           48         SF23         SF3                  63          YEB   \n",
       "\n",
       "   tariff_type  type_of_insurance  fc_deductible  pc_deductible  \\\n",
       "0     Original        New Vehicle              0              0   \n",
       "33    Original        New Vehicle              0            150   \n",
       "35    Original      First Vehicle              0              0   \n",
       "38    Original  Change of Insurer              0            150   \n",
       "47  Pay per km  Change of Insurer            300            150   \n",
       "\n",
       "   payment_interval             insured_parties profession_group  \\\n",
       "0           Monthly  Insured and Spouse/Partner         Standard   \n",
       "33          Monthly  Insured and Spouse/Partner         Standard   \n",
       "35          Monthly  Insured and Spouse/Partner         Standard   \n",
       "38          Monthly  Insured and Spouse/Partner         Standard   \n",
       "47          Monthly  Insured and Spouse/Partner         Standard   \n",
       "\n",
       "    car_age_at_purchase  car_age_contract_start  annual_mileage  \\\n",
       "0                    10                      11           12000   \n",
       "33                    8                       9            9000   \n",
       "35                   15                      16            6000   \n",
       "38                    1                       2           15000   \n",
       "47                    4                       5           12000   \n",
       "\n",
       "    risk_predictor_zip_code  number_of_payment_faults  \n",
       "0                     5.000                     1.000  \n",
       "33                    8.000                     1.000  \n",
       "35                    5.000                     2.000  \n",
       "38                    1.000                     2.000  \n",
       "47                    5.000                     1.000  "
      ]
     },
     "execution_count": 775,
     "metadata": {},
     "output_type": "execute_result"
    }
   ],
   "source": [
    "df_train.head()"
   ]
  },
  {
   "cell_type": "markdown",
   "metadata": {},
   "source": [
    "### 'sf_class_tpl' "
   ]
  },
  {
   "cell_type": "code",
   "execution_count": 776,
   "metadata": {},
   "outputs": [
    {
     "data": {
      "text/plain": [
       "count      4789\n",
       "unique       47\n",
       "top       SF1/2\n",
       "freq       1805\n",
       "Name: sf_class_tpl, dtype: object"
      ]
     },
     "execution_count": 776,
     "metadata": {},
     "output_type": "execute_result"
    }
   ],
   "source": [
    "df_train['sf_class_tpl'].describe()"
   ]
  },
  {
   "cell_type": "code",
   "execution_count": 777,
   "metadata": {},
   "outputs": [
    {
     "data": {
      "text/plain": [
       "array(['SF1/2', 'SF5', 'SF23', 'SF1', 'SF18', 'SF35', 'SF10', 'SF2',\n",
       "       'SF17', 0, 'SF19', 'SF24', 'SF13', 'SF14', 'SF8', 'SF7', 'SF21',\n",
       "       'SF3', 'SF4', 'SF15', 'SF22', 'SF9', 'SF12', 'M', 'SF27', 'SF6',\n",
       "       'SF16', 'SF11', 'SF28', 'SF37', 'SF20', 'SF30', 'SF31', 'SF34',\n",
       "       'SF26', 'SF25', 'SF33', 'SF39', 'SF32', 'SF36', 'SF29', 'SF44',\n",
       "       'SF42', 'SF41', 'SF40', 'SF38', 'S'], dtype=object)"
      ]
     },
     "execution_count": 777,
     "metadata": {},
     "output_type": "execute_result"
    }
   ],
   "source": [
    "df_train['sf_class_tpl'].unique()"
   ]
  },
  {
   "cell_type": "code",
   "execution_count": 778,
   "metadata": {},
   "outputs": [
    {
     "data": {
      "text/plain": [
       "(0, 17)"
      ]
     },
     "execution_count": 778,
     "metadata": {},
     "output_type": "execute_result"
    }
   ],
   "source": [
    "df_train[df_train['sf_class_tpl'].isnull()].shape"
   ]
  },
  {
   "cell_type": "markdown",
   "metadata": {},
   "source": [
    "### 'sf_class_fc'"
   ]
  },
  {
   "cell_type": "code",
   "execution_count": 779,
   "metadata": {},
   "outputs": [
    {
     "data": {
      "text/plain": [
       "count      4789\n",
       "unique       47\n",
       "top       SF1/2\n",
       "freq       1834\n",
       "Name: sf_class_fc, dtype: object"
      ]
     },
     "execution_count": 779,
     "metadata": {},
     "output_type": "execute_result"
    }
   ],
   "source": [
    "df_train['sf_class_fc'].describe()"
   ]
  },
  {
   "cell_type": "code",
   "execution_count": 780,
   "metadata": {},
   "outputs": [
    {
     "data": {
      "text/plain": [
       "array(['SF1/2', 'SF5', 'SF3', 'SF1', 'SF18', 'SF35', 'SF10', 'SF2',\n",
       "       'SF22', 0, 'SF19', 'SF24', 'SF25', 'SF16', 'SF15', 'SF14', 'SF8',\n",
       "       'SF7', 'SF21', 'SF4', 'SF23', 'SF9', 'M', 'SF12', 'SF13', 'SF6',\n",
       "       'SF27', 'SF17', 'SF11', 'SF28', 'SF37', 'SF30', 'SF33', 'SF31',\n",
       "       'SF34', 'SF20', 'SF26', 'SF29', 'SF32', 'SF36', 'SF41', 'SF44',\n",
       "       'SF42', 'S', 'SF39', 'SF40', 'SF38'], dtype=object)"
      ]
     },
     "execution_count": 780,
     "metadata": {},
     "output_type": "execute_result"
    }
   ],
   "source": [
    "df_train['sf_class_fc'].unique()"
   ]
  },
  {
   "cell_type": "code",
   "execution_count": 781,
   "metadata": {},
   "outputs": [
    {
     "data": {
      "text/plain": [
       "(0, 17)"
      ]
     },
     "execution_count": 781,
     "metadata": {},
     "output_type": "execute_result"
    }
   ],
   "source": [
    "df_train[df_train['sf_class_fc'].isnull()].shape"
   ]
  },
  {
   "cell_type": "markdown",
   "metadata": {},
   "source": [
    "### 'policy_start'"
   ]
  },
  {
   "cell_type": "code",
   "execution_count": 782,
   "metadata": {},
   "outputs": [
    {
     "data": {
      "text/plain": [
       "count     4786\n",
       "unique       2\n",
       "top        YOB\n",
       "freq      3362\n",
       "Name: policy_start, dtype: object"
      ]
     },
     "execution_count": 782,
     "metadata": {},
     "output_type": "execute_result"
    }
   ],
   "source": [
    "df_train['policy_start'].describe()"
   ]
  },
  {
   "cell_type": "code",
   "execution_count": 783,
   "metadata": {},
   "outputs": [
    {
     "data": {
      "text/plain": [
       "array(['YOB', 'YEB', nan], dtype=object)"
      ]
     },
     "execution_count": 783,
     "metadata": {},
     "output_type": "execute_result"
    }
   ],
   "source": [
    "df_train['policy_start'].unique()"
   ]
  },
  {
   "cell_type": "code",
   "execution_count": 784,
   "metadata": {},
   "outputs": [
    {
     "data": {
      "text/plain": [
       "(3, 17)"
      ]
     },
     "execution_count": 784,
     "metadata": {},
     "output_type": "execute_result"
    }
   ],
   "source": [
    "df_train[df_train['policy_start'].isnull()].shape"
   ]
  },
  {
   "cell_type": "markdown",
   "metadata": {},
   "source": [
    "### 'tariff_type'"
   ]
  },
  {
   "cell_type": "code",
   "execution_count": 785,
   "metadata": {},
   "outputs": [
    {
     "data": {
      "text/plain": [
       "count         4789\n",
       "unique           2\n",
       "top       Original\n",
       "freq          3816\n",
       "Name: tariff_type, dtype: object"
      ]
     },
     "execution_count": 785,
     "metadata": {},
     "output_type": "execute_result"
    }
   ],
   "source": [
    "df_train['tariff_type'].describe()"
   ]
  },
  {
   "cell_type": "code",
   "execution_count": 786,
   "metadata": {},
   "outputs": [
    {
     "data": {
      "text/plain": [
       "array(['Original', 'Pay per km'], dtype=object)"
      ]
     },
     "execution_count": 786,
     "metadata": {},
     "output_type": "execute_result"
    }
   ],
   "source": [
    "df_train['tariff_type'].unique()"
   ]
  },
  {
   "cell_type": "code",
   "execution_count": 787,
   "metadata": {},
   "outputs": [
    {
     "data": {
      "text/plain": [
       "(0, 17)"
      ]
     },
     "execution_count": 787,
     "metadata": {},
     "output_type": "execute_result"
    }
   ],
   "source": [
    "df_train[df_train['tariff_type'].isnull()].shape"
   ]
  },
  {
   "cell_type": "markdown",
   "metadata": {},
   "source": [
    "### 'type_of_insurance'"
   ]
  },
  {
   "cell_type": "code",
   "execution_count": 788,
   "metadata": {},
   "outputs": [
    {
     "data": {
      "text/plain": [
       "count                  4789\n",
       "unique                    3\n",
       "top       Change of Insurer\n",
       "freq                   2594\n",
       "Name: type_of_insurance, dtype: object"
      ]
     },
     "execution_count": 788,
     "metadata": {},
     "output_type": "execute_result"
    }
   ],
   "source": [
    "df_train['type_of_insurance'].describe()"
   ]
  },
  {
   "cell_type": "code",
   "execution_count": 789,
   "metadata": {},
   "outputs": [
    {
     "data": {
      "text/plain": [
       "array(['New Vehicle', 'First Vehicle', 'Change of Insurer'], dtype=object)"
      ]
     },
     "execution_count": 789,
     "metadata": {},
     "output_type": "execute_result"
    }
   ],
   "source": [
    "df_train['type_of_insurance'].unique()"
   ]
  },
  {
   "cell_type": "code",
   "execution_count": 790,
   "metadata": {},
   "outputs": [
    {
     "data": {
      "text/plain": [
       "(0, 17)"
      ]
     },
     "execution_count": 790,
     "metadata": {},
     "output_type": "execute_result"
    }
   ],
   "source": [
    "df_train[df_train['type_of_insurance'].isnull()].shape"
   ]
  },
  {
   "cell_type": "markdown",
   "metadata": {},
   "source": [
    "### 'payment_interval'"
   ]
  },
  {
   "cell_type": "code",
   "execution_count": 791,
   "metadata": {},
   "outputs": [
    {
     "data": {
      "text/plain": [
       "count        4789\n",
       "unique          2\n",
       "top       Monthly\n",
       "freq         4722\n",
       "Name: payment_interval, dtype: object"
      ]
     },
     "execution_count": 791,
     "metadata": {},
     "output_type": "execute_result"
    }
   ],
   "source": [
    "df_train['payment_interval'].describe()"
   ]
  },
  {
   "cell_type": "code",
   "execution_count": 792,
   "metadata": {},
   "outputs": [
    {
     "data": {
      "text/plain": [
       "array(['Monthly', 'Pay In Full'], dtype=object)"
      ]
     },
     "execution_count": 792,
     "metadata": {},
     "output_type": "execute_result"
    }
   ],
   "source": [
    "df_train['payment_interval'].unique()"
   ]
  },
  {
   "cell_type": "code",
   "execution_count": 793,
   "metadata": {},
   "outputs": [
    {
     "data": {
      "text/plain": [
       "(0, 17)"
      ]
     },
     "execution_count": 793,
     "metadata": {},
     "output_type": "execute_result"
    }
   ],
   "source": [
    "df_train[df_train['payment_interval'].isnull()].shape"
   ]
  },
  {
   "cell_type": "markdown",
   "metadata": {},
   "source": [
    "### 'insured_parties'"
   ]
  },
  {
   "cell_type": "code",
   "execution_count": 794,
   "metadata": {},
   "outputs": [
    {
     "data": {
      "text/plain": [
       "count                           4789\n",
       "unique                             2\n",
       "top       Insured and Spouse/Partner\n",
       "freq                            3951\n",
       "Name: insured_parties, dtype: object"
      ]
     },
     "execution_count": 794,
     "metadata": {},
     "output_type": "execute_result"
    }
   ],
   "source": [
    "df_train['insured_parties'].describe()"
   ]
  },
  {
   "cell_type": "code",
   "execution_count": 795,
   "metadata": {},
   "outputs": [
    {
     "data": {
      "text/plain": [
       "array(['Insured and Spouse/Partner', 'Insured and Others'], dtype=object)"
      ]
     },
     "execution_count": 795,
     "metadata": {},
     "output_type": "execute_result"
    }
   ],
   "source": [
    "df_train['insured_parties'].unique()"
   ]
  },
  {
   "cell_type": "code",
   "execution_count": 796,
   "metadata": {},
   "outputs": [
    {
     "data": {
      "text/plain": [
       "(0, 17)"
      ]
     },
     "execution_count": 796,
     "metadata": {},
     "output_type": "execute_result"
    }
   ],
   "source": [
    "df_train[df_train['insured_parties'].isnull()].shape"
   ]
  },
  {
   "cell_type": "markdown",
   "metadata": {},
   "source": [
    "### 'profession_group'"
   ]
  },
  {
   "cell_type": "code",
   "execution_count": 797,
   "metadata": {},
   "outputs": [
    {
     "data": {
      "text/plain": [
       "count         4789\n",
       "unique           2\n",
       "top       Standard\n",
       "freq          4369\n",
       "Name: profession_group, dtype: object"
      ]
     },
     "execution_count": 797,
     "metadata": {},
     "output_type": "execute_result"
    }
   ],
   "source": [
    "df_train['profession_group'].describe()"
   ]
  },
  {
   "cell_type": "code",
   "execution_count": 798,
   "metadata": {},
   "outputs": [
    {
     "data": {
      "text/plain": [
       "array(['Standard', 'Public service'], dtype=object)"
      ]
     },
     "execution_count": 798,
     "metadata": {},
     "output_type": "execute_result"
    }
   ],
   "source": [
    "df_train['profession_group'].unique()"
   ]
  },
  {
   "cell_type": "code",
   "execution_count": 799,
   "metadata": {},
   "outputs": [
    {
     "data": {
      "text/plain": [
       "(0, 17)"
      ]
     },
     "execution_count": 799,
     "metadata": {},
     "output_type": "execute_result"
    }
   ],
   "source": [
    "df_train[df_train['profession_group'].isnull()].shape"
   ]
  },
  {
   "cell_type": "markdown",
   "metadata": {},
   "source": [
    "### 'age_insured_person'"
   ]
  },
  {
   "cell_type": "code",
   "execution_count": 800,
   "metadata": {},
   "outputs": [],
   "source": [
    "def report_numerical_variables(df_friday, var_name):\n",
    "    print('-------------')\n",
    "    print(var_name)\n",
    "    print('\\n')\n",
    "    \n",
    "    print(df_friday[var_name].describe())\n",
    "    \n",
    "    sns.distplot(df_friday[var_name])\n",
    "    \n",
    "    #skewness and kurtosis\n",
    "    print(\"Skewness: %f\" % df_friday[var_name].skew())\n",
    "\n",
    "    df_friday[[var_name]].boxplot()\n",
    "    pyplot.show()\n",
    "\n",
    "    df_friday[[var_name]].hist()\n",
    "    pyplot.show()\n",
    "\n",
    "    print('mean: {} median: {}'.format(df_friday[var_name].mean(), df_friday[var_name].median()))\n",
    "\n",
    "    df_friday[df_friday[var_name].isnull()].shape\n",
    "\n",
    "    sns.distplot(df_friday[var_name], fit=norm)\n",
    "    fig = plt.figure()\n",
    "\n",
    "    # https://matplotlib.org/mpl-probscale/tutorial/closer_look_at_viz.html\n",
    "    res = stats.probplot(df_friday[var_name], plot=plt)\n",
    "    \n",
    "    num_null = df_friday[df_friday[var_name].isnull()].shape[0]\n",
    "    print('number of null rows: {}'.format(num_null))\n"
   ]
  },
  {
   "cell_type": "code",
   "execution_count": 801,
   "metadata": {},
   "outputs": [
    {
     "name": "stdout",
     "output_type": "stream",
     "text": [
      "-------------\n",
      "age_insured_person\n",
      "\n",
      "\n",
      "count   4789.000\n",
      "mean      41.868\n",
      "std       13.748\n",
      "min       18.000\n",
      "25%       31.000\n",
      "50%       40.000\n",
      "75%       51.000\n",
      "max       91.000\n",
      "Name: age_insured_person, dtype: float64\n",
      "Skewness: 0.654636\n"
     ]
    },
    {
     "data": {
      "image/png": "[encoded data removed]",
      "text/plain": [
       "<Figure size 432x288 with 1 Axes>"
      ]
     },
     "metadata": {},
     "output_type": "display_data"
    },
    {
     "data": {
      "image/png": "[encoded data removed]",
      "text/plain": [
       "<Figure size 432x288 with 1 Axes>"
      ]
     },
     "metadata": {},
     "output_type": "display_data"
    },
    {
     "name": "stdout",
     "output_type": "stream",
     "text": [
      "mean: 41.867822092294844 median: 40.0\n",
      "number of null rows: 0\n"
     ]
    },
    {
     "data": {
      "image/png": "[encoded data removed]",
      "text/plain": [
       "<Figure size 432x288 with 1 Axes>"
      ]
     },
     "metadata": {},
     "output_type": "display_data"
    },
    {
     "data": {
      "image/png": "[encoded data removed]",
      "text/plain": [
       "<Figure size 432x288 with 1 Axes>"
      ]
     },
     "metadata": {},
     "output_type": "display_data"
    }
   ],
   "source": [
    "report_numerical_variables(df_train, 'age_insured_person')"
   ]
  },
  {
   "cell_type": "markdown",
   "metadata": {},
   "source": [
    "### 'fc_deductible'"
   ]
  },
  {
   "cell_type": "code",
   "execution_count": 802,
   "metadata": {},
   "outputs": [
    {
     "name": "stdout",
     "output_type": "stream",
     "text": [
      "-------------\n",
      "fc_deductible\n",
      "\n",
      "\n",
      "count   4789.000\n",
      "mean      91.334\n",
      "std      179.384\n",
      "min        0.000\n",
      "25%        0.000\n",
      "50%        0.000\n",
      "75%        0.000\n",
      "max     1000.000\n",
      "Name: fc_deductible, dtype: float64\n",
      "Skewness: 2.406833\n"
     ]
    },
    {
     "data": {
      "image/png": "[encoded data removed]",
      "text/plain": [
       "<Figure size 432x288 with 1 Axes>"
      ]
     },
     "metadata": {},
     "output_type": "display_data"
    },
    {
     "data": {
      "image/png": "[encoded data removed]",
      "text/plain": [
       "<Figure size 432x288 with 1 Axes>"
      ]
     },
     "metadata": {},
     "output_type": "display_data"
    },
    {
     "name": "stdout",
     "output_type": "stream",
     "text": [
      "mean: 91.3343077886824 median: 0.0\n",
      "number of null rows: 0\n"
     ]
    },
    {
     "data": {
      "image/png": "[encoded data removed]",
      "text/plain": [
       "<Figure size 432x288 with 1 Axes>"
      ]
     },
     "metadata": {},
     "output_type": "display_data"
    },
    {
     "data": {
      "image/png": "[encoded data removed]",
      "text/plain": [
       "<Figure size 432x288 with 1 Axes>"
      ]
     },
     "metadata": {},
     "output_type": "display_data"
    }
   ],
   "source": [
    "report_numerical_variables(df_train, 'fc_deductible')"
   ]
  },
  {
   "cell_type": "markdown",
   "metadata": {},
   "source": [
    "### 'pc_deductible'"
   ]
  },
  {
   "cell_type": "code",
   "execution_count": 803,
   "metadata": {},
   "outputs": [
    {
     "name": "stdout",
     "output_type": "stream",
     "text": [
      "-------------\n",
      "pc_deductible\n",
      "\n",
      "\n",
      "count   4789.000\n",
      "mean      85.519\n",
      "std       93.411\n",
      "min        0.000\n",
      "25%        0.000\n",
      "50%      150.000\n",
      "75%      150.000\n",
      "max      500.000\n",
      "Name: pc_deductible, dtype: float64\n",
      "Skewness: 0.897905\n"
     ]
    },
    {
     "data": {
      "image/png": "[encoded data removed]",
      "text/plain": [
       "<Figure size 432x288 with 1 Axes>"
      ]
     },
     "metadata": {},
     "output_type": "display_data"
    },
    {
     "data": {
      "image/png": "[encoded data removed]",
      "text/plain": [
       "<Figure size 432x288 with 1 Axes>"
      ]
     },
     "metadata": {},
     "output_type": "display_data"
    },
    {
     "name": "stdout",
     "output_type": "stream",
     "text": [
      "mean: 85.51889747337648 median: 150.0\n",
      "number of null rows: 0\n"
     ]
    },
    {
     "data": {
      "image/png": "[encoded data removed]",
      "text/plain": [
       "<Figure size 432x288 with 1 Axes>"
      ]
     },
     "metadata": {},
     "output_type": "display_data"
    },
    {
     "data": {
      "image/png": "[encoded data removed]",
      "text/plain": [
       "<Figure size 432x288 with 1 Axes>"
      ]
     },
     "metadata": {},
     "output_type": "display_data"
    }
   ],
   "source": [
    "report_numerical_variables(df_train, 'pc_deductible')"
   ]
  },
  {
   "cell_type": "markdown",
   "metadata": {},
   "source": [
    "### 'car_age_at_purchase'"
   ]
  },
  {
   "cell_type": "code",
   "execution_count": 804,
   "metadata": {},
   "outputs": [
    {
     "name": "stdout",
     "output_type": "stream",
     "text": [
      "-------------\n",
      "car_age_at_purchase\n",
      "\n",
      "\n",
      "count   4789.000\n",
      "mean      10.342\n",
      "std        7.086\n",
      "min        0.000\n",
      "25%        4.000\n",
      "50%       11.000\n",
      "75%       16.000\n",
      "max       30.000\n",
      "Name: car_age_at_purchase, dtype: float64\n",
      "Skewness: -0.043320\n"
     ]
    },
    {
     "data": {
      "image/png": "[encoded data removed]",
      "text/plain": [
       "<Figure size 432x288 with 1 Axes>"
      ]
     },
     "metadata": {},
     "output_type": "display_data"
    },
    {
     "data": {
      "image/png": "[encoded data removed]",
      "text/plain": [
       "<Figure size 432x288 with 1 Axes>"
      ]
     },
     "metadata": {},
     "output_type": "display_data"
    },
    {
     "name": "stdout",
     "output_type": "stream",
     "text": [
      "mean: 10.34245145124243 median: 11.0\n",
      "number of null rows: 0\n"
     ]
    },
    {
     "data": {
      "image/png": "[encoded data removed]",
      "text/plain": [
       "<Figure size 432x288 with 1 Axes>"
      ]
     },
     "metadata": {},
     "output_type": "display_data"
    },
    {
     "data": {
      "image/png": "[encoded data removed]",
      "text/plain": [
       "<Figure size 432x288 with 1 Axes>"
      ]
     },
     "metadata": {},
     "output_type": "display_data"
    }
   ],
   "source": [
    "report_numerical_variables(df_train, 'car_age_at_purchase')"
   ]
  },
  {
   "cell_type": "markdown",
   "metadata": {},
   "source": [
    "### 'car_age_contract_start'"
   ]
  },
  {
   "cell_type": "code",
   "execution_count": 805,
   "metadata": {},
   "outputs": [
    {
     "name": "stdout",
     "output_type": "stream",
     "text": [
      "-------------\n",
      "car_age_contract_start\n",
      "\n",
      "\n",
      "count   4789.000\n",
      "mean      12.391\n",
      "std        6.428\n",
      "min        0.000\n",
      "25%        8.000\n",
      "50%       13.000\n",
      "75%       18.000\n",
      "max       31.000\n",
      "Name: car_age_contract_start, dtype: float64\n",
      "Skewness: -0.209361\n"
     ]
    },
    {
     "data": {
      "image/png": "[encoded data removed]",
      "text/plain": [
       "<Figure size 432x288 with 1 Axes>"
      ]
     },
     "metadata": {},
     "output_type": "display_data"
    },
    {
     "data": {
      "image/png": "[encoded data removed]",
      "text/plain": [
       "<Figure size 432x288 with 1 Axes>"
      ]
     },
     "metadata": {},
     "output_type": "display_data"
    },
    {
     "name": "stdout",
     "output_type": "stream",
     "text": [
      "mean: 12.390895802881603 median: 13.0\n",
      "number of null rows: 0\n"
     ]
    },
    {
     "data": {
      "image/png": "[encoded data removed]",
      "text/plain": [
       "<Figure size 432x288 with 1 Axes>"
      ]
     },
     "metadata": {},
     "output_type": "display_data"
    },
    {
     "data": {
      "image/png": "[encoded data removed]",
      "text/plain": [
       "<Figure size 432x288 with 1 Axes>"
      ]
     },
     "metadata": {},
     "output_type": "display_data"
    }
   ],
   "source": [
    "report_numerical_variables(df_train, 'car_age_contract_start')"
   ]
  },
  {
   "cell_type": "markdown",
   "metadata": {},
   "source": [
    "### 'annual_mileage'"
   ]
  },
  {
   "cell_type": "code",
   "execution_count": 806,
   "metadata": {},
   "outputs": [
    {
     "name": "stdout",
     "output_type": "stream",
     "text": [
      "-------------\n",
      "annual_mileage\n",
      "\n",
      "\n",
      "count    4789.000\n",
      "mean    12107.496\n",
      "std      5734.010\n",
      "min       600.000\n",
      "25%      9000.000\n",
      "50%     12000.000\n",
      "75%     15000.000\n",
      "max     90000.000\n",
      "Name: annual_mileage, dtype: float64\n",
      "Skewness: 1.791910\n"
     ]
    },
    {
     "data": {
      "image/png": "[encoded data removed]",
      "text/plain": [
       "<Figure size 432x288 with 1 Axes>"
      ]
     },
     "metadata": {},
     "output_type": "display_data"
    },
    {
     "data": {
      "image/png": "[encoded data removed]",
      "text/plain": [
       "<Figure size 432x288 with 1 Axes>"
      ]
     },
     "metadata": {},
     "output_type": "display_data"
    },
    {
     "name": "stdout",
     "output_type": "stream",
     "text": [
      "mean: 12107.49634579244 median: 12000.0\n",
      "number of null rows: 0\n"
     ]
    },
    {
     "data": {
      "image/png": "[encoded data removed]",
      "text/plain": [
       "<Figure size 432x288 with 1 Axes>"
      ]
     },
     "metadata": {},
     "output_type": "display_data"
    },
    {
     "data": {
      "image/png": "[encoded data removed]",
      "text/plain": [
       "<Figure size 432x288 with 1 Axes>"
      ]
     },
     "metadata": {},
     "output_type": "display_data"
    }
   ],
   "source": [
    "report_numerical_variables(df_train, 'annual_mileage')"
   ]
  },
  {
   "cell_type": "markdown",
   "metadata": {},
   "source": [
    "- ### Transforming some numerical variables that are really categorical\n",
    "    - 'risk_predictor_zip_code'"
   ]
  },
  {
   "cell_type": "code",
   "execution_count": 807,
   "metadata": {},
   "outputs": [],
   "source": [
    "df_train['risk_predictor_zip_code'] = df_train['risk_predictor_zip_code'].apply(str)\n",
    "df_test['risk_predictor_zip_code'] = df_test['risk_predictor_zip_code'].apply(str)"
   ]
  },
  {
   "cell_type": "code",
   "execution_count": 808,
   "metadata": {},
   "outputs": [
    {
     "name": "stdout",
     "output_type": "stream",
     "text": [
      "<class 'pandas.core.frame.DataFrame'>\n",
      "Int64Index: 4789 entries, 0 to 27944\n",
      "Data columns (total 17 columns):\n",
      "contract_nr                 4789 non-null int64\n",
      "sf_class_tpl                4789 non-null object\n",
      "sf_class_fc                 4789 non-null object\n",
      "age_insured_person          4789 non-null int64\n",
      "policy_start                4786 non-null object\n",
      "tariff_type                 4789 non-null object\n",
      "type_of_insurance           4789 non-null object\n",
      "fc_deductible               4789 non-null int64\n",
      "pc_deductible               4789 non-null int64\n",
      "payment_interval            4789 non-null object\n",
      "insured_parties             4789 non-null object\n",
      "profession_group            4789 non-null object\n",
      "car_age_at_purchase         4789 non-null int64\n",
      "car_age_contract_start      4789 non-null int64\n",
      "annual_mileage              4789 non-null int64\n",
      "risk_predictor_zip_code     4789 non-null object\n",
      "number_of_payment_faults    4789 non-null float64\n",
      "dtypes: float64(1), int64(7), object(9)\n",
      "memory usage: 673.5+ KB\n"
     ]
    }
   ],
   "source": [
    "df_train.info()"
   ]
  },
  {
   "cell_type": "markdown",
   "metadata": {},
   "source": [
    "- ### Add new column '_na' for all the numerical variables"
   ]
  },
  {
   "cell_type": "code",
   "execution_count": 809,
   "metadata": {},
   "outputs": [],
   "source": [
    "# handle the missing values: \n",
    "# - create a col_NA column to indicate which row has NAs.\n",
    "def add_col_na(df_train, target):\n",
    "    for col in df_train.columns:\n",
    "        if col != target and is_numeric_dtype(df_train[col]):\n",
    "            col_vals = df_train[col]\n",
    "            if sum(col_vals.isnull()) != 0:\n",
    "                df_train[col+'_na'] = col_vals.isnull()\n",
    "                df_test[col+'_na'] = df_test[col].isnull()                \n",
    "    return df_train, df_test"
   ]
  },
  {
   "cell_type": "code",
   "execution_count": 810,
   "metadata": {},
   "outputs": [],
   "source": [
    "df_train, df_test = add_col_na(df_train, 'number_of_payment_faults')"
   ]
  },
  {
   "cell_type": "code",
   "execution_count": 811,
   "metadata": {},
   "outputs": [
    {
     "name": "stdout",
     "output_type": "stream",
     "text": [
      "<class 'pandas.core.frame.DataFrame'>\n",
      "Int64Index: 4789 entries, 0 to 27944\n",
      "Data columns (total 17 columns):\n",
      "contract_nr                 4789 non-null int64\n",
      "sf_class_tpl                4789 non-null object\n",
      "sf_class_fc                 4789 non-null object\n",
      "age_insured_person          4789 non-null int64\n",
      "policy_start                4786 non-null object\n",
      "tariff_type                 4789 non-null object\n",
      "type_of_insurance           4789 non-null object\n",
      "fc_deductible               4789 non-null int64\n",
      "pc_deductible               4789 non-null int64\n",
      "payment_interval            4789 non-null object\n",
      "insured_parties             4789 non-null object\n",
      "profession_group            4789 non-null object\n",
      "car_age_at_purchase         4789 non-null int64\n",
      "car_age_contract_start      4789 non-null int64\n",
      "annual_mileage              4789 non-null int64\n",
      "risk_predictor_zip_code     4789 non-null object\n",
      "number_of_payment_faults    4789 non-null float64\n",
      "dtypes: float64(1), int64(7), object(9)\n",
      "memory usage: 673.5+ KB\n"
     ]
    }
   ],
   "source": [
    "df_train.info()"
   ]
  },
  {
   "cell_type": "markdown",
   "metadata": {},
   "source": [
    "- ### Skewness\n",
    "\n",
    "\n",
    "Transform the skewed numeric features by taking log(feature + 1). This will make the features more normal.\n",
    "\n",
    "https://www.kaggle.com/humananalog/xgboost-lasso/code\n",
    "\n",
    "Other approaches:\n",
    "\n",
    "Box Cox Transformation of (highly) skewed features\n",
    "\n",
    "https://www.kaggle.com/serigne/stacked-regressions-top-4-on-leaderboard"
   ]
  },
  {
   "cell_type": "code",
   "execution_count": 812,
   "metadata": {},
   "outputs": [
    {
     "name": "stdout",
     "output_type": "stream",
     "text": [
      "<class 'pandas.core.frame.DataFrame'>\n",
      "Int64Index: 4789 entries, 0 to 27944\n",
      "Data columns (total 17 columns):\n",
      "contract_nr                 4789 non-null int64\n",
      "sf_class_tpl                4789 non-null object\n",
      "sf_class_fc                 4789 non-null object\n",
      "age_insured_person          4789 non-null int64\n",
      "policy_start                4786 non-null object\n",
      "tariff_type                 4789 non-null object\n",
      "type_of_insurance           4789 non-null object\n",
      "fc_deductible               4789 non-null int64\n",
      "pc_deductible               4789 non-null int64\n",
      "payment_interval            4789 non-null object\n",
      "insured_parties             4789 non-null object\n",
      "profession_group            4789 non-null object\n",
      "car_age_at_purchase         4789 non-null int64\n",
      "car_age_contract_start      4789 non-null int64\n",
      "annual_mileage              4789 non-null int64\n",
      "risk_predictor_zip_code     4789 non-null object\n",
      "number_of_payment_faults    4789 non-null float64\n",
      "dtypes: float64(1), int64(7), object(9)\n",
      "memory usage: 673.5+ KB\n"
     ]
    }
   ],
   "source": [
    "df_train.info()"
   ]
  },
  {
   "cell_type": "code",
   "execution_count": 813,
   "metadata": {},
   "outputs": [],
   "source": [
    "numeric_features = ['fc_deductible', 'pc_deductible', 'car_age_at_purchase', \n",
    "                    'car_age_contract_start', 'annual_mileage'] "
   ]
  },
  {
   "cell_type": "code",
   "execution_count": 814,
   "metadata": {},
   "outputs": [],
   "source": [
    "skewed = df_train[numeric_features].apply(lambda x: skew(x.dropna().astype(int)))\n",
    "skewed = skewed[skewed > 0.75]\n",
    "skewed = skewed.index\n",
    "\n",
    "df_train[skewed] = np.log1p(df_train[skewed])\n",
    "df_test[skewed]  = np.log1p(df_test[skewed])"
   ]
  },
  {
   "cell_type": "markdown",
   "metadata": {},
   "source": [
    "- ### Outliers\n",
    "\n",
    "Some outliers could be removed, however outliers removal is note always safe. \n",
    "I decided not to delete any of the outliers, because I found there are many outliers in the dataset.\n",
    "On the other hand, as indicated by https://www.kaggle.com/serigne/stacked-regressions-top-4-on-leaderboard\n",
    "removing all outliers may affect badly the models if ever there were also outliers in the test data. That's why , instead of removing them all, we will just manage to make some of our models robust on them. \n"
   ]
  },
  {
   "cell_type": "code",
   "execution_count": null,
   "metadata": {},
   "outputs": [],
   "source": []
  },
  {
   "cell_type": "markdown",
   "metadata": {},
   "source": [
    "- ### Scale numerical features"
   ]
  },
  {
   "cell_type": "code",
   "execution_count": 815,
   "metadata": {},
   "outputs": [],
   "source": [
    "numeric_features = ['fc_deductible', 'pc_deductible', 'car_age_at_purchase', \n",
    "                    'car_age_contract_start', 'annual_mileage'] \n",
    "\n",
    "scaler = StandardScaler()\n",
    "scaler.fit(df_train[numeric_features])\n",
    "\n",
    "scaled = scaler.transform(df_train[numeric_features])\n",
    "for i, col in enumerate(numeric_features):\n",
    "    df_train[col] = scaled[:, i]\n",
    "    \n",
    "scaled = scaler.transform(df_test[numeric_features])\n",
    "for i, col in enumerate(numeric_features):\n",
    "    df_test[col] = scaled[:, i]\n"
   ]
  },
  {
   "cell_type": "markdown",
   "metadata": {},
   "source": [
    "- ### One-hot encode categorical features\n"
   ]
  },
  {
   "cell_type": "code",
   "execution_count": 816,
   "metadata": {},
   "outputs": [],
   "source": [
    "categorical_features = ['sf_class_tpl', 'sf_class_fc', 'policy_start', 'tariff_type', 'type_of_insurance', \n",
    "                        'payment_interval', 'insured_parties', 'profession_group', 'risk_predictor_zip_code'] "
   ]
  },
  {
   "cell_type": "code",
   "execution_count": 817,
   "metadata": {},
   "outputs": [],
   "source": [
    "#http://queirozf.com/entries/one-hot-encoding-a-feature-on-a-pandas-dataframe-an-example\n",
    "#https://stackoverflow.com/questions/41335718/keep-same-dummy-variable-in-training-and-testing-data\n",
    "dataset = pd.concat(objs=[df_train, df_test], axis=0)\n",
    "\n",
    "for categorical_feature in categorical_features:\n",
    "    dataset = pd.concat([dataset, \n",
    "                         pd.get_dummies(dataset[categorical_feature], prefix=categorical_feature, dummy_na=True)], \n",
    "                        axis=1)\n",
    "    \n",
    "    # now drop the original 'country' column (you don't need it anymore)\n",
    "    dataset.drop([categorical_feature], axis=1, inplace=True)\n",
    "\n",
    "train_len = len(df_train)\n",
    "df_train = dataset[:train_len]\n",
    "df_test = dataset[train_len:]"
   ]
  },
  {
   "cell_type": "code",
   "execution_count": 818,
   "metadata": {},
   "outputs": [
    {
     "name": "stdout",
     "output_type": "stream",
     "text": [
      "Index(['contract_nr', 'age_insured_person', 'fc_deductible', 'pc_deductible',\n",
      "       'car_age_at_purchase', 'car_age_contract_start', 'annual_mileage',\n",
      "       'number_of_payment_faults', 'sf_class_tpl_0', 'sf_class_tpl_M',\n",
      "       ...\n",
      "       'risk_predictor_zip_code_2.0', 'risk_predictor_zip_code_3.0',\n",
      "       'risk_predictor_zip_code_4.0', 'risk_predictor_zip_code_5.0',\n",
      "       'risk_predictor_zip_code_6.0', 'risk_predictor_zip_code_7.0',\n",
      "       'risk_predictor_zip_code_8.0', 'risk_predictor_zip_code_9.0',\n",
      "       'risk_predictor_zip_code_nan', 'risk_predictor_zip_code_nan'],\n",
      "      dtype='object', length=136)\n"
     ]
    }
   ],
   "source": [
    "print(df_train.columns)"
   ]
  },
  {
   "cell_type": "markdown",
   "metadata": {},
   "source": [
    "- ### Convert boolean features to integer\n",
    "We could also convert boolean features with one-hot encoding, if we want to us linear regression, neural networks, svm as regressors."
   ]
  },
  {
   "cell_type": "code",
   "execution_count": 819,
   "metadata": {},
   "outputs": [
    {
     "data": {
      "text/html": [
       "<div>\n",
       "<style scoped>\n",
       "    .dataframe tbody tr th:only-of-type {\n",
       "        vertical-align: middle;\n",
       "    }\n",
       "\n",
       "    .dataframe tbody tr th {\n",
       "        vertical-align: top;\n",
       "    }\n",
       "\n",
       "    .dataframe thead th {\n",
       "        text-align: right;\n",
       "    }\n",
       "</style>\n",
       "<table border=\"1\" class=\"dataframe\">\n",
       "  <thead>\n",
       "    <tr style=\"text-align: right;\">\n",
       "      <th></th>\n",
       "      <th>contract_nr</th>\n",
       "      <th>age_insured_person</th>\n",
       "      <th>fc_deductible</th>\n",
       "      <th>pc_deductible</th>\n",
       "      <th>car_age_at_purchase</th>\n",
       "      <th>car_age_contract_start</th>\n",
       "      <th>annual_mileage</th>\n",
       "      <th>number_of_payment_faults</th>\n",
       "      <th>sf_class_tpl_0</th>\n",
       "      <th>sf_class_tpl_M</th>\n",
       "      <th>...</th>\n",
       "      <th>risk_predictor_zip_code_2.0</th>\n",
       "      <th>risk_predictor_zip_code_3.0</th>\n",
       "      <th>risk_predictor_zip_code_4.0</th>\n",
       "      <th>risk_predictor_zip_code_5.0</th>\n",
       "      <th>risk_predictor_zip_code_6.0</th>\n",
       "      <th>risk_predictor_zip_code_7.0</th>\n",
       "      <th>risk_predictor_zip_code_8.0</th>\n",
       "      <th>risk_predictor_zip_code_9.0</th>\n",
       "      <th>risk_predictor_zip_code_nan</th>\n",
       "      <th>risk_predictor_zip_code_nan</th>\n",
       "    </tr>\n",
       "  </thead>\n",
       "  <tbody>\n",
       "    <tr>\n",
       "      <th>0</th>\n",
       "      <td>1</td>\n",
       "      <td>34</td>\n",
       "      <td>-0.574</td>\n",
       "      <td>-1.016</td>\n",
       "      <td>-0.048</td>\n",
       "      <td>-0.216</td>\n",
       "      <td>0.204</td>\n",
       "      <td>1.000</td>\n",
       "      <td>0</td>\n",
       "      <td>0</td>\n",
       "      <td>...</td>\n",
       "      <td>0</td>\n",
       "      <td>0</td>\n",
       "      <td>0</td>\n",
       "      <td>1</td>\n",
       "      <td>0</td>\n",
       "      <td>0</td>\n",
       "      <td>0</td>\n",
       "      <td>0</td>\n",
       "      <td>0</td>\n",
       "      <td>0</td>\n",
       "    </tr>\n",
       "    <tr>\n",
       "      <th>33</th>\n",
       "      <td>34</td>\n",
       "      <td>47</td>\n",
       "      <td>-0.574</td>\n",
       "      <td>0.950</td>\n",
       "      <td>-0.331</td>\n",
       "      <td>-0.528</td>\n",
       "      <td>-0.380</td>\n",
       "      <td>1.000</td>\n",
       "      <td>0</td>\n",
       "      <td>0</td>\n",
       "      <td>...</td>\n",
       "      <td>0</td>\n",
       "      <td>0</td>\n",
       "      <td>0</td>\n",
       "      <td>0</td>\n",
       "      <td>0</td>\n",
       "      <td>0</td>\n",
       "      <td>1</td>\n",
       "      <td>0</td>\n",
       "      <td>0</td>\n",
       "      <td>0</td>\n",
       "    </tr>\n",
       "    <tr>\n",
       "      <th>35</th>\n",
       "      <td>36</td>\n",
       "      <td>37</td>\n",
       "      <td>-0.574</td>\n",
       "      <td>-1.016</td>\n",
       "      <td>0.657</td>\n",
       "      <td>0.562</td>\n",
       "      <td>-1.203</td>\n",
       "      <td>2.000</td>\n",
       "      <td>0</td>\n",
       "      <td>0</td>\n",
       "      <td>...</td>\n",
       "      <td>0</td>\n",
       "      <td>0</td>\n",
       "      <td>0</td>\n",
       "      <td>1</td>\n",
       "      <td>0</td>\n",
       "      <td>0</td>\n",
       "      <td>0</td>\n",
       "      <td>0</td>\n",
       "      <td>0</td>\n",
       "      <td>0</td>\n",
       "    </tr>\n",
       "    <tr>\n",
       "      <th>38</th>\n",
       "      <td>39</td>\n",
       "      <td>42</td>\n",
       "      <td>-0.574</td>\n",
       "      <td>0.950</td>\n",
       "      <td>-1.319</td>\n",
       "      <td>-1.617</td>\n",
       "      <td>0.657</td>\n",
       "      <td>2.000</td>\n",
       "      <td>0</td>\n",
       "      <td>0</td>\n",
       "      <td>...</td>\n",
       "      <td>0</td>\n",
       "      <td>0</td>\n",
       "      <td>0</td>\n",
       "      <td>0</td>\n",
       "      <td>0</td>\n",
       "      <td>0</td>\n",
       "      <td>0</td>\n",
       "      <td>0</td>\n",
       "      <td>0</td>\n",
       "      <td>0</td>\n",
       "    </tr>\n",
       "    <tr>\n",
       "      <th>47</th>\n",
       "      <td>48</td>\n",
       "      <td>63</td>\n",
       "      <td>1.680</td>\n",
       "      <td>0.950</td>\n",
       "      <td>-0.895</td>\n",
       "      <td>-1.150</td>\n",
       "      <td>0.204</td>\n",
       "      <td>1.000</td>\n",
       "      <td>0</td>\n",
       "      <td>0</td>\n",
       "      <td>...</td>\n",
       "      <td>0</td>\n",
       "      <td>0</td>\n",
       "      <td>0</td>\n",
       "      <td>1</td>\n",
       "      <td>0</td>\n",
       "      <td>0</td>\n",
       "      <td>0</td>\n",
       "      <td>0</td>\n",
       "      <td>0</td>\n",
       "      <td>0</td>\n",
       "    </tr>\n",
       "  </tbody>\n",
       "</table>\n",
       "<p>5 rows × 136 columns</p>\n",
       "</div>"
      ],
      "text/plain": [
       "    contract_nr  age_insured_person  fc_deductible  pc_deductible  \\\n",
       "0             1                  34         -0.574         -1.016   \n",
       "33           34                  47         -0.574          0.950   \n",
       "35           36                  37         -0.574         -1.016   \n",
       "38           39                  42         -0.574          0.950   \n",
       "47           48                  63          1.680          0.950   \n",
       "\n",
       "    car_age_at_purchase  car_age_contract_start  annual_mileage  \\\n",
       "0                -0.048                  -0.216           0.204   \n",
       "33               -0.331                  -0.528          -0.380   \n",
       "35                0.657                   0.562          -1.203   \n",
       "38               -1.319                  -1.617           0.657   \n",
       "47               -0.895                  -1.150           0.204   \n",
       "\n",
       "    number_of_payment_faults  sf_class_tpl_0  sf_class_tpl_M  ...  \\\n",
       "0                      1.000               0               0  ...   \n",
       "33                     1.000               0               0  ...   \n",
       "35                     2.000               0               0  ...   \n",
       "38                     2.000               0               0  ...   \n",
       "47                     1.000               0               0  ...   \n",
       "\n",
       "    risk_predictor_zip_code_2.0  risk_predictor_zip_code_3.0  \\\n",
       "0                             0                            0   \n",
       "33                            0                            0   \n",
       "35                            0                            0   \n",
       "38                            0                            0   \n",
       "47                            0                            0   \n",
       "\n",
       "    risk_predictor_zip_code_4.0  risk_predictor_zip_code_5.0  \\\n",
       "0                             0                            1   \n",
       "33                            0                            0   \n",
       "35                            0                            1   \n",
       "38                            0                            0   \n",
       "47                            0                            1   \n",
       "\n",
       "    risk_predictor_zip_code_6.0  risk_predictor_zip_code_7.0  \\\n",
       "0                             0                            0   \n",
       "33                            0                            0   \n",
       "35                            0                            0   \n",
       "38                            0                            0   \n",
       "47                            0                            0   \n",
       "\n",
       "    risk_predictor_zip_code_8.0  risk_predictor_zip_code_9.0  \\\n",
       "0                             0                            0   \n",
       "33                            1                            0   \n",
       "35                            0                            0   \n",
       "38                            0                            0   \n",
       "47                            0                            0   \n",
       "\n",
       "    risk_predictor_zip_code_nan  risk_predictor_zip_code_nan  \n",
       "0                             0                            0  \n",
       "33                            0                            0  \n",
       "35                            0                            0  \n",
       "38                            0                            0  \n",
       "47                            0                            0  \n",
       "\n",
       "[5 rows x 136 columns]"
      ]
     },
     "execution_count": 819,
     "metadata": {},
     "output_type": "execute_result"
    }
   ],
   "source": [
    "df_train.head()"
   ]
  },
  {
   "cell_type": "code",
   "execution_count": 820,
   "metadata": {},
   "outputs": [
    {
     "name": "stdout",
     "output_type": "stream",
     "text": [
      "Index([], dtype='object')\n"
     ]
    }
   ],
   "source": [
    "bool_feature_columns = df_train.dtypes[df_train.dtypes == \"bool\"].index\n",
    "bool_feature_columns.values\n",
    "\n",
    "print(bool_feature_columns)"
   ]
  },
  {
   "cell_type": "code",
   "execution_count": 821,
   "metadata": {},
   "outputs": [],
   "source": [
    "for bool_feature_col in bool_feature_columns:\n",
    "    df_train[bool_feature_col] = df_train[bool_feature_col].astype('int32')\n",
    "    df_test[bool_feature_col] = df_test[bool_feature_col].astype('int32')"
   ]
  },
  {
   "cell_type": "code",
   "execution_count": 822,
   "metadata": {},
   "outputs": [
    {
     "data": {
      "text/html": [
       "<div>\n",
       "<style scoped>\n",
       "    .dataframe tbody tr th:only-of-type {\n",
       "        vertical-align: middle;\n",
       "    }\n",
       "\n",
       "    .dataframe tbody tr th {\n",
       "        vertical-align: top;\n",
       "    }\n",
       "\n",
       "    .dataframe thead th {\n",
       "        text-align: right;\n",
       "    }\n",
       "</style>\n",
       "<table border=\"1\" class=\"dataframe\">\n",
       "  <thead>\n",
       "    <tr style=\"text-align: right;\">\n",
       "      <th></th>\n",
       "      <th>contract_nr</th>\n",
       "      <th>age_insured_person</th>\n",
       "      <th>fc_deductible</th>\n",
       "      <th>pc_deductible</th>\n",
       "      <th>car_age_at_purchase</th>\n",
       "      <th>car_age_contract_start</th>\n",
       "      <th>annual_mileage</th>\n",
       "      <th>number_of_payment_faults</th>\n",
       "      <th>sf_class_tpl_0</th>\n",
       "      <th>sf_class_tpl_M</th>\n",
       "      <th>...</th>\n",
       "      <th>risk_predictor_zip_code_2.0</th>\n",
       "      <th>risk_predictor_zip_code_3.0</th>\n",
       "      <th>risk_predictor_zip_code_4.0</th>\n",
       "      <th>risk_predictor_zip_code_5.0</th>\n",
       "      <th>risk_predictor_zip_code_6.0</th>\n",
       "      <th>risk_predictor_zip_code_7.0</th>\n",
       "      <th>risk_predictor_zip_code_8.0</th>\n",
       "      <th>risk_predictor_zip_code_9.0</th>\n",
       "      <th>risk_predictor_zip_code_nan</th>\n",
       "      <th>risk_predictor_zip_code_nan</th>\n",
       "    </tr>\n",
       "  </thead>\n",
       "  <tbody>\n",
       "    <tr>\n",
       "      <th>0</th>\n",
       "      <td>1</td>\n",
       "      <td>34</td>\n",
       "      <td>-0.574</td>\n",
       "      <td>-1.016</td>\n",
       "      <td>-0.048</td>\n",
       "      <td>-0.216</td>\n",
       "      <td>0.204</td>\n",
       "      <td>1.000</td>\n",
       "      <td>0</td>\n",
       "      <td>0</td>\n",
       "      <td>...</td>\n",
       "      <td>0</td>\n",
       "      <td>0</td>\n",
       "      <td>0</td>\n",
       "      <td>1</td>\n",
       "      <td>0</td>\n",
       "      <td>0</td>\n",
       "      <td>0</td>\n",
       "      <td>0</td>\n",
       "      <td>0</td>\n",
       "      <td>0</td>\n",
       "    </tr>\n",
       "    <tr>\n",
       "      <th>33</th>\n",
       "      <td>34</td>\n",
       "      <td>47</td>\n",
       "      <td>-0.574</td>\n",
       "      <td>0.950</td>\n",
       "      <td>-0.331</td>\n",
       "      <td>-0.528</td>\n",
       "      <td>-0.380</td>\n",
       "      <td>1.000</td>\n",
       "      <td>0</td>\n",
       "      <td>0</td>\n",
       "      <td>...</td>\n",
       "      <td>0</td>\n",
       "      <td>0</td>\n",
       "      <td>0</td>\n",
       "      <td>0</td>\n",
       "      <td>0</td>\n",
       "      <td>0</td>\n",
       "      <td>1</td>\n",
       "      <td>0</td>\n",
       "      <td>0</td>\n",
       "      <td>0</td>\n",
       "    </tr>\n",
       "    <tr>\n",
       "      <th>35</th>\n",
       "      <td>36</td>\n",
       "      <td>37</td>\n",
       "      <td>-0.574</td>\n",
       "      <td>-1.016</td>\n",
       "      <td>0.657</td>\n",
       "      <td>0.562</td>\n",
       "      <td>-1.203</td>\n",
       "      <td>2.000</td>\n",
       "      <td>0</td>\n",
       "      <td>0</td>\n",
       "      <td>...</td>\n",
       "      <td>0</td>\n",
       "      <td>0</td>\n",
       "      <td>0</td>\n",
       "      <td>1</td>\n",
       "      <td>0</td>\n",
       "      <td>0</td>\n",
       "      <td>0</td>\n",
       "      <td>0</td>\n",
       "      <td>0</td>\n",
       "      <td>0</td>\n",
       "    </tr>\n",
       "    <tr>\n",
       "      <th>38</th>\n",
       "      <td>39</td>\n",
       "      <td>42</td>\n",
       "      <td>-0.574</td>\n",
       "      <td>0.950</td>\n",
       "      <td>-1.319</td>\n",
       "      <td>-1.617</td>\n",
       "      <td>0.657</td>\n",
       "      <td>2.000</td>\n",
       "      <td>0</td>\n",
       "      <td>0</td>\n",
       "      <td>...</td>\n",
       "      <td>0</td>\n",
       "      <td>0</td>\n",
       "      <td>0</td>\n",
       "      <td>0</td>\n",
       "      <td>0</td>\n",
       "      <td>0</td>\n",
       "      <td>0</td>\n",
       "      <td>0</td>\n",
       "      <td>0</td>\n",
       "      <td>0</td>\n",
       "    </tr>\n",
       "    <tr>\n",
       "      <th>47</th>\n",
       "      <td>48</td>\n",
       "      <td>63</td>\n",
       "      <td>1.680</td>\n",
       "      <td>0.950</td>\n",
       "      <td>-0.895</td>\n",
       "      <td>-1.150</td>\n",
       "      <td>0.204</td>\n",
       "      <td>1.000</td>\n",
       "      <td>0</td>\n",
       "      <td>0</td>\n",
       "      <td>...</td>\n",
       "      <td>0</td>\n",
       "      <td>0</td>\n",
       "      <td>0</td>\n",
       "      <td>1</td>\n",
       "      <td>0</td>\n",
       "      <td>0</td>\n",
       "      <td>0</td>\n",
       "      <td>0</td>\n",
       "      <td>0</td>\n",
       "      <td>0</td>\n",
       "    </tr>\n",
       "  </tbody>\n",
       "</table>\n",
       "<p>5 rows × 136 columns</p>\n",
       "</div>"
      ],
      "text/plain": [
       "    contract_nr  age_insured_person  fc_deductible  pc_deductible  \\\n",
       "0             1                  34         -0.574         -1.016   \n",
       "33           34                  47         -0.574          0.950   \n",
       "35           36                  37         -0.574         -1.016   \n",
       "38           39                  42         -0.574          0.950   \n",
       "47           48                  63          1.680          0.950   \n",
       "\n",
       "    car_age_at_purchase  car_age_contract_start  annual_mileage  \\\n",
       "0                -0.048                  -0.216           0.204   \n",
       "33               -0.331                  -0.528          -0.380   \n",
       "35                0.657                   0.562          -1.203   \n",
       "38               -1.319                  -1.617           0.657   \n",
       "47               -0.895                  -1.150           0.204   \n",
       "\n",
       "    number_of_payment_faults  sf_class_tpl_0  sf_class_tpl_M  ...  \\\n",
       "0                      1.000               0               0  ...   \n",
       "33                     1.000               0               0  ...   \n",
       "35                     2.000               0               0  ...   \n",
       "38                     2.000               0               0  ...   \n",
       "47                     1.000               0               0  ...   \n",
       "\n",
       "    risk_predictor_zip_code_2.0  risk_predictor_zip_code_3.0  \\\n",
       "0                             0                            0   \n",
       "33                            0                            0   \n",
       "35                            0                            0   \n",
       "38                            0                            0   \n",
       "47                            0                            0   \n",
       "\n",
       "    risk_predictor_zip_code_4.0  risk_predictor_zip_code_5.0  \\\n",
       "0                             0                            1   \n",
       "33                            0                            0   \n",
       "35                            0                            1   \n",
       "38                            0                            0   \n",
       "47                            0                            1   \n",
       "\n",
       "    risk_predictor_zip_code_6.0  risk_predictor_zip_code_7.0  \\\n",
       "0                             0                            0   \n",
       "33                            0                            0   \n",
       "35                            0                            0   \n",
       "38                            0                            0   \n",
       "47                            0                            0   \n",
       "\n",
       "    risk_predictor_zip_code_8.0  risk_predictor_zip_code_9.0  \\\n",
       "0                             0                            0   \n",
       "33                            1                            0   \n",
       "35                            0                            0   \n",
       "38                            0                            0   \n",
       "47                            0                            0   \n",
       "\n",
       "    risk_predictor_zip_code_nan  risk_predictor_zip_code_nan  \n",
       "0                             0                            0  \n",
       "33                            0                            0  \n",
       "35                            0                            0  \n",
       "38                            0                            0  \n",
       "47                            0                            0  \n",
       "\n",
       "[5 rows x 136 columns]"
      ]
     },
     "execution_count": 822,
     "metadata": {},
     "output_type": "execute_result"
    }
   ],
   "source": [
    "df_train.head()"
   ]
  },
  {
   "cell_type": "markdown",
   "metadata": {},
   "source": [
    "- ### Log-transformation of the target variable\n",
    "\n",
    "As (linear) models work well on normally distributed data, we need to transform the variable and make it more normally distributed."
   ]
  },
  {
   "cell_type": "code",
   "execution_count": 823,
   "metadata": {},
   "outputs": [],
   "source": [
    "# https://www.kaggle.com/humananalog/xgboost-lasso/code\n",
    "# https://www.kaggle.com/serigne/stacked-regressions-top-4-on-leaderboard\n",
    "\n",
    "df_train['number_of_payment_faults'] = df_train['number_of_payment_faults'].astype('int32')\n",
    "\n",
    "df_target = pd.DataFrame(index = df_train.index, columns=['number_of_payment_faults'])\n",
    "df_target['number_of_payment_faults'] = np.log1p(df_train['number_of_payment_faults'])"
   ]
  },
  {
   "cell_type": "markdown",
   "metadata": {},
   "source": [
    "- ### Remove 'contract_nr'\n",
    "'contract_nr' will not be used as a feature to train a classifier"
   ]
  },
  {
   "cell_type": "code",
   "execution_count": 824,
   "metadata": {},
   "outputs": [],
   "source": [
    "df_train_contract_nr = pd.DataFrame(index = df_train.index, columns=['contract_nr']) \n",
    "df_train_contract_nr['contract_nr'] = df_train['contract_nr']\n",
    "\n",
    "df_test_contract_nr  = pd.DataFrame(index = df_test.index, columns=['contract_nr'])\n",
    "df_test_contract_nr['contract_nr'] = df_test['contract_nr']"
   ]
  },
  {
   "cell_type": "code",
   "execution_count": 825,
   "metadata": {},
   "outputs": [],
   "source": [
    "df_train.drop(['contract_nr'], axis=1, inplace=True)\n",
    "df_test.drop(['contract_nr'], axis=1, inplace=True)"
   ]
  },
  {
   "cell_type": "code",
   "execution_count": 826,
   "metadata": {},
   "outputs": [
    {
     "name": "stdout",
     "output_type": "stream",
     "text": [
      "Training set size: (4789, 135)\n",
      "Training target set size: (4789, 1)\n",
      "Test set size: (23161, 135)\n"
     ]
    }
   ],
   "source": [
    "print(\"Training set size:\", df_train.shape)\n",
    "print(\"Training target set size:\", df_target.shape)\n",
    "print(\"Test set size:\", df_test.shape)"
   ]
  },
  {
   "cell_type": "markdown",
   "metadata": {},
   "source": [
    "- ### Remove highly correlated features"
   ]
  },
  {
   "cell_type": "code",
   "execution_count": 827,
   "metadata": {},
   "outputs": [],
   "source": [
    "#plt.figure(figsize=(15, 15))\n",
    "#ax = sns.heatmap(df_train.corr(), vmax=.8, square=True, fmt='.2f', annot=True, linecolor='white', linewidths=0.01)\n",
    "#plt.title('Cross correlation between variables')\n",
    "#plt.show()"
   ]
  },
  {
   "cell_type": "code",
   "execution_count": 828,
   "metadata": {},
   "outputs": [
    {
     "data": {
      "text/plain": [
       "<matplotlib.axes._subplots.AxesSubplot at 0x1a27e89630>"
      ]
     },
     "execution_count": 828,
     "metadata": {},
     "output_type": "execute_result"
    },
    {
     "data": {
      "image/png": "[encoded data removed]",
      "text/plain": [
       "<Figure size 864x648 with 2 Axes>"
      ]
     },
     "metadata": {},
     "output_type": "display_data"
    }
   ],
   "source": [
    "#Correlation map to see how features are correlated with SalePrice\n",
    "corrmat = df_train.corr()\n",
    "plt.subplots(figsize=(12,9))\n",
    "sns.heatmap(corrmat, vmax=0.9, square=True)"
   ]
  },
  {
   "cell_type": "markdown",
   "metadata": {},
   "source": [
    "## 3. Modelling\n",
    "\n",
    "**Reference**\n",
    "\n",
    "https://www.kaggle.com/serigne/stacked-regressions-top-4-on-leaderboard\n",
    "\n",
    "https://xgboost.readthedocs.io/en/release_0.72/tutorials/model.html\n",
    "\n",
    "https://medium.com/mlreview/gradient-boosting-from-scratch-1e317ae4587d\n",
    "\n",
    "https://machinelearningmastery.com/gentle-introduction-gradient-boosting-algorithm-machine-learning/"
   ]
  },
  {
   "cell_type": "code",
   "execution_count": null,
   "metadata": {},
   "outputs": [],
   "source": []
  },
  {
   "cell_type": "code",
   "execution_count": null,
   "metadata": {},
   "outputs": [],
   "source": []
  },
  {
   "cell_type": "code",
   "execution_count": null,
   "metadata": {},
   "outputs": [],
   "source": []
  },
  {
   "cell_type": "code",
   "execution_count": null,
   "metadata": {},
   "outputs": [],
   "source": []
  },
  {
   "cell_type": "code",
   "execution_count": null,
   "metadata": {},
   "outputs": [],
   "source": []
  },
  {
   "cell_type": "code",
   "execution_count": null,
   "metadata": {},
   "outputs": [],
   "source": []
  },
  {
   "cell_type": "code",
   "execution_count": null,
   "metadata": {},
   "outputs": [],
   "source": []
  },
  {
   "cell_type": "code",
   "execution_count": null,
   "metadata": {},
   "outputs": [],
   "source": []
  },
  {
   "cell_type": "code",
   "execution_count": null,
   "metadata": {},
   "outputs": [],
   "source": []
  },
  {
   "cell_type": "code",
   "execution_count": null,
   "metadata": {},
   "outputs": [],
   "source": []
  },
  {
   "cell_type": "code",
   "execution_count": null,
   "metadata": {},
   "outputs": [],
   "source": []
  },
  {
   "cell_type": "code",
   "execution_count": null,
   "metadata": {},
   "outputs": [],
   "source": []
  },
  {
   "cell_type": "code",
   "execution_count": null,
   "metadata": {},
   "outputs": [],
   "source": []
  }
 ],
 "metadata": {
  "kernelspec": {
   "display_name": "Python 3",
   "language": "python",
   "name": "python3"
  },
  "language_info": {
   "codemirror_mode": {
    "name": "ipython",
    "version": 3
   },
   "file_extension": ".py",
   "mimetype": "text/x-python",
   "name": "python",
   "nbconvert_exporter": "python",
   "pygments_lexer": "ipython3",
   "version": "3.6.8"
  }
 },
 "nbformat": 4,
 "nbformat_minor": 2
}
